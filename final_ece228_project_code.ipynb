{
  "cells": [
    {
      "cell_type": "markdown",
      "source": [
        "**ECE 228 Project: Hurricane Prediction code**"
      ],
      "metadata": {
        "id": "JSa9TVo4kIaY"
      }
    },
    {
      "cell_type": "code",
      "execution_count": 1,
      "metadata": {
        "id": "MKZc1FCxrLk6"
      },
      "outputs": [],
      "source": [
        "import pandas as pd\n",
        "import numpy as np\n",
        "import matplotlib.pyplot as plt\n",
        "import math \n",
        "%matplotlib inline\n"
      ]
    },
    {
      "cell_type": "markdown",
      "source": [
        "The data is stored in github and connected to colab notebook."
      ],
      "metadata": {
        "id": "unWnCB68kTxW"
      }
    },
    {
      "cell_type": "code",
      "execution_count": 2,
      "metadata": {
        "colab": {
          "base_uri": "https://localhost:8080/",
          "height": 272
        },
        "id": "7qkz7OsLrjGD",
        "outputId": "dfd4abe9-d474-4874-dd34-c24c23195afe"
      },
      "outputs": [
        {
          "output_type": "execute_result",
          "data": {
            "text/plain": [
              "         ID                 Name      Date  Time Event Status Latitude  \\\n",
              "0  AL011851              UNNAMED  18510625     0           HU    28.0N   \n",
              "1  AL011851              UNNAMED  18510625   600           HU    28.0N   \n",
              "2  AL011851              UNNAMED  18510625  1200           HU    28.0N   \n",
              "\n",
              "  Longitude  Maximum Wind  Minimum Pressure  ...  Low Wind SW  Low Wind NW  \\\n",
              "0     94.8W            80              -999  ...         -999         -999   \n",
              "1     95.4W            80              -999  ...         -999         -999   \n",
              "2     96.0W            80              -999  ...         -999         -999   \n",
              "\n",
              "   Moderate Wind NE  Moderate Wind SE  Moderate Wind SW  Moderate Wind NW  \\\n",
              "0              -999              -999              -999              -999   \n",
              "1              -999              -999              -999              -999   \n",
              "2              -999              -999              -999              -999   \n",
              "\n",
              "   High Wind NE  High Wind SE  High Wind SW  High Wind NW  \n",
              "0          -999          -999          -999          -999  \n",
              "1          -999          -999          -999          -999  \n",
              "2          -999          -999          -999          -999  \n",
              "\n",
              "[3 rows x 22 columns]"
            ],
            "text/html": [
              "\n",
              "  <div id=\"df-5d5250a4-9fc2-4973-b9d6-8a4e6a9ea256\">\n",
              "    <div class=\"colab-df-container\">\n",
              "      <div>\n",
              "<style scoped>\n",
              "    .dataframe tbody tr th:only-of-type {\n",
              "        vertical-align: middle;\n",
              "    }\n",
              "\n",
              "    .dataframe tbody tr th {\n",
              "        vertical-align: top;\n",
              "    }\n",
              "\n",
              "    .dataframe thead th {\n",
              "        text-align: right;\n",
              "    }\n",
              "</style>\n",
              "<table border=\"1\" class=\"dataframe\">\n",
              "  <thead>\n",
              "    <tr style=\"text-align: right;\">\n",
              "      <th></th>\n",
              "      <th>ID</th>\n",
              "      <th>Name</th>\n",
              "      <th>Date</th>\n",
              "      <th>Time</th>\n",
              "      <th>Event</th>\n",
              "      <th>Status</th>\n",
              "      <th>Latitude</th>\n",
              "      <th>Longitude</th>\n",
              "      <th>Maximum Wind</th>\n",
              "      <th>Minimum Pressure</th>\n",
              "      <th>...</th>\n",
              "      <th>Low Wind SW</th>\n",
              "      <th>Low Wind NW</th>\n",
              "      <th>Moderate Wind NE</th>\n",
              "      <th>Moderate Wind SE</th>\n",
              "      <th>Moderate Wind SW</th>\n",
              "      <th>Moderate Wind NW</th>\n",
              "      <th>High Wind NE</th>\n",
              "      <th>High Wind SE</th>\n",
              "      <th>High Wind SW</th>\n",
              "      <th>High Wind NW</th>\n",
              "    </tr>\n",
              "  </thead>\n",
              "  <tbody>\n",
              "    <tr>\n",
              "      <th>0</th>\n",
              "      <td>AL011851</td>\n",
              "      <td>UNNAMED</td>\n",
              "      <td>18510625</td>\n",
              "      <td>0</td>\n",
              "      <td></td>\n",
              "      <td>HU</td>\n",
              "      <td>28.0N</td>\n",
              "      <td>94.8W</td>\n",
              "      <td>80</td>\n",
              "      <td>-999</td>\n",
              "      <td>...</td>\n",
              "      <td>-999</td>\n",
              "      <td>-999</td>\n",
              "      <td>-999</td>\n",
              "      <td>-999</td>\n",
              "      <td>-999</td>\n",
              "      <td>-999</td>\n",
              "      <td>-999</td>\n",
              "      <td>-999</td>\n",
              "      <td>-999</td>\n",
              "      <td>-999</td>\n",
              "    </tr>\n",
              "    <tr>\n",
              "      <th>1</th>\n",
              "      <td>AL011851</td>\n",
              "      <td>UNNAMED</td>\n",
              "      <td>18510625</td>\n",
              "      <td>600</td>\n",
              "      <td></td>\n",
              "      <td>HU</td>\n",
              "      <td>28.0N</td>\n",
              "      <td>95.4W</td>\n",
              "      <td>80</td>\n",
              "      <td>-999</td>\n",
              "      <td>...</td>\n",
              "      <td>-999</td>\n",
              "      <td>-999</td>\n",
              "      <td>-999</td>\n",
              "      <td>-999</td>\n",
              "      <td>-999</td>\n",
              "      <td>-999</td>\n",
              "      <td>-999</td>\n",
              "      <td>-999</td>\n",
              "      <td>-999</td>\n",
              "      <td>-999</td>\n",
              "    </tr>\n",
              "    <tr>\n",
              "      <th>2</th>\n",
              "      <td>AL011851</td>\n",
              "      <td>UNNAMED</td>\n",
              "      <td>18510625</td>\n",
              "      <td>1200</td>\n",
              "      <td></td>\n",
              "      <td>HU</td>\n",
              "      <td>28.0N</td>\n",
              "      <td>96.0W</td>\n",
              "      <td>80</td>\n",
              "      <td>-999</td>\n",
              "      <td>...</td>\n",
              "      <td>-999</td>\n",
              "      <td>-999</td>\n",
              "      <td>-999</td>\n",
              "      <td>-999</td>\n",
              "      <td>-999</td>\n",
              "      <td>-999</td>\n",
              "      <td>-999</td>\n",
              "      <td>-999</td>\n",
              "      <td>-999</td>\n",
              "      <td>-999</td>\n",
              "    </tr>\n",
              "  </tbody>\n",
              "</table>\n",
              "<p>3 rows × 22 columns</p>\n",
              "</div>\n",
              "      <button class=\"colab-df-convert\" onclick=\"convertToInteractive('df-5d5250a4-9fc2-4973-b9d6-8a4e6a9ea256')\"\n",
              "              title=\"Convert this dataframe to an interactive table.\"\n",
              "              style=\"display:none;\">\n",
              "        \n",
              "  <svg xmlns=\"http://www.w3.org/2000/svg\" height=\"24px\"viewBox=\"0 0 24 24\"\n",
              "       width=\"24px\">\n",
              "    <path d=\"M0 0h24v24H0V0z\" fill=\"none\"/>\n",
              "    <path d=\"M18.56 5.44l.94 2.06.94-2.06 2.06-.94-2.06-.94-.94-2.06-.94 2.06-2.06.94zm-11 1L8.5 8.5l.94-2.06 2.06-.94-2.06-.94L8.5 2.5l-.94 2.06-2.06.94zm10 10l.94 2.06.94-2.06 2.06-.94-2.06-.94-.94-2.06-.94 2.06-2.06.94z\"/><path d=\"M17.41 7.96l-1.37-1.37c-.4-.4-.92-.59-1.43-.59-.52 0-1.04.2-1.43.59L10.3 9.45l-7.72 7.72c-.78.78-.78 2.05 0 2.83L4 21.41c.39.39.9.59 1.41.59.51 0 1.02-.2 1.41-.59l7.78-7.78 2.81-2.81c.8-.78.8-2.07 0-2.86zM5.41 20L4 18.59l7.72-7.72 1.47 1.35L5.41 20z\"/>\n",
              "  </svg>\n",
              "      </button>\n",
              "      \n",
              "  <style>\n",
              "    .colab-df-container {\n",
              "      display:flex;\n",
              "      flex-wrap:wrap;\n",
              "      gap: 12px;\n",
              "    }\n",
              "\n",
              "    .colab-df-convert {\n",
              "      background-color: #E8F0FE;\n",
              "      border: none;\n",
              "      border-radius: 50%;\n",
              "      cursor: pointer;\n",
              "      display: none;\n",
              "      fill: #1967D2;\n",
              "      height: 32px;\n",
              "      padding: 0 0 0 0;\n",
              "      width: 32px;\n",
              "    }\n",
              "\n",
              "    .colab-df-convert:hover {\n",
              "      background-color: #E2EBFA;\n",
              "      box-shadow: 0px 1px 2px rgba(60, 64, 67, 0.3), 0px 1px 3px 1px rgba(60, 64, 67, 0.15);\n",
              "      fill: #174EA6;\n",
              "    }\n",
              "\n",
              "    [theme=dark] .colab-df-convert {\n",
              "      background-color: #3B4455;\n",
              "      fill: #D2E3FC;\n",
              "    }\n",
              "\n",
              "    [theme=dark] .colab-df-convert:hover {\n",
              "      background-color: #434B5C;\n",
              "      box-shadow: 0px 1px 3px 1px rgba(0, 0, 0, 0.15);\n",
              "      filter: drop-shadow(0px 1px 2px rgba(0, 0, 0, 0.3));\n",
              "      fill: #FFFFFF;\n",
              "    }\n",
              "  </style>\n",
              "\n",
              "      <script>\n",
              "        const buttonEl =\n",
              "          document.querySelector('#df-5d5250a4-9fc2-4973-b9d6-8a4e6a9ea256 button.colab-df-convert');\n",
              "        buttonEl.style.display =\n",
              "          google.colab.kernel.accessAllowed ? 'block' : 'none';\n",
              "\n",
              "        async function convertToInteractive(key) {\n",
              "          const element = document.querySelector('#df-5d5250a4-9fc2-4973-b9d6-8a4e6a9ea256');\n",
              "          const dataTable =\n",
              "            await google.colab.kernel.invokeFunction('convertToInteractive',\n",
              "                                                     [key], {});\n",
              "          if (!dataTable) return;\n",
              "\n",
              "          const docLinkHtml = 'Like what you see? Visit the ' +\n",
              "            '<a target=\"_blank\" href=https://colab.research.google.com/notebooks/data_table.ipynb>data table notebook</a>'\n",
              "            + ' to learn more about interactive tables.';\n",
              "          element.innerHTML = '';\n",
              "          dataTable['output_type'] = 'display_data';\n",
              "          await google.colab.output.renderOutput(dataTable, element);\n",
              "          const docLink = document.createElement('div');\n",
              "          docLink.innerHTML = docLinkHtml;\n",
              "          element.appendChild(docLink);\n",
              "        }\n",
              "      </script>\n",
              "    </div>\n",
              "  </div>\n",
              "  "
            ]
          },
          "metadata": {},
          "execution_count": 2
        }
      ],
      "source": [
        "data= pd.read_csv(\"https://raw.githubusercontent.com/Sang555/ece228/main/atlantic.csv\")\n",
        "data.head(3)"
      ]
    },
    {
      "cell_type": "code",
      "execution_count": 3,
      "metadata": {
        "colab": {
          "base_uri": "https://localhost:8080/",
          "height": 382
        },
        "id": "1toltHd8uUP0",
        "outputId": "e0d0dc73-3eaa-483d-c6c6-29fec540d5d9"
      },
      "outputs": [
        {
          "output_type": "execute_result",
          "data": {
            "text/plain": [
              "               Date          Time  Maximum Wind  Minimum Pressure  \\\n",
              "count  4.910500e+04  49105.000000  49105.000000      49105.000000   \n",
              "mean   1.949802e+07    910.125975     52.005091       -251.406496   \n",
              "std    4.461850e+05    671.043363     27.681902        964.313907   \n",
              "min    1.851062e+07      0.000000    -99.000000       -999.000000   \n",
              "25%    1.911110e+07    600.000000     35.000000       -999.000000   \n",
              "50%    1.956093e+07   1200.000000     45.000000       -999.000000   \n",
              "75%    1.989081e+07   1800.000000     70.000000        990.000000   \n",
              "max    2.015111e+07   2330.000000    165.000000       1024.000000   \n",
              "\n",
              "        Low Wind NE   Low Wind SE   Low Wind SW   Low Wind NW  \\\n",
              "count  49105.000000  49105.000000  49105.000000  49105.000000   \n",
              "mean    -868.671031   -869.315772   -872.676428   -871.409245   \n",
              "std      353.299666    351.548910    342.153768    345.628984   \n",
              "min     -999.000000   -999.000000   -999.000000   -999.000000   \n",
              "25%     -999.000000   -999.000000   -999.000000   -999.000000   \n",
              "50%     -999.000000   -999.000000   -999.000000   -999.000000   \n",
              "75%     -999.000000   -999.000000   -999.000000   -999.000000   \n",
              "max      710.000000    600.000000    640.000000    530.000000   \n",
              "\n",
              "       Moderate Wind NE  Moderate Wind SE  Moderate Wind SW  Moderate Wind NW  \\\n",
              "count      49105.000000      49105.000000      49105.000000      49105.000000   \n",
              "mean        -875.570940       -875.765319       -876.682028       -876.323205   \n",
              "std          333.651396        333.133376        330.526085        331.535176   \n",
              "min         -999.000000       -999.000000       -999.000000       -999.000000   \n",
              "25%         -999.000000       -999.000000       -999.000000       -999.000000   \n",
              "50%         -999.000000       -999.000000       -999.000000       -999.000000   \n",
              "75%         -999.000000       -999.000000       -999.000000       -999.000000   \n",
              "max          360.000000        300.000000        330.000000        360.000000   \n",
              "\n",
              "       High Wind NE  High Wind SE  High Wind SW  High Wind NW  \n",
              "count  49105.000000  49105.000000  49105.000000  49105.000000  \n",
              "mean    -877.564321   -877.655045   -877.923552   -877.786295  \n",
              "std      328.027275    327.774794    327.021430    327.408253  \n",
              "min     -999.000000   -999.000000   -999.000000   -999.000000  \n",
              "25%     -999.000000   -999.000000   -999.000000   -999.000000  \n",
              "50%     -999.000000   -999.000000   -999.000000   -999.000000  \n",
              "75%     -999.000000   -999.000000   -999.000000   -999.000000  \n",
              "max      180.000000    250.000000    150.000000    180.000000  "
            ],
            "text/html": [
              "\n",
              "  <div id=\"df-da6e5ad2-8a17-4e5d-a27f-3dcba1fd024b\">\n",
              "    <div class=\"colab-df-container\">\n",
              "      <div>\n",
              "<style scoped>\n",
              "    .dataframe tbody tr th:only-of-type {\n",
              "        vertical-align: middle;\n",
              "    }\n",
              "\n",
              "    .dataframe tbody tr th {\n",
              "        vertical-align: top;\n",
              "    }\n",
              "\n",
              "    .dataframe thead th {\n",
              "        text-align: right;\n",
              "    }\n",
              "</style>\n",
              "<table border=\"1\" class=\"dataframe\">\n",
              "  <thead>\n",
              "    <tr style=\"text-align: right;\">\n",
              "      <th></th>\n",
              "      <th>Date</th>\n",
              "      <th>Time</th>\n",
              "      <th>Maximum Wind</th>\n",
              "      <th>Minimum Pressure</th>\n",
              "      <th>Low Wind NE</th>\n",
              "      <th>Low Wind SE</th>\n",
              "      <th>Low Wind SW</th>\n",
              "      <th>Low Wind NW</th>\n",
              "      <th>Moderate Wind NE</th>\n",
              "      <th>Moderate Wind SE</th>\n",
              "      <th>Moderate Wind SW</th>\n",
              "      <th>Moderate Wind NW</th>\n",
              "      <th>High Wind NE</th>\n",
              "      <th>High Wind SE</th>\n",
              "      <th>High Wind SW</th>\n",
              "      <th>High Wind NW</th>\n",
              "    </tr>\n",
              "  </thead>\n",
              "  <tbody>\n",
              "    <tr>\n",
              "      <th>count</th>\n",
              "      <td>4.910500e+04</td>\n",
              "      <td>49105.000000</td>\n",
              "      <td>49105.000000</td>\n",
              "      <td>49105.000000</td>\n",
              "      <td>49105.000000</td>\n",
              "      <td>49105.000000</td>\n",
              "      <td>49105.000000</td>\n",
              "      <td>49105.000000</td>\n",
              "      <td>49105.000000</td>\n",
              "      <td>49105.000000</td>\n",
              "      <td>49105.000000</td>\n",
              "      <td>49105.000000</td>\n",
              "      <td>49105.000000</td>\n",
              "      <td>49105.000000</td>\n",
              "      <td>49105.000000</td>\n",
              "      <td>49105.000000</td>\n",
              "    </tr>\n",
              "    <tr>\n",
              "      <th>mean</th>\n",
              "      <td>1.949802e+07</td>\n",
              "      <td>910.125975</td>\n",
              "      <td>52.005091</td>\n",
              "      <td>-251.406496</td>\n",
              "      <td>-868.671031</td>\n",
              "      <td>-869.315772</td>\n",
              "      <td>-872.676428</td>\n",
              "      <td>-871.409245</td>\n",
              "      <td>-875.570940</td>\n",
              "      <td>-875.765319</td>\n",
              "      <td>-876.682028</td>\n",
              "      <td>-876.323205</td>\n",
              "      <td>-877.564321</td>\n",
              "      <td>-877.655045</td>\n",
              "      <td>-877.923552</td>\n",
              "      <td>-877.786295</td>\n",
              "    </tr>\n",
              "    <tr>\n",
              "      <th>std</th>\n",
              "      <td>4.461850e+05</td>\n",
              "      <td>671.043363</td>\n",
              "      <td>27.681902</td>\n",
              "      <td>964.313907</td>\n",
              "      <td>353.299666</td>\n",
              "      <td>351.548910</td>\n",
              "      <td>342.153768</td>\n",
              "      <td>345.628984</td>\n",
              "      <td>333.651396</td>\n",
              "      <td>333.133376</td>\n",
              "      <td>330.526085</td>\n",
              "      <td>331.535176</td>\n",
              "      <td>328.027275</td>\n",
              "      <td>327.774794</td>\n",
              "      <td>327.021430</td>\n",
              "      <td>327.408253</td>\n",
              "    </tr>\n",
              "    <tr>\n",
              "      <th>min</th>\n",
              "      <td>1.851062e+07</td>\n",
              "      <td>0.000000</td>\n",
              "      <td>-99.000000</td>\n",
              "      <td>-999.000000</td>\n",
              "      <td>-999.000000</td>\n",
              "      <td>-999.000000</td>\n",
              "      <td>-999.000000</td>\n",
              "      <td>-999.000000</td>\n",
              "      <td>-999.000000</td>\n",
              "      <td>-999.000000</td>\n",
              "      <td>-999.000000</td>\n",
              "      <td>-999.000000</td>\n",
              "      <td>-999.000000</td>\n",
              "      <td>-999.000000</td>\n",
              "      <td>-999.000000</td>\n",
              "      <td>-999.000000</td>\n",
              "    </tr>\n",
              "    <tr>\n",
              "      <th>25%</th>\n",
              "      <td>1.911110e+07</td>\n",
              "      <td>600.000000</td>\n",
              "      <td>35.000000</td>\n",
              "      <td>-999.000000</td>\n",
              "      <td>-999.000000</td>\n",
              "      <td>-999.000000</td>\n",
              "      <td>-999.000000</td>\n",
              "      <td>-999.000000</td>\n",
              "      <td>-999.000000</td>\n",
              "      <td>-999.000000</td>\n",
              "      <td>-999.000000</td>\n",
              "      <td>-999.000000</td>\n",
              "      <td>-999.000000</td>\n",
              "      <td>-999.000000</td>\n",
              "      <td>-999.000000</td>\n",
              "      <td>-999.000000</td>\n",
              "    </tr>\n",
              "    <tr>\n",
              "      <th>50%</th>\n",
              "      <td>1.956093e+07</td>\n",
              "      <td>1200.000000</td>\n",
              "      <td>45.000000</td>\n",
              "      <td>-999.000000</td>\n",
              "      <td>-999.000000</td>\n",
              "      <td>-999.000000</td>\n",
              "      <td>-999.000000</td>\n",
              "      <td>-999.000000</td>\n",
              "      <td>-999.000000</td>\n",
              "      <td>-999.000000</td>\n",
              "      <td>-999.000000</td>\n",
              "      <td>-999.000000</td>\n",
              "      <td>-999.000000</td>\n",
              "      <td>-999.000000</td>\n",
              "      <td>-999.000000</td>\n",
              "      <td>-999.000000</td>\n",
              "    </tr>\n",
              "    <tr>\n",
              "      <th>75%</th>\n",
              "      <td>1.989081e+07</td>\n",
              "      <td>1800.000000</td>\n",
              "      <td>70.000000</td>\n",
              "      <td>990.000000</td>\n",
              "      <td>-999.000000</td>\n",
              "      <td>-999.000000</td>\n",
              "      <td>-999.000000</td>\n",
              "      <td>-999.000000</td>\n",
              "      <td>-999.000000</td>\n",
              "      <td>-999.000000</td>\n",
              "      <td>-999.000000</td>\n",
              "      <td>-999.000000</td>\n",
              "      <td>-999.000000</td>\n",
              "      <td>-999.000000</td>\n",
              "      <td>-999.000000</td>\n",
              "      <td>-999.000000</td>\n",
              "    </tr>\n",
              "    <tr>\n",
              "      <th>max</th>\n",
              "      <td>2.015111e+07</td>\n",
              "      <td>2330.000000</td>\n",
              "      <td>165.000000</td>\n",
              "      <td>1024.000000</td>\n",
              "      <td>710.000000</td>\n",
              "      <td>600.000000</td>\n",
              "      <td>640.000000</td>\n",
              "      <td>530.000000</td>\n",
              "      <td>360.000000</td>\n",
              "      <td>300.000000</td>\n",
              "      <td>330.000000</td>\n",
              "      <td>360.000000</td>\n",
              "      <td>180.000000</td>\n",
              "      <td>250.000000</td>\n",
              "      <td>150.000000</td>\n",
              "      <td>180.000000</td>\n",
              "    </tr>\n",
              "  </tbody>\n",
              "</table>\n",
              "</div>\n",
              "      <button class=\"colab-df-convert\" onclick=\"convertToInteractive('df-da6e5ad2-8a17-4e5d-a27f-3dcba1fd024b')\"\n",
              "              title=\"Convert this dataframe to an interactive table.\"\n",
              "              style=\"display:none;\">\n",
              "        \n",
              "  <svg xmlns=\"http://www.w3.org/2000/svg\" height=\"24px\"viewBox=\"0 0 24 24\"\n",
              "       width=\"24px\">\n",
              "    <path d=\"M0 0h24v24H0V0z\" fill=\"none\"/>\n",
              "    <path d=\"M18.56 5.44l.94 2.06.94-2.06 2.06-.94-2.06-.94-.94-2.06-.94 2.06-2.06.94zm-11 1L8.5 8.5l.94-2.06 2.06-.94-2.06-.94L8.5 2.5l-.94 2.06-2.06.94zm10 10l.94 2.06.94-2.06 2.06-.94-2.06-.94-.94-2.06-.94 2.06-2.06.94z\"/><path d=\"M17.41 7.96l-1.37-1.37c-.4-.4-.92-.59-1.43-.59-.52 0-1.04.2-1.43.59L10.3 9.45l-7.72 7.72c-.78.78-.78 2.05 0 2.83L4 21.41c.39.39.9.59 1.41.59.51 0 1.02-.2 1.41-.59l7.78-7.78 2.81-2.81c.8-.78.8-2.07 0-2.86zM5.41 20L4 18.59l7.72-7.72 1.47 1.35L5.41 20z\"/>\n",
              "  </svg>\n",
              "      </button>\n",
              "      \n",
              "  <style>\n",
              "    .colab-df-container {\n",
              "      display:flex;\n",
              "      flex-wrap:wrap;\n",
              "      gap: 12px;\n",
              "    }\n",
              "\n",
              "    .colab-df-convert {\n",
              "      background-color: #E8F0FE;\n",
              "      border: none;\n",
              "      border-radius: 50%;\n",
              "      cursor: pointer;\n",
              "      display: none;\n",
              "      fill: #1967D2;\n",
              "      height: 32px;\n",
              "      padding: 0 0 0 0;\n",
              "      width: 32px;\n",
              "    }\n",
              "\n",
              "    .colab-df-convert:hover {\n",
              "      background-color: #E2EBFA;\n",
              "      box-shadow: 0px 1px 2px rgba(60, 64, 67, 0.3), 0px 1px 3px 1px rgba(60, 64, 67, 0.15);\n",
              "      fill: #174EA6;\n",
              "    }\n",
              "\n",
              "    [theme=dark] .colab-df-convert {\n",
              "      background-color: #3B4455;\n",
              "      fill: #D2E3FC;\n",
              "    }\n",
              "\n",
              "    [theme=dark] .colab-df-convert:hover {\n",
              "      background-color: #434B5C;\n",
              "      box-shadow: 0px 1px 3px 1px rgba(0, 0, 0, 0.15);\n",
              "      filter: drop-shadow(0px 1px 2px rgba(0, 0, 0, 0.3));\n",
              "      fill: #FFFFFF;\n",
              "    }\n",
              "  </style>\n",
              "\n",
              "      <script>\n",
              "        const buttonEl =\n",
              "          document.querySelector('#df-da6e5ad2-8a17-4e5d-a27f-3dcba1fd024b button.colab-df-convert');\n",
              "        buttonEl.style.display =\n",
              "          google.colab.kernel.accessAllowed ? 'block' : 'none';\n",
              "\n",
              "        async function convertToInteractive(key) {\n",
              "          const element = document.querySelector('#df-da6e5ad2-8a17-4e5d-a27f-3dcba1fd024b');\n",
              "          const dataTable =\n",
              "            await google.colab.kernel.invokeFunction('convertToInteractive',\n",
              "                                                     [key], {});\n",
              "          if (!dataTable) return;\n",
              "\n",
              "          const docLinkHtml = 'Like what you see? Visit the ' +\n",
              "            '<a target=\"_blank\" href=https://colab.research.google.com/notebooks/data_table.ipynb>data table notebook</a>'\n",
              "            + ' to learn more about interactive tables.';\n",
              "          element.innerHTML = '';\n",
              "          dataTable['output_type'] = 'display_data';\n",
              "          await google.colab.output.renderOutput(dataTable, element);\n",
              "          const docLink = document.createElement('div');\n",
              "          docLink.innerHTML = docLinkHtml;\n",
              "          element.appendChild(docLink);\n",
              "        }\n",
              "      </script>\n",
              "    </div>\n",
              "  </div>\n",
              "  "
            ]
          },
          "metadata": {},
          "execution_count": 3
        }
      ],
      "source": [
        "data.describe()"
      ]
    },
    {
      "cell_type": "code",
      "execution_count": 4,
      "metadata": {
        "colab": {
          "base_uri": "https://localhost:8080/"
        },
        "id": "cKFonLlPtl5Y",
        "outputId": "858adcf9-53fc-4532-f695-b8902e505bbb"
      },
      "outputs": [
        {
          "output_type": "execute_result",
          "data": {
            "text/plain": [
              "ID                  0\n",
              "Name                0\n",
              "Date                0\n",
              "Time                0\n",
              "Event               0\n",
              "Status              0\n",
              "Latitude            0\n",
              "Longitude           0\n",
              "Maximum Wind        0\n",
              "Minimum Pressure    0\n",
              "Low Wind NE         0\n",
              "Low Wind SE         0\n",
              "Low Wind SW         0\n",
              "Low Wind NW         0\n",
              "Moderate Wind NE    0\n",
              "Moderate Wind SE    0\n",
              "Moderate Wind SW    0\n",
              "Moderate Wind NW    0\n",
              "High Wind NE        0\n",
              "High Wind SE        0\n",
              "High Wind SW        0\n",
              "High Wind NW        0\n",
              "dtype: int64"
            ]
          },
          "metadata": {},
          "execution_count": 4
        }
      ],
      "source": [
        "data.isnull().sum(axis = 0)"
      ]
    },
    {
      "cell_type": "markdown",
      "source": [
        "Since there is no missing values, we don't have to handle them."
      ],
      "metadata": {
        "id": "Wi0sW7ugk3ya"
      }
    },
    {
      "cell_type": "code",
      "execution_count": 5,
      "metadata": {
        "colab": {
          "base_uri": "https://localhost:8080/",
          "height": 35
        },
        "id": "6L49NLQI7O-E",
        "outputId": "e33f5f25-f444-42d7-b8ef-d3051f5058c7"
      },
      "outputs": [
        {
          "output_type": "execute_result",
          "data": {
            "text/plain": [
              "'99.9'"
            ],
            "application/vnd.google.colaboratory.intrinsic+json": {
              "type": "string"
            }
          },
          "metadata": {},
          "execution_count": 5
        }
      ],
      "source": [
        "data['Latitude1'] = data['Latitude'].str[:-1]\n",
        "data['Latitudesign'] = data['Latitude'].str[-1]\n",
        "data['Longitude1'] = data['Longitude'].str[:-1]\n",
        "max(data['Longitude1'])\n",
        "#data.head(5)\n"
      ]
    },
    {
      "cell_type": "markdown",
      "source": [
        "Preprocessing is done"
      ],
      "metadata": {
        "id": "NuDpY0HXruMg"
      }
    },
    {
      "cell_type": "code",
      "execution_count": 6,
      "metadata": {
        "colab": {
          "base_uri": "https://localhost:8080/"
        },
        "id": "lO-4ZFX-_RZy",
        "outputId": "47d05ad0-b3f1-4fb7-d7ac-f249135d9b2f"
      },
      "outputs": [
        {
          "output_type": "stream",
          "name": "stdout",
          "text": [
            "--2022-06-10 02:44:55--  https://raw.githubusercontent.com/Sang555/ece228/main/lambert.py\n",
            "Resolving raw.githubusercontent.com (raw.githubusercontent.com)... 185.199.108.133, 185.199.109.133, 185.199.110.133, ...\n",
            "Connecting to raw.githubusercontent.com (raw.githubusercontent.com)|185.199.108.133|:443... connected.\n",
            "HTTP request sent, awaiting response... 200 OK\n",
            "Length: 6860 (6.7K) [text/plain]\n",
            "Saving to: ‘lambert.py’\n",
            "\n",
            "\rlambert.py            0%[                    ]       0  --.-KB/s               \rlambert.py          100%[===================>]   6.70K  --.-KB/s    in 0s      \n",
            "\n",
            "2022-06-10 02:44:55 (96.0 MB/s) - ‘lambert.py’ saved [6860/6860]\n",
            "\n",
            "--2022-06-10 02:44:55--  https://github.com/Sang555/ece228/blob/main/projection_constants.json\n",
            "Resolving github.com (github.com)... 140.82.112.3\n",
            "Connecting to github.com (github.com)|140.82.112.3|:443... connected.\n",
            "HTTP request sent, awaiting response... 200 OK\n",
            "Length: unspecified [text/html]\n",
            "Saving to: ‘projection_constants.json’\n",
            "\n",
            "projection_constant     [ <=>                ] 131.35K  --.-KB/s    in 0.04s   \n",
            "\n",
            "2022-06-10 02:44:56 (3.48 MB/s) - ‘projection_constants.json’ saved [134498]\n",
            "\n"
          ]
        }
      ],
      "source": [
        "!wget https://raw.githubusercontent.com/Sang555/ece228/main/lambert.py\n",
        "!wget https://github.com/Sang555/ece228/blob/main/projection_constants.json"
      ]
    },
    {
      "cell_type": "markdown",
      "source": [
        "Below is the function to convert from latitude longitude to lcc cordinates and vice-versa. The code for this conversion is taken from another author to whom we would like to give credits: https://github.com/vraida/Lambert-projection/blob/master/python_implementation/lib/lambert.py"
      ],
      "metadata": {
        "id": "RJO0RuK9tDNw"
      }
    },
    {
      "cell_type": "code",
      "execution_count": 7,
      "metadata": {
        "id": "htiXy2ta_dti"
      },
      "outputs": [],
      "source": [
        "#@title\n",
        "import numpy as np\n",
        "import pandas as pd\n",
        "import json\n",
        "import httpimport\n",
        "\n",
        "from lambert import Lambert\n",
        "\n",
        "data['Latitude1'] = pd.to_numeric(data['Latitude1'])\n",
        "data['Longitude1'] = pd.to_numeric(data['Longitude1'])\n",
        "lat_true = data['Latitude1']\n",
        "lon_true = data['Longitude1']\n",
        "\n",
        "lamb = Lambert(\n",
        "    standard_parallels=(33, 45),\n",
        "    central_latitude=0, central_longitude=0,\n",
        "    false_easting=400000, false_northing=400000,\n",
        "    semimajor_axis = 6377397.155, inverse_flattening = 299.1528153513275\n",
        ")\n",
        "\n",
        "x_test, y_test = lamb.geographic2cartesian(lat_true, lon_true)\n",
        "data['lcc_x'] = x_test\n",
        "data['lcc_y'] = y_test\n",
        "\n"
      ]
    },
    {
      "cell_type": "markdown",
      "source": [
        "The below formula is used to calculate the translation direction of the storm."
      ],
      "metadata": {
        "id": "X6v2s7P-tg74"
      }
    },
    {
      "cell_type": "code",
      "execution_count": 8,
      "metadata": {
        "id": "iNmBp83w3esS"
      },
      "outputs": [],
      "source": [
        "\n",
        "data['difference_lat'] = data.groupby('ID')['Latitude1'].diff()\n",
        "data['difference_lon'] = data.groupby('ID')['Longitude1'].diff()\n",
        "data['trans_dir'] = np.arctan(data['difference_lat']/data['difference_lon'])"
      ]
    },
    {
      "cell_type": "code",
      "execution_count": 9,
      "metadata": {
        "id": "ZrYhfF7z8mNq"
      },
      "outputs": [],
      "source": [
        "def haversine(coord1: object, coord2: object, lat2: object, lon2: object):\n",
        "    '''\n",
        "    This function is used to find distance between 2 coordinates. This function is referred from\n",
        "    https://community.esri.com/t5/coordinate-reference-systems-blog/distance-on-a-sphere-the-haversine-formula/ba-p/902128#:~:text=For%20example%2C%20haversine(%CE%B8),longitude%20of%20the%20two%20points\n",
        "    '''\n",
        "\n",
        "    assert isinstance(coord1, float)\n",
        "    assert isinstance(coord2, float)\n",
        "    assert isinstance(lat2, float)\n",
        "    assert isinstance(lon2, float)\n",
        "\n",
        "    import math\n",
        "\n",
        "    R = 6371000  # radius of Earth in meters\n",
        "    phi_1 = math.radians(lat2 - coord1)\n",
        "    phi_2 = math.radians(lat2)\n",
        "\n",
        "    delta_phi = math.radians(coord1)\n",
        "    delta_lambda = math.radians(coord2)\n",
        "\n",
        "    a = math.sin(delta_phi / 2.0) ** 2 + math.cos(phi_1) * math.cos(phi_2) * math.sin(delta_lambda / 2.0) ** 2\n",
        "    \n",
        "    c = 2 * math.atan2(math.sqrt(a), math.sqrt(1 - a))\n",
        "\n",
        "    meters = R * c  \n",
        "    km = meters / 1000.0 \n",
        "\n",
        "    meters = round(meters, 3)/(6*3600)\n",
        "    return meters\n",
        "\n"
      ]
    },
    {
      "cell_type": "markdown",
      "source": [
        "The below formula is used to calculate the translation direction of the storm."
      ],
      "metadata": {
        "id": "RIuuiXIpuSpF"
      }
    },
    {
      "cell_type": "code",
      "execution_count": 10,
      "metadata": {
        "colab": {
          "base_uri": "https://localhost:8080/",
          "height": 334
        },
        "id": "qKpYTFKi9pRZ",
        "outputId": "cbfa0c83-79c0-4f19-f258-7e6a50fa9cb9"
      },
      "outputs": [
        {
          "output_type": "execute_result",
          "data": {
            "text/plain": [
              "         ID                 Name      Date  Time Event Status Latitude  \\\n",
              "0  AL011851              UNNAMED  18510625     0           HU    28.0N   \n",
              "1  AL011851              UNNAMED  18510625   600           HU    28.0N   \n",
              "2  AL011851              UNNAMED  18510625  1200           HU    28.0N   \n",
              "3  AL011851              UNNAMED  18510625  1800           HU    28.1N   \n",
              "4  AL011851              UNNAMED  18510625  2100     L     HU    28.2N   \n",
              "\n",
              "  Longitude  Maximum Wind  Minimum Pressure  ...  High Wind NW  Latitude1  \\\n",
              "0     94.8W            80              -999  ...          -999       28.0   \n",
              "1     95.4W            80              -999  ...          -999       28.0   \n",
              "2     96.0W            80              -999  ...          -999       28.0   \n",
              "3     96.5W            80              -999  ...          -999       28.1   \n",
              "4     96.8W            80              -999  ...          -999       28.2   \n",
              "\n",
              "   Latitudesign  Longitude1         lcc_x         lcc_y  difference_lat  \\\n",
              "0             N        94.8  8.218382e+06  8.295660e+06             NaN   \n",
              "1             N        95.4  8.248290e+06  8.347380e+06             0.0   \n",
              "2             N        96.0  8.277857e+06  8.399296e+06             0.0   \n",
              "3             N        96.5  8.292437e+06  8.448174e+06             0.1   \n",
              "4             N        96.8  8.297119e+06  8.479684e+06             0.1   \n",
              "\n",
              "   difference_lon  trans_dir  trans_speed  \n",
              "0             NaN        NaN          NaN  \n",
              "1             0.6   0.000000     2.727200  \n",
              "2             0.6   0.000000     2.727200  \n",
              "3             0.5   0.197396     2.329212  \n",
              "4             0.3   0.321751     1.455758  \n",
              "\n",
              "[5 rows x 31 columns]"
            ],
            "text/html": [
              "\n",
              "  <div id=\"df-a03c9a7c-4838-49cc-bc0a-da7a1efd9551\">\n",
              "    <div class=\"colab-df-container\">\n",
              "      <div>\n",
              "<style scoped>\n",
              "    .dataframe tbody tr th:only-of-type {\n",
              "        vertical-align: middle;\n",
              "    }\n",
              "\n",
              "    .dataframe tbody tr th {\n",
              "        vertical-align: top;\n",
              "    }\n",
              "\n",
              "    .dataframe thead th {\n",
              "        text-align: right;\n",
              "    }\n",
              "</style>\n",
              "<table border=\"1\" class=\"dataframe\">\n",
              "  <thead>\n",
              "    <tr style=\"text-align: right;\">\n",
              "      <th></th>\n",
              "      <th>ID</th>\n",
              "      <th>Name</th>\n",
              "      <th>Date</th>\n",
              "      <th>Time</th>\n",
              "      <th>Event</th>\n",
              "      <th>Status</th>\n",
              "      <th>Latitude</th>\n",
              "      <th>Longitude</th>\n",
              "      <th>Maximum Wind</th>\n",
              "      <th>Minimum Pressure</th>\n",
              "      <th>...</th>\n",
              "      <th>High Wind NW</th>\n",
              "      <th>Latitude1</th>\n",
              "      <th>Latitudesign</th>\n",
              "      <th>Longitude1</th>\n",
              "      <th>lcc_x</th>\n",
              "      <th>lcc_y</th>\n",
              "      <th>difference_lat</th>\n",
              "      <th>difference_lon</th>\n",
              "      <th>trans_dir</th>\n",
              "      <th>trans_speed</th>\n",
              "    </tr>\n",
              "  </thead>\n",
              "  <tbody>\n",
              "    <tr>\n",
              "      <th>0</th>\n",
              "      <td>AL011851</td>\n",
              "      <td>UNNAMED</td>\n",
              "      <td>18510625</td>\n",
              "      <td>0</td>\n",
              "      <td></td>\n",
              "      <td>HU</td>\n",
              "      <td>28.0N</td>\n",
              "      <td>94.8W</td>\n",
              "      <td>80</td>\n",
              "      <td>-999</td>\n",
              "      <td>...</td>\n",
              "      <td>-999</td>\n",
              "      <td>28.0</td>\n",
              "      <td>N</td>\n",
              "      <td>94.8</td>\n",
              "      <td>8.218382e+06</td>\n",
              "      <td>8.295660e+06</td>\n",
              "      <td>NaN</td>\n",
              "      <td>NaN</td>\n",
              "      <td>NaN</td>\n",
              "      <td>NaN</td>\n",
              "    </tr>\n",
              "    <tr>\n",
              "      <th>1</th>\n",
              "      <td>AL011851</td>\n",
              "      <td>UNNAMED</td>\n",
              "      <td>18510625</td>\n",
              "      <td>600</td>\n",
              "      <td></td>\n",
              "      <td>HU</td>\n",
              "      <td>28.0N</td>\n",
              "      <td>95.4W</td>\n",
              "      <td>80</td>\n",
              "      <td>-999</td>\n",
              "      <td>...</td>\n",
              "      <td>-999</td>\n",
              "      <td>28.0</td>\n",
              "      <td>N</td>\n",
              "      <td>95.4</td>\n",
              "      <td>8.248290e+06</td>\n",
              "      <td>8.347380e+06</td>\n",
              "      <td>0.0</td>\n",
              "      <td>0.6</td>\n",
              "      <td>0.000000</td>\n",
              "      <td>2.727200</td>\n",
              "    </tr>\n",
              "    <tr>\n",
              "      <th>2</th>\n",
              "      <td>AL011851</td>\n",
              "      <td>UNNAMED</td>\n",
              "      <td>18510625</td>\n",
              "      <td>1200</td>\n",
              "      <td></td>\n",
              "      <td>HU</td>\n",
              "      <td>28.0N</td>\n",
              "      <td>96.0W</td>\n",
              "      <td>80</td>\n",
              "      <td>-999</td>\n",
              "      <td>...</td>\n",
              "      <td>-999</td>\n",
              "      <td>28.0</td>\n",
              "      <td>N</td>\n",
              "      <td>96.0</td>\n",
              "      <td>8.277857e+06</td>\n",
              "      <td>8.399296e+06</td>\n",
              "      <td>0.0</td>\n",
              "      <td>0.6</td>\n",
              "      <td>0.000000</td>\n",
              "      <td>2.727200</td>\n",
              "    </tr>\n",
              "    <tr>\n",
              "      <th>3</th>\n",
              "      <td>AL011851</td>\n",
              "      <td>UNNAMED</td>\n",
              "      <td>18510625</td>\n",
              "      <td>1800</td>\n",
              "      <td></td>\n",
              "      <td>HU</td>\n",
              "      <td>28.1N</td>\n",
              "      <td>96.5W</td>\n",
              "      <td>80</td>\n",
              "      <td>-999</td>\n",
              "      <td>...</td>\n",
              "      <td>-999</td>\n",
              "      <td>28.1</td>\n",
              "      <td>N</td>\n",
              "      <td>96.5</td>\n",
              "      <td>8.292437e+06</td>\n",
              "      <td>8.448174e+06</td>\n",
              "      <td>0.1</td>\n",
              "      <td>0.5</td>\n",
              "      <td>0.197396</td>\n",
              "      <td>2.329212</td>\n",
              "    </tr>\n",
              "    <tr>\n",
              "      <th>4</th>\n",
              "      <td>AL011851</td>\n",
              "      <td>UNNAMED</td>\n",
              "      <td>18510625</td>\n",
              "      <td>2100</td>\n",
              "      <td>L</td>\n",
              "      <td>HU</td>\n",
              "      <td>28.2N</td>\n",
              "      <td>96.8W</td>\n",
              "      <td>80</td>\n",
              "      <td>-999</td>\n",
              "      <td>...</td>\n",
              "      <td>-999</td>\n",
              "      <td>28.2</td>\n",
              "      <td>N</td>\n",
              "      <td>96.8</td>\n",
              "      <td>8.297119e+06</td>\n",
              "      <td>8.479684e+06</td>\n",
              "      <td>0.1</td>\n",
              "      <td>0.3</td>\n",
              "      <td>0.321751</td>\n",
              "      <td>1.455758</td>\n",
              "    </tr>\n",
              "  </tbody>\n",
              "</table>\n",
              "<p>5 rows × 31 columns</p>\n",
              "</div>\n",
              "      <button class=\"colab-df-convert\" onclick=\"convertToInteractive('df-a03c9a7c-4838-49cc-bc0a-da7a1efd9551')\"\n",
              "              title=\"Convert this dataframe to an interactive table.\"\n",
              "              style=\"display:none;\">\n",
              "        \n",
              "  <svg xmlns=\"http://www.w3.org/2000/svg\" height=\"24px\"viewBox=\"0 0 24 24\"\n",
              "       width=\"24px\">\n",
              "    <path d=\"M0 0h24v24H0V0z\" fill=\"none\"/>\n",
              "    <path d=\"M18.56 5.44l.94 2.06.94-2.06 2.06-.94-2.06-.94-.94-2.06-.94 2.06-2.06.94zm-11 1L8.5 8.5l.94-2.06 2.06-.94-2.06-.94L8.5 2.5l-.94 2.06-2.06.94zm10 10l.94 2.06.94-2.06 2.06-.94-2.06-.94-.94-2.06-.94 2.06-2.06.94z\"/><path d=\"M17.41 7.96l-1.37-1.37c-.4-.4-.92-.59-1.43-.59-.52 0-1.04.2-1.43.59L10.3 9.45l-7.72 7.72c-.78.78-.78 2.05 0 2.83L4 21.41c.39.39.9.59 1.41.59.51 0 1.02-.2 1.41-.59l7.78-7.78 2.81-2.81c.8-.78.8-2.07 0-2.86zM5.41 20L4 18.59l7.72-7.72 1.47 1.35L5.41 20z\"/>\n",
              "  </svg>\n",
              "      </button>\n",
              "      \n",
              "  <style>\n",
              "    .colab-df-container {\n",
              "      display:flex;\n",
              "      flex-wrap:wrap;\n",
              "      gap: 12px;\n",
              "    }\n",
              "\n",
              "    .colab-df-convert {\n",
              "      background-color: #E8F0FE;\n",
              "      border: none;\n",
              "      border-radius: 50%;\n",
              "      cursor: pointer;\n",
              "      display: none;\n",
              "      fill: #1967D2;\n",
              "      height: 32px;\n",
              "      padding: 0 0 0 0;\n",
              "      width: 32px;\n",
              "    }\n",
              "\n",
              "    .colab-df-convert:hover {\n",
              "      background-color: #E2EBFA;\n",
              "      box-shadow: 0px 1px 2px rgba(60, 64, 67, 0.3), 0px 1px 3px 1px rgba(60, 64, 67, 0.15);\n",
              "      fill: #174EA6;\n",
              "    }\n",
              "\n",
              "    [theme=dark] .colab-df-convert {\n",
              "      background-color: #3B4455;\n",
              "      fill: #D2E3FC;\n",
              "    }\n",
              "\n",
              "    [theme=dark] .colab-df-convert:hover {\n",
              "      background-color: #434B5C;\n",
              "      box-shadow: 0px 1px 3px 1px rgba(0, 0, 0, 0.15);\n",
              "      filter: drop-shadow(0px 1px 2px rgba(0, 0, 0, 0.3));\n",
              "      fill: #FFFFFF;\n",
              "    }\n",
              "  </style>\n",
              "\n",
              "      <script>\n",
              "        const buttonEl =\n",
              "          document.querySelector('#df-a03c9a7c-4838-49cc-bc0a-da7a1efd9551 button.colab-df-convert');\n",
              "        buttonEl.style.display =\n",
              "          google.colab.kernel.accessAllowed ? 'block' : 'none';\n",
              "\n",
              "        async function convertToInteractive(key) {\n",
              "          const element = document.querySelector('#df-a03c9a7c-4838-49cc-bc0a-da7a1efd9551');\n",
              "          const dataTable =\n",
              "            await google.colab.kernel.invokeFunction('convertToInteractive',\n",
              "                                                     [key], {});\n",
              "          if (!dataTable) return;\n",
              "\n",
              "          const docLinkHtml = 'Like what you see? Visit the ' +\n",
              "            '<a target=\"_blank\" href=https://colab.research.google.com/notebooks/data_table.ipynb>data table notebook</a>'\n",
              "            + ' to learn more about interactive tables.';\n",
              "          element.innerHTML = '';\n",
              "          dataTable['output_type'] = 'display_data';\n",
              "          await google.colab.output.renderOutput(dataTable, element);\n",
              "          const docLink = document.createElement('div');\n",
              "          docLink.innerHTML = docLinkHtml;\n",
              "          element.appendChild(docLink);\n",
              "        }\n",
              "      </script>\n",
              "    </div>\n",
              "  </div>\n",
              "  "
            ]
          },
          "metadata": {},
          "execution_count": 10
        }
      ],
      "source": [
        "data['trans_speed'] = data.apply(lambda x: haversine(x['difference_lat'],x['difference_lon'],x['Latitude1'],x['Longitude1']), axis=1)\n",
        "data.head(5)"
      ]
    },
    {
      "cell_type": "code",
      "execution_count": 11,
      "metadata": {
        "id": "ltfg7k1zDOSA"
      },
      "outputs": [],
      "source": [
        "data2 = data.groupby('ID').filter(lambda x: len(x) > 6)\n",
        "data_lstm = data2"
      ]
    },
    {
      "cell_type": "code",
      "source": [
        "data_lstm.to_csv('sample_data/lstm.csv')\n"
      ],
      "metadata": {
        "id": "cpTnq-lOzxlb"
      },
      "execution_count": 12,
      "outputs": []
    },
    {
      "cell_type": "markdown",
      "source": [
        "The data is saved here and fed to matlab. Other features are added and the new data is loaded."
      ],
      "metadata": {
        "id": "VXfCfJmpN9u3"
      }
    },
    {
      "cell_type": "code",
      "source": [
        "data_lstm = pd.read_csv(\"https://raw.githubusercontent.com/Sang555/ece228/main/lstm_m.csv\")"
      ],
      "metadata": {
        "id": "Ch0f5ewlKjRO"
      },
      "execution_count": 13,
      "outputs": []
    },
    {
      "cell_type": "markdown",
      "source": [
        "The data is then normalized and the normalization constants are noted."
      ],
      "metadata": {
        "id": "gPjL7eOHPRlr"
      }
    },
    {
      "cell_type": "code",
      "source": [
        "df_max_scaled = data_lstm.copy()\n",
        "  \n",
        "# apply normalization techniques\n",
        "for column in df_max_scaled.columns:\n",
        "  if not isinstance(df_max_scaled[column][0],str):\n",
        "    d_min = df_max_scaled[column].abs().min()\n",
        "    d_max = df_max_scaled[column].abs().max()\n",
        "    d = d_max-d_min\n",
        "    df_max_scaled[column] = (df_max_scaled[column] - d_min)/ d\n",
        "    if column == \"lcc_x\":\n",
        "      print(\"lcc_x\")\n",
        "      print(d, d_min)\n",
        "      \n",
        "    if column == \"lcc_y\":\n",
        "      print(\"lcc_y\")\n",
        "      print(d, d_min)\n",
        "\n",
        "    if column == \"Latitude1\":\n",
        "      print(\"Latitude1\")\n",
        "      print(d, d_min)\n",
        "\n",
        "    if column == \"Longitude1\":\n",
        "      print(\"Longitude1\")\n",
        "      print(d, d_min)\n"
      ],
      "metadata": {
        "id": "A2W9T7sHON8A",
        "colab": {
          "base_uri": "https://localhost:8080/"
        },
        "outputId": "c396aa63-4275-4f75-b556-8fe684f69355"
      },
      "execution_count": 14,
      "outputs": [
        {
          "output_type": "stream",
          "name": "stdout",
          "text": [
            "Latitude1\n",
            "73.8 7.2\n",
            "Longitude1\n",
            "359.1 0.0\n",
            "lcc_x\n",
            "9483432.641 400000.0\n",
            "lcc_y\n",
            "16234904.081 1693736.969\n"
          ]
        }
      ]
    },
    {
      "cell_type": "code",
      "source": [
        "lcc_x = 9483432.641\n",
        "lcc_y = 16234904.081\n",
        "lat1 = 73.8\n",
        "lon1 = 359.1\n",
        "lcc_x_min = 400000.0\n",
        "lcc_y_min = 1693736.969\n",
        "lat1_min = 7.2\n",
        "lon1_min = 0.0"
      ],
      "metadata": {
        "id": "EBBuJ3VHG9Uw"
      },
      "execution_count": 15,
      "outputs": []
    },
    {
      "cell_type": "code",
      "source": [
        "df_max_scaled2 = df_max_scaled.drop(columns=['Unnamed: 0','Unnamed: 10','Date', 'Time', 'Event', 'Status',\n",
        "       'Latitude', 'Longitude','difference_lat', 'difference_lon','Unnamed: 19'])"
      ],
      "metadata": {
        "id": "xsB_MdolKzto"
      },
      "execution_count": 16,
      "outputs": []
    },
    {
      "cell_type": "code",
      "source": [
        "df_max_scaled2#.to_csv('sample_data/lstm_filtered.csv')"
      ],
      "metadata": {
        "colab": {
          "base_uri": "https://localhost:8080/",
          "height": 505
        },
        "id": "rVrhQB0lqb5I",
        "outputId": "059ace42-fc0d-461a-8635-8177c727a497"
      },
      "execution_count": 17,
      "outputs": [
        {
          "output_type": "execute_result",
          "data": {
            "text/plain": [
              "             ID                 Name  Maximum Wind  Latitude1  Longitude1  \\\n",
              "0      AL011851              UNNAMED      0.451613   0.281843    0.263993   \n",
              "1      AL011851              UNNAMED      0.451613   0.281843    0.265664   \n",
              "2      AL011851              UNNAMED      0.451613   0.281843    0.267335   \n",
              "3      AL011851              UNNAMED      0.451613   0.283198    0.268727   \n",
              "4      AL011851              UNNAMED      0.451613   0.284553    0.269563   \n",
              "...         ...                  ...           ...        ...         ...   \n",
              "48787  AL122015                 KATE      0.290323   0.462060    0.140351   \n",
              "48788  AL122015                 KATE      0.290323   0.470190    0.138959   \n",
              "48789  AL122015                 KATE      0.258065   0.464770    0.137009   \n",
              "48790  AL122015                 KATE      0.225806   0.455285    0.132275   \n",
              "48791  AL122015                 KATE      0.225806   0.453930    0.126427   \n",
              "\n",
              "          lcc_x     lcc_y  trans_dir  trans_speed        P1  ...      P16  \\\n",
              "0      0.824425  0.406650        NaN          NaN  0.113333  ...  0.29200   \n",
              "1      0.827579  0.409836   0.000000     0.067364  0.113333  ...  0.29200   \n",
              "2      0.830697  0.413034   0.000000     0.067364  0.113333  ...  0.29200   \n",
              "3      0.832234  0.416044   0.125666     0.057534  0.113333  ...  0.29200   \n",
              "4      0.832728  0.417985   0.204833     0.035959  0.113333  ...  0.29200   \n",
              "...         ...       ...        ...          ...       ...  ...      ...   \n",
              "48787  0.420593  0.290658  -0.434376     0.226162  0.113333  ...  0.29200   \n",
              "48788  0.413200  0.292797  -0.557716     0.089896  0.113333  ...  0.29200   \n",
              "48789  0.410389  0.288615   0.330499     0.083688  0.113333  ...  0.29200   \n",
              "48790  0.401624  0.280072   0.248668     0.185515  0.076319  ...  0.28266   \n",
              "48791  0.385967  0.274162   0.030292     0.202689       NaN  ...      NaN   \n",
              "\n",
              "            P17       P18       P19       P20       P21       P22       P23  \\\n",
              "0      0.360000  0.360000  0.040000  0.040000  0.146667  0.120000  0.260000   \n",
              "1      0.360000  0.360000  0.040000  0.040000  0.146667  0.120000  0.260000   \n",
              "2      0.360000  0.360000  0.040000  0.040000  0.146667  0.120000  0.260000   \n",
              "3      0.360000  0.360000  0.040000  0.040000  0.146667  0.120000  0.260000   \n",
              "4      0.360000  0.360000  0.040000  0.040000  0.146667  0.120000  0.260000   \n",
              "...         ...       ...       ...       ...       ...       ...       ...   \n",
              "48787  0.360000  0.360000  0.040000  0.040000  0.146667  0.120000  0.260000   \n",
              "48788  0.360000  0.360000  0.040000  0.040000  0.146667  0.120000  0.260000   \n",
              "48789  0.360000  0.360000  0.040000  0.040000  0.146667  0.120000  0.260000   \n",
              "48790  0.318182  0.409091  0.048822  0.050505  0.222222  0.156566  0.240741   \n",
              "48791       NaN       NaN       NaN       NaN       NaN       NaN       NaN   \n",
              "\n",
              "           P24       P25  \n",
              "0      0.12000  0.040000  \n",
              "1      0.12000  0.040000  \n",
              "2      0.12000  0.040000  \n",
              "3      0.12000  0.040000  \n",
              "4      0.12000  0.040000  \n",
              "...        ...       ...  \n",
              "48787  0.12000  0.040000  \n",
              "48788  0.12000  0.040000  \n",
              "48789  0.12000  0.040000  \n",
              "48790  0.09596  0.047138  \n",
              "48791      NaN       NaN  \n",
              "\n",
              "[48792 rows x 34 columns]"
            ],
            "text/html": [
              "\n",
              "  <div id=\"df-c644c5f4-29eb-4d25-8c69-924f0b0b9199\">\n",
              "    <div class=\"colab-df-container\">\n",
              "      <div>\n",
              "<style scoped>\n",
              "    .dataframe tbody tr th:only-of-type {\n",
              "        vertical-align: middle;\n",
              "    }\n",
              "\n",
              "    .dataframe tbody tr th {\n",
              "        vertical-align: top;\n",
              "    }\n",
              "\n",
              "    .dataframe thead th {\n",
              "        text-align: right;\n",
              "    }\n",
              "</style>\n",
              "<table border=\"1\" class=\"dataframe\">\n",
              "  <thead>\n",
              "    <tr style=\"text-align: right;\">\n",
              "      <th></th>\n",
              "      <th>ID</th>\n",
              "      <th>Name</th>\n",
              "      <th>Maximum Wind</th>\n",
              "      <th>Latitude1</th>\n",
              "      <th>Longitude1</th>\n",
              "      <th>lcc_x</th>\n",
              "      <th>lcc_y</th>\n",
              "      <th>trans_dir</th>\n",
              "      <th>trans_speed</th>\n",
              "      <th>P1</th>\n",
              "      <th>...</th>\n",
              "      <th>P16</th>\n",
              "      <th>P17</th>\n",
              "      <th>P18</th>\n",
              "      <th>P19</th>\n",
              "      <th>P20</th>\n",
              "      <th>P21</th>\n",
              "      <th>P22</th>\n",
              "      <th>P23</th>\n",
              "      <th>P24</th>\n",
              "      <th>P25</th>\n",
              "    </tr>\n",
              "  </thead>\n",
              "  <tbody>\n",
              "    <tr>\n",
              "      <th>0</th>\n",
              "      <td>AL011851</td>\n",
              "      <td>UNNAMED</td>\n",
              "      <td>0.451613</td>\n",
              "      <td>0.281843</td>\n",
              "      <td>0.263993</td>\n",
              "      <td>0.824425</td>\n",
              "      <td>0.406650</td>\n",
              "      <td>NaN</td>\n",
              "      <td>NaN</td>\n",
              "      <td>0.113333</td>\n",
              "      <td>...</td>\n",
              "      <td>0.29200</td>\n",
              "      <td>0.360000</td>\n",
              "      <td>0.360000</td>\n",
              "      <td>0.040000</td>\n",
              "      <td>0.040000</td>\n",
              "      <td>0.146667</td>\n",
              "      <td>0.120000</td>\n",
              "      <td>0.260000</td>\n",
              "      <td>0.12000</td>\n",
              "      <td>0.040000</td>\n",
              "    </tr>\n",
              "    <tr>\n",
              "      <th>1</th>\n",
              "      <td>AL011851</td>\n",
              "      <td>UNNAMED</td>\n",
              "      <td>0.451613</td>\n",
              "      <td>0.281843</td>\n",
              "      <td>0.265664</td>\n",
              "      <td>0.827579</td>\n",
              "      <td>0.409836</td>\n",
              "      <td>0.000000</td>\n",
              "      <td>0.067364</td>\n",
              "      <td>0.113333</td>\n",
              "      <td>...</td>\n",
              "      <td>0.29200</td>\n",
              "      <td>0.360000</td>\n",
              "      <td>0.360000</td>\n",
              "      <td>0.040000</td>\n",
              "      <td>0.040000</td>\n",
              "      <td>0.146667</td>\n",
              "      <td>0.120000</td>\n",
              "      <td>0.260000</td>\n",
              "      <td>0.12000</td>\n",
              "      <td>0.040000</td>\n",
              "    </tr>\n",
              "    <tr>\n",
              "      <th>2</th>\n",
              "      <td>AL011851</td>\n",
              "      <td>UNNAMED</td>\n",
              "      <td>0.451613</td>\n",
              "      <td>0.281843</td>\n",
              "      <td>0.267335</td>\n",
              "      <td>0.830697</td>\n",
              "      <td>0.413034</td>\n",
              "      <td>0.000000</td>\n",
              "      <td>0.067364</td>\n",
              "      <td>0.113333</td>\n",
              "      <td>...</td>\n",
              "      <td>0.29200</td>\n",
              "      <td>0.360000</td>\n",
              "      <td>0.360000</td>\n",
              "      <td>0.040000</td>\n",
              "      <td>0.040000</td>\n",
              "      <td>0.146667</td>\n",
              "      <td>0.120000</td>\n",
              "      <td>0.260000</td>\n",
              "      <td>0.12000</td>\n",
              "      <td>0.040000</td>\n",
              "    </tr>\n",
              "    <tr>\n",
              "      <th>3</th>\n",
              "      <td>AL011851</td>\n",
              "      <td>UNNAMED</td>\n",
              "      <td>0.451613</td>\n",
              "      <td>0.283198</td>\n",
              "      <td>0.268727</td>\n",
              "      <td>0.832234</td>\n",
              "      <td>0.416044</td>\n",
              "      <td>0.125666</td>\n",
              "      <td>0.057534</td>\n",
              "      <td>0.113333</td>\n",
              "      <td>...</td>\n",
              "      <td>0.29200</td>\n",
              "      <td>0.360000</td>\n",
              "      <td>0.360000</td>\n",
              "      <td>0.040000</td>\n",
              "      <td>0.040000</td>\n",
              "      <td>0.146667</td>\n",
              "      <td>0.120000</td>\n",
              "      <td>0.260000</td>\n",
              "      <td>0.12000</td>\n",
              "      <td>0.040000</td>\n",
              "    </tr>\n",
              "    <tr>\n",
              "      <th>4</th>\n",
              "      <td>AL011851</td>\n",
              "      <td>UNNAMED</td>\n",
              "      <td>0.451613</td>\n",
              "      <td>0.284553</td>\n",
              "      <td>0.269563</td>\n",
              "      <td>0.832728</td>\n",
              "      <td>0.417985</td>\n",
              "      <td>0.204833</td>\n",
              "      <td>0.035959</td>\n",
              "      <td>0.113333</td>\n",
              "      <td>...</td>\n",
              "      <td>0.29200</td>\n",
              "      <td>0.360000</td>\n",
              "      <td>0.360000</td>\n",
              "      <td>0.040000</td>\n",
              "      <td>0.040000</td>\n",
              "      <td>0.146667</td>\n",
              "      <td>0.120000</td>\n",
              "      <td>0.260000</td>\n",
              "      <td>0.12000</td>\n",
              "      <td>0.040000</td>\n",
              "    </tr>\n",
              "    <tr>\n",
              "      <th>...</th>\n",
              "      <td>...</td>\n",
              "      <td>...</td>\n",
              "      <td>...</td>\n",
              "      <td>...</td>\n",
              "      <td>...</td>\n",
              "      <td>...</td>\n",
              "      <td>...</td>\n",
              "      <td>...</td>\n",
              "      <td>...</td>\n",
              "      <td>...</td>\n",
              "      <td>...</td>\n",
              "      <td>...</td>\n",
              "      <td>...</td>\n",
              "      <td>...</td>\n",
              "      <td>...</td>\n",
              "      <td>...</td>\n",
              "      <td>...</td>\n",
              "      <td>...</td>\n",
              "      <td>...</td>\n",
              "      <td>...</td>\n",
              "      <td>...</td>\n",
              "    </tr>\n",
              "    <tr>\n",
              "      <th>48787</th>\n",
              "      <td>AL122015</td>\n",
              "      <td>KATE</td>\n",
              "      <td>0.290323</td>\n",
              "      <td>0.462060</td>\n",
              "      <td>0.140351</td>\n",
              "      <td>0.420593</td>\n",
              "      <td>0.290658</td>\n",
              "      <td>-0.434376</td>\n",
              "      <td>0.226162</td>\n",
              "      <td>0.113333</td>\n",
              "      <td>...</td>\n",
              "      <td>0.29200</td>\n",
              "      <td>0.360000</td>\n",
              "      <td>0.360000</td>\n",
              "      <td>0.040000</td>\n",
              "      <td>0.040000</td>\n",
              "      <td>0.146667</td>\n",
              "      <td>0.120000</td>\n",
              "      <td>0.260000</td>\n",
              "      <td>0.12000</td>\n",
              "      <td>0.040000</td>\n",
              "    </tr>\n",
              "    <tr>\n",
              "      <th>48788</th>\n",
              "      <td>AL122015</td>\n",
              "      <td>KATE</td>\n",
              "      <td>0.290323</td>\n",
              "      <td>0.470190</td>\n",
              "      <td>0.138959</td>\n",
              "      <td>0.413200</td>\n",
              "      <td>0.292797</td>\n",
              "      <td>-0.557716</td>\n",
              "      <td>0.089896</td>\n",
              "      <td>0.113333</td>\n",
              "      <td>...</td>\n",
              "      <td>0.29200</td>\n",
              "      <td>0.360000</td>\n",
              "      <td>0.360000</td>\n",
              "      <td>0.040000</td>\n",
              "      <td>0.040000</td>\n",
              "      <td>0.146667</td>\n",
              "      <td>0.120000</td>\n",
              "      <td>0.260000</td>\n",
              "      <td>0.12000</td>\n",
              "      <td>0.040000</td>\n",
              "    </tr>\n",
              "    <tr>\n",
              "      <th>48789</th>\n",
              "      <td>AL122015</td>\n",
              "      <td>KATE</td>\n",
              "      <td>0.258065</td>\n",
              "      <td>0.464770</td>\n",
              "      <td>0.137009</td>\n",
              "      <td>0.410389</td>\n",
              "      <td>0.288615</td>\n",
              "      <td>0.330499</td>\n",
              "      <td>0.083688</td>\n",
              "      <td>0.113333</td>\n",
              "      <td>...</td>\n",
              "      <td>0.29200</td>\n",
              "      <td>0.360000</td>\n",
              "      <td>0.360000</td>\n",
              "      <td>0.040000</td>\n",
              "      <td>0.040000</td>\n",
              "      <td>0.146667</td>\n",
              "      <td>0.120000</td>\n",
              "      <td>0.260000</td>\n",
              "      <td>0.12000</td>\n",
              "      <td>0.040000</td>\n",
              "    </tr>\n",
              "    <tr>\n",
              "      <th>48790</th>\n",
              "      <td>AL122015</td>\n",
              "      <td>KATE</td>\n",
              "      <td>0.225806</td>\n",
              "      <td>0.455285</td>\n",
              "      <td>0.132275</td>\n",
              "      <td>0.401624</td>\n",
              "      <td>0.280072</td>\n",
              "      <td>0.248668</td>\n",
              "      <td>0.185515</td>\n",
              "      <td>0.076319</td>\n",
              "      <td>...</td>\n",
              "      <td>0.28266</td>\n",
              "      <td>0.318182</td>\n",
              "      <td>0.409091</td>\n",
              "      <td>0.048822</td>\n",
              "      <td>0.050505</td>\n",
              "      <td>0.222222</td>\n",
              "      <td>0.156566</td>\n",
              "      <td>0.240741</td>\n",
              "      <td>0.09596</td>\n",
              "      <td>0.047138</td>\n",
              "    </tr>\n",
              "    <tr>\n",
              "      <th>48791</th>\n",
              "      <td>AL122015</td>\n",
              "      <td>KATE</td>\n",
              "      <td>0.225806</td>\n",
              "      <td>0.453930</td>\n",
              "      <td>0.126427</td>\n",
              "      <td>0.385967</td>\n",
              "      <td>0.274162</td>\n",
              "      <td>0.030292</td>\n",
              "      <td>0.202689</td>\n",
              "      <td>NaN</td>\n",
              "      <td>...</td>\n",
              "      <td>NaN</td>\n",
              "      <td>NaN</td>\n",
              "      <td>NaN</td>\n",
              "      <td>NaN</td>\n",
              "      <td>NaN</td>\n",
              "      <td>NaN</td>\n",
              "      <td>NaN</td>\n",
              "      <td>NaN</td>\n",
              "      <td>NaN</td>\n",
              "      <td>NaN</td>\n",
              "    </tr>\n",
              "  </tbody>\n",
              "</table>\n",
              "<p>48792 rows × 34 columns</p>\n",
              "</div>\n",
              "      <button class=\"colab-df-convert\" onclick=\"convertToInteractive('df-c644c5f4-29eb-4d25-8c69-924f0b0b9199')\"\n",
              "              title=\"Convert this dataframe to an interactive table.\"\n",
              "              style=\"display:none;\">\n",
              "        \n",
              "  <svg xmlns=\"http://www.w3.org/2000/svg\" height=\"24px\"viewBox=\"0 0 24 24\"\n",
              "       width=\"24px\">\n",
              "    <path d=\"M0 0h24v24H0V0z\" fill=\"none\"/>\n",
              "    <path d=\"M18.56 5.44l.94 2.06.94-2.06 2.06-.94-2.06-.94-.94-2.06-.94 2.06-2.06.94zm-11 1L8.5 8.5l.94-2.06 2.06-.94-2.06-.94L8.5 2.5l-.94 2.06-2.06.94zm10 10l.94 2.06.94-2.06 2.06-.94-2.06-.94-.94-2.06-.94 2.06-2.06.94z\"/><path d=\"M17.41 7.96l-1.37-1.37c-.4-.4-.92-.59-1.43-.59-.52 0-1.04.2-1.43.59L10.3 9.45l-7.72 7.72c-.78.78-.78 2.05 0 2.83L4 21.41c.39.39.9.59 1.41.59.51 0 1.02-.2 1.41-.59l7.78-7.78 2.81-2.81c.8-.78.8-2.07 0-2.86zM5.41 20L4 18.59l7.72-7.72 1.47 1.35L5.41 20z\"/>\n",
              "  </svg>\n",
              "      </button>\n",
              "      \n",
              "  <style>\n",
              "    .colab-df-container {\n",
              "      display:flex;\n",
              "      flex-wrap:wrap;\n",
              "      gap: 12px;\n",
              "    }\n",
              "\n",
              "    .colab-df-convert {\n",
              "      background-color: #E8F0FE;\n",
              "      border: none;\n",
              "      border-radius: 50%;\n",
              "      cursor: pointer;\n",
              "      display: none;\n",
              "      fill: #1967D2;\n",
              "      height: 32px;\n",
              "      padding: 0 0 0 0;\n",
              "      width: 32px;\n",
              "    }\n",
              "\n",
              "    .colab-df-convert:hover {\n",
              "      background-color: #E2EBFA;\n",
              "      box-shadow: 0px 1px 2px rgba(60, 64, 67, 0.3), 0px 1px 3px 1px rgba(60, 64, 67, 0.15);\n",
              "      fill: #174EA6;\n",
              "    }\n",
              "\n",
              "    [theme=dark] .colab-df-convert {\n",
              "      background-color: #3B4455;\n",
              "      fill: #D2E3FC;\n",
              "    }\n",
              "\n",
              "    [theme=dark] .colab-df-convert:hover {\n",
              "      background-color: #434B5C;\n",
              "      box-shadow: 0px 1px 3px 1px rgba(0, 0, 0, 0.15);\n",
              "      filter: drop-shadow(0px 1px 2px rgba(0, 0, 0, 0.3));\n",
              "      fill: #FFFFFF;\n",
              "    }\n",
              "  </style>\n",
              "\n",
              "      <script>\n",
              "        const buttonEl =\n",
              "          document.querySelector('#df-c644c5f4-29eb-4d25-8c69-924f0b0b9199 button.colab-df-convert');\n",
              "        buttonEl.style.display =\n",
              "          google.colab.kernel.accessAllowed ? 'block' : 'none';\n",
              "\n",
              "        async function convertToInteractive(key) {\n",
              "          const element = document.querySelector('#df-c644c5f4-29eb-4d25-8c69-924f0b0b9199');\n",
              "          const dataTable =\n",
              "            await google.colab.kernel.invokeFunction('convertToInteractive',\n",
              "                                                     [key], {});\n",
              "          if (!dataTable) return;\n",
              "\n",
              "          const docLinkHtml = 'Like what you see? Visit the ' +\n",
              "            '<a target=\"_blank\" href=https://colab.research.google.com/notebooks/data_table.ipynb>data table notebook</a>'\n",
              "            + ' to learn more about interactive tables.';\n",
              "          element.innerHTML = '';\n",
              "          dataTable['output_type'] = 'display_data';\n",
              "          await google.colab.output.renderOutput(dataTable, element);\n",
              "          const docLink = document.createElement('div');\n",
              "          docLink.innerHTML = docLinkHtml;\n",
              "          element.appendChild(docLink);\n",
              "        }\n",
              "      </script>\n",
              "    </div>\n",
              "  </div>\n",
              "  "
            ]
          },
          "metadata": {},
          "execution_count": 17
        }
      ]
    },
    {
      "cell_type": "code",
      "source": [
        "from pandas.core.arrays.sparse import dtype\n",
        "for col in df_max_scaled2.columns[2:]:\n",
        "  df_max_scaled2[col] = df_max_scaled2[col].astype(dtype=np.float)\n",
        "df_max_scaled2.dropna(inplace=True)"
      ],
      "metadata": {
        "colab": {
          "base_uri": "https://localhost:8080/"
        },
        "id": "LYY-uiMKHij5",
        "outputId": "2b0f5e0d-b7ef-4a6b-bf99-034c22771915"
      },
      "execution_count": 18,
      "outputs": [
        {
          "output_type": "stream",
          "name": "stderr",
          "text": [
            "/usr/local/lib/python3.7/dist-packages/ipykernel_launcher.py:3: DeprecationWarning: `np.float` is a deprecated alias for the builtin `float`. To silence this warning, use `float` by itself. Doing this will not modify any behavior and is safe. If you specifically wanted the numpy scalar type, use `np.float64` here.\n",
            "Deprecated in NumPy 1.20; for more details and guidance: https://numpy.org/devdocs/release/1.20.0-notes.html#deprecations\n",
            "  This is separate from the ipykernel package so we can avoid doing imports until\n"
          ]
        }
      ]
    },
    {
      "cell_type": "markdown",
      "source": [
        "All the storms with less than 10 records are dropped as we need 5 inputs and 5 outputs."
      ],
      "metadata": {
        "id": "8RofxYWSPdpC"
      }
    },
    {
      "cell_type": "code",
      "source": [
        "df_max_scaled3 = df_max_scaled2.groupby('ID').filter(lambda x: len(x) > 9)"
      ],
      "metadata": {
        "id": "9p9r7b3vOA2y"
      },
      "execution_count": 19,
      "outputs": []
    },
    {
      "cell_type": "code",
      "source": [
        "df_max_scaled3.groupby('ID').count()"
      ],
      "metadata": {
        "colab": {
          "base_uri": "https://localhost:8080/",
          "height": 536
        },
        "id": "kKgJbS8Frzlb",
        "outputId": "a8d3be3a-69dc-46a6-b871-298e56ebe733"
      },
      "execution_count": 20,
      "outputs": [
        {
          "output_type": "execute_result",
          "data": {
            "text/plain": [
              "          Name  Maximum Wind  Latitude1  Longitude1  lcc_x  lcc_y  trans_dir  \\\n",
              "ID                                                                             \n",
              "AL011851    13            13         13          13     13     13         13   \n",
              "AL011852    44            44         44          44     44     44         44   \n",
              "AL011854    10            10         10          10     10     10         10   \n",
              "AL011856    13            13         13          13     13     13         13   \n",
              "AL011860    34            34         34          34     34     34         34   \n",
              "...        ...           ...        ...         ...    ...    ...        ...   \n",
              "AL282005    32            32         32          32     32     32         32   \n",
              "AL291969    12            12         12          12     12     12         12   \n",
              "AL292005    41            41         41          41     41     41         41   \n",
              "AL302005    42            42         42          42     42     42         42   \n",
              "AL312005    35            35         35          35     35     35         35   \n",
              "\n",
              "          trans_speed  P1  P2  ...  P16  P17  P18  P19  P20  P21  P22  P23  \\\n",
              "ID                             ...                                           \n",
              "AL011851           13  13  13  ...   13   13   13   13   13   13   13   13   \n",
              "AL011852           44  44  44  ...   44   44   44   44   44   44   44   44   \n",
              "AL011854           10  10  10  ...   10   10   10   10   10   10   10   10   \n",
              "AL011856           13  13  13  ...   13   13   13   13   13   13   13   13   \n",
              "AL011860           34  34  34  ...   34   34   34   34   34   34   34   34   \n",
              "...               ...  ..  ..  ...  ...  ...  ...  ...  ...  ...  ...  ...   \n",
              "AL282005           32  32  32  ...   32   32   32   32   32   32   32   32   \n",
              "AL291969           12  12  12  ...   12   12   12   12   12   12   12   12   \n",
              "AL292005           41  41  41  ...   41   41   41   41   41   41   41   41   \n",
              "AL302005           42  42  42  ...   42   42   42   42   42   42   42   42   \n",
              "AL312005           35  35  35  ...   35   35   35   35   35   35   35   35   \n",
              "\n",
              "          P24  P25  \n",
              "ID                  \n",
              "AL011851   13   13  \n",
              "AL011852   44   44  \n",
              "AL011854   10   10  \n",
              "AL011856   13   13  \n",
              "AL011860   34   34  \n",
              "...       ...  ...  \n",
              "AL282005   32   32  \n",
              "AL291969   12   12  \n",
              "AL292005   41   41  \n",
              "AL302005   42   42  \n",
              "AL312005   35   35  \n",
              "\n",
              "[1565 rows x 33 columns]"
            ],
            "text/html": [
              "\n",
              "  <div id=\"df-a9959fe7-c7bf-442f-bb59-bd93d91b25a1\">\n",
              "    <div class=\"colab-df-container\">\n",
              "      <div>\n",
              "<style scoped>\n",
              "    .dataframe tbody tr th:only-of-type {\n",
              "        vertical-align: middle;\n",
              "    }\n",
              "\n",
              "    .dataframe tbody tr th {\n",
              "        vertical-align: top;\n",
              "    }\n",
              "\n",
              "    .dataframe thead th {\n",
              "        text-align: right;\n",
              "    }\n",
              "</style>\n",
              "<table border=\"1\" class=\"dataframe\">\n",
              "  <thead>\n",
              "    <tr style=\"text-align: right;\">\n",
              "      <th></th>\n",
              "      <th>Name</th>\n",
              "      <th>Maximum Wind</th>\n",
              "      <th>Latitude1</th>\n",
              "      <th>Longitude1</th>\n",
              "      <th>lcc_x</th>\n",
              "      <th>lcc_y</th>\n",
              "      <th>trans_dir</th>\n",
              "      <th>trans_speed</th>\n",
              "      <th>P1</th>\n",
              "      <th>P2</th>\n",
              "      <th>...</th>\n",
              "      <th>P16</th>\n",
              "      <th>P17</th>\n",
              "      <th>P18</th>\n",
              "      <th>P19</th>\n",
              "      <th>P20</th>\n",
              "      <th>P21</th>\n",
              "      <th>P22</th>\n",
              "      <th>P23</th>\n",
              "      <th>P24</th>\n",
              "      <th>P25</th>\n",
              "    </tr>\n",
              "    <tr>\n",
              "      <th>ID</th>\n",
              "      <th></th>\n",
              "      <th></th>\n",
              "      <th></th>\n",
              "      <th></th>\n",
              "      <th></th>\n",
              "      <th></th>\n",
              "      <th></th>\n",
              "      <th></th>\n",
              "      <th></th>\n",
              "      <th></th>\n",
              "      <th></th>\n",
              "      <th></th>\n",
              "      <th></th>\n",
              "      <th></th>\n",
              "      <th></th>\n",
              "      <th></th>\n",
              "      <th></th>\n",
              "      <th></th>\n",
              "      <th></th>\n",
              "      <th></th>\n",
              "      <th></th>\n",
              "    </tr>\n",
              "  </thead>\n",
              "  <tbody>\n",
              "    <tr>\n",
              "      <th>AL011851</th>\n",
              "      <td>13</td>\n",
              "      <td>13</td>\n",
              "      <td>13</td>\n",
              "      <td>13</td>\n",
              "      <td>13</td>\n",
              "      <td>13</td>\n",
              "      <td>13</td>\n",
              "      <td>13</td>\n",
              "      <td>13</td>\n",
              "      <td>13</td>\n",
              "      <td>...</td>\n",
              "      <td>13</td>\n",
              "      <td>13</td>\n",
              "      <td>13</td>\n",
              "      <td>13</td>\n",
              "      <td>13</td>\n",
              "      <td>13</td>\n",
              "      <td>13</td>\n",
              "      <td>13</td>\n",
              "      <td>13</td>\n",
              "      <td>13</td>\n",
              "    </tr>\n",
              "    <tr>\n",
              "      <th>AL011852</th>\n",
              "      <td>44</td>\n",
              "      <td>44</td>\n",
              "      <td>44</td>\n",
              "      <td>44</td>\n",
              "      <td>44</td>\n",
              "      <td>44</td>\n",
              "      <td>44</td>\n",
              "      <td>44</td>\n",
              "      <td>44</td>\n",
              "      <td>44</td>\n",
              "      <td>...</td>\n",
              "      <td>44</td>\n",
              "      <td>44</td>\n",
              "      <td>44</td>\n",
              "      <td>44</td>\n",
              "      <td>44</td>\n",
              "      <td>44</td>\n",
              "      <td>44</td>\n",
              "      <td>44</td>\n",
              "      <td>44</td>\n",
              "      <td>44</td>\n",
              "    </tr>\n",
              "    <tr>\n",
              "      <th>AL011854</th>\n",
              "      <td>10</td>\n",
              "      <td>10</td>\n",
              "      <td>10</td>\n",
              "      <td>10</td>\n",
              "      <td>10</td>\n",
              "      <td>10</td>\n",
              "      <td>10</td>\n",
              "      <td>10</td>\n",
              "      <td>10</td>\n",
              "      <td>10</td>\n",
              "      <td>...</td>\n",
              "      <td>10</td>\n",
              "      <td>10</td>\n",
              "      <td>10</td>\n",
              "      <td>10</td>\n",
              "      <td>10</td>\n",
              "      <td>10</td>\n",
              "      <td>10</td>\n",
              "      <td>10</td>\n",
              "      <td>10</td>\n",
              "      <td>10</td>\n",
              "    </tr>\n",
              "    <tr>\n",
              "      <th>AL011856</th>\n",
              "      <td>13</td>\n",
              "      <td>13</td>\n",
              "      <td>13</td>\n",
              "      <td>13</td>\n",
              "      <td>13</td>\n",
              "      <td>13</td>\n",
              "      <td>13</td>\n",
              "      <td>13</td>\n",
              "      <td>13</td>\n",
              "      <td>13</td>\n",
              "      <td>...</td>\n",
              "      <td>13</td>\n",
              "      <td>13</td>\n",
              "      <td>13</td>\n",
              "      <td>13</td>\n",
              "      <td>13</td>\n",
              "      <td>13</td>\n",
              "      <td>13</td>\n",
              "      <td>13</td>\n",
              "      <td>13</td>\n",
              "      <td>13</td>\n",
              "    </tr>\n",
              "    <tr>\n",
              "      <th>AL011860</th>\n",
              "      <td>34</td>\n",
              "      <td>34</td>\n",
              "      <td>34</td>\n",
              "      <td>34</td>\n",
              "      <td>34</td>\n",
              "      <td>34</td>\n",
              "      <td>34</td>\n",
              "      <td>34</td>\n",
              "      <td>34</td>\n",
              "      <td>34</td>\n",
              "      <td>...</td>\n",
              "      <td>34</td>\n",
              "      <td>34</td>\n",
              "      <td>34</td>\n",
              "      <td>34</td>\n",
              "      <td>34</td>\n",
              "      <td>34</td>\n",
              "      <td>34</td>\n",
              "      <td>34</td>\n",
              "      <td>34</td>\n",
              "      <td>34</td>\n",
              "    </tr>\n",
              "    <tr>\n",
              "      <th>...</th>\n",
              "      <td>...</td>\n",
              "      <td>...</td>\n",
              "      <td>...</td>\n",
              "      <td>...</td>\n",
              "      <td>...</td>\n",
              "      <td>...</td>\n",
              "      <td>...</td>\n",
              "      <td>...</td>\n",
              "      <td>...</td>\n",
              "      <td>...</td>\n",
              "      <td>...</td>\n",
              "      <td>...</td>\n",
              "      <td>...</td>\n",
              "      <td>...</td>\n",
              "      <td>...</td>\n",
              "      <td>...</td>\n",
              "      <td>...</td>\n",
              "      <td>...</td>\n",
              "      <td>...</td>\n",
              "      <td>...</td>\n",
              "      <td>...</td>\n",
              "    </tr>\n",
              "    <tr>\n",
              "      <th>AL282005</th>\n",
              "      <td>32</td>\n",
              "      <td>32</td>\n",
              "      <td>32</td>\n",
              "      <td>32</td>\n",
              "      <td>32</td>\n",
              "      <td>32</td>\n",
              "      <td>32</td>\n",
              "      <td>32</td>\n",
              "      <td>32</td>\n",
              "      <td>32</td>\n",
              "      <td>...</td>\n",
              "      <td>32</td>\n",
              "      <td>32</td>\n",
              "      <td>32</td>\n",
              "      <td>32</td>\n",
              "      <td>32</td>\n",
              "      <td>32</td>\n",
              "      <td>32</td>\n",
              "      <td>32</td>\n",
              "      <td>32</td>\n",
              "      <td>32</td>\n",
              "    </tr>\n",
              "    <tr>\n",
              "      <th>AL291969</th>\n",
              "      <td>12</td>\n",
              "      <td>12</td>\n",
              "      <td>12</td>\n",
              "      <td>12</td>\n",
              "      <td>12</td>\n",
              "      <td>12</td>\n",
              "      <td>12</td>\n",
              "      <td>12</td>\n",
              "      <td>12</td>\n",
              "      <td>12</td>\n",
              "      <td>...</td>\n",
              "      <td>12</td>\n",
              "      <td>12</td>\n",
              "      <td>12</td>\n",
              "      <td>12</td>\n",
              "      <td>12</td>\n",
              "      <td>12</td>\n",
              "      <td>12</td>\n",
              "      <td>12</td>\n",
              "      <td>12</td>\n",
              "      <td>12</td>\n",
              "    </tr>\n",
              "    <tr>\n",
              "      <th>AL292005</th>\n",
              "      <td>41</td>\n",
              "      <td>41</td>\n",
              "      <td>41</td>\n",
              "      <td>41</td>\n",
              "      <td>41</td>\n",
              "      <td>41</td>\n",
              "      <td>41</td>\n",
              "      <td>41</td>\n",
              "      <td>41</td>\n",
              "      <td>41</td>\n",
              "      <td>...</td>\n",
              "      <td>41</td>\n",
              "      <td>41</td>\n",
              "      <td>41</td>\n",
              "      <td>41</td>\n",
              "      <td>41</td>\n",
              "      <td>41</td>\n",
              "      <td>41</td>\n",
              "      <td>41</td>\n",
              "      <td>41</td>\n",
              "      <td>41</td>\n",
              "    </tr>\n",
              "    <tr>\n",
              "      <th>AL302005</th>\n",
              "      <td>42</td>\n",
              "      <td>42</td>\n",
              "      <td>42</td>\n",
              "      <td>42</td>\n",
              "      <td>42</td>\n",
              "      <td>42</td>\n",
              "      <td>42</td>\n",
              "      <td>42</td>\n",
              "      <td>42</td>\n",
              "      <td>42</td>\n",
              "      <td>...</td>\n",
              "      <td>42</td>\n",
              "      <td>42</td>\n",
              "      <td>42</td>\n",
              "      <td>42</td>\n",
              "      <td>42</td>\n",
              "      <td>42</td>\n",
              "      <td>42</td>\n",
              "      <td>42</td>\n",
              "      <td>42</td>\n",
              "      <td>42</td>\n",
              "    </tr>\n",
              "    <tr>\n",
              "      <th>AL312005</th>\n",
              "      <td>35</td>\n",
              "      <td>35</td>\n",
              "      <td>35</td>\n",
              "      <td>35</td>\n",
              "      <td>35</td>\n",
              "      <td>35</td>\n",
              "      <td>35</td>\n",
              "      <td>35</td>\n",
              "      <td>35</td>\n",
              "      <td>35</td>\n",
              "      <td>...</td>\n",
              "      <td>35</td>\n",
              "      <td>35</td>\n",
              "      <td>35</td>\n",
              "      <td>35</td>\n",
              "      <td>35</td>\n",
              "      <td>35</td>\n",
              "      <td>35</td>\n",
              "      <td>35</td>\n",
              "      <td>35</td>\n",
              "      <td>35</td>\n",
              "    </tr>\n",
              "  </tbody>\n",
              "</table>\n",
              "<p>1565 rows × 33 columns</p>\n",
              "</div>\n",
              "      <button class=\"colab-df-convert\" onclick=\"convertToInteractive('df-a9959fe7-c7bf-442f-bb59-bd93d91b25a1')\"\n",
              "              title=\"Convert this dataframe to an interactive table.\"\n",
              "              style=\"display:none;\">\n",
              "        \n",
              "  <svg xmlns=\"http://www.w3.org/2000/svg\" height=\"24px\"viewBox=\"0 0 24 24\"\n",
              "       width=\"24px\">\n",
              "    <path d=\"M0 0h24v24H0V0z\" fill=\"none\"/>\n",
              "    <path d=\"M18.56 5.44l.94 2.06.94-2.06 2.06-.94-2.06-.94-.94-2.06-.94 2.06-2.06.94zm-11 1L8.5 8.5l.94-2.06 2.06-.94-2.06-.94L8.5 2.5l-.94 2.06-2.06.94zm10 10l.94 2.06.94-2.06 2.06-.94-2.06-.94-.94-2.06-.94 2.06-2.06.94z\"/><path d=\"M17.41 7.96l-1.37-1.37c-.4-.4-.92-.59-1.43-.59-.52 0-1.04.2-1.43.59L10.3 9.45l-7.72 7.72c-.78.78-.78 2.05 0 2.83L4 21.41c.39.39.9.59 1.41.59.51 0 1.02-.2 1.41-.59l7.78-7.78 2.81-2.81c.8-.78.8-2.07 0-2.86zM5.41 20L4 18.59l7.72-7.72 1.47 1.35L5.41 20z\"/>\n",
              "  </svg>\n",
              "      </button>\n",
              "      \n",
              "  <style>\n",
              "    .colab-df-container {\n",
              "      display:flex;\n",
              "      flex-wrap:wrap;\n",
              "      gap: 12px;\n",
              "    }\n",
              "\n",
              "    .colab-df-convert {\n",
              "      background-color: #E8F0FE;\n",
              "      border: none;\n",
              "      border-radius: 50%;\n",
              "      cursor: pointer;\n",
              "      display: none;\n",
              "      fill: #1967D2;\n",
              "      height: 32px;\n",
              "      padding: 0 0 0 0;\n",
              "      width: 32px;\n",
              "    }\n",
              "\n",
              "    .colab-df-convert:hover {\n",
              "      background-color: #E2EBFA;\n",
              "      box-shadow: 0px 1px 2px rgba(60, 64, 67, 0.3), 0px 1px 3px 1px rgba(60, 64, 67, 0.15);\n",
              "      fill: #174EA6;\n",
              "    }\n",
              "\n",
              "    [theme=dark] .colab-df-convert {\n",
              "      background-color: #3B4455;\n",
              "      fill: #D2E3FC;\n",
              "    }\n",
              "\n",
              "    [theme=dark] .colab-df-convert:hover {\n",
              "      background-color: #434B5C;\n",
              "      box-shadow: 0px 1px 3px 1px rgba(0, 0, 0, 0.15);\n",
              "      filter: drop-shadow(0px 1px 2px rgba(0, 0, 0, 0.3));\n",
              "      fill: #FFFFFF;\n",
              "    }\n",
              "  </style>\n",
              "\n",
              "      <script>\n",
              "        const buttonEl =\n",
              "          document.querySelector('#df-a9959fe7-c7bf-442f-bb59-bd93d91b25a1 button.colab-df-convert');\n",
              "        buttonEl.style.display =\n",
              "          google.colab.kernel.accessAllowed ? 'block' : 'none';\n",
              "\n",
              "        async function convertToInteractive(key) {\n",
              "          const element = document.querySelector('#df-a9959fe7-c7bf-442f-bb59-bd93d91b25a1');\n",
              "          const dataTable =\n",
              "            await google.colab.kernel.invokeFunction('convertToInteractive',\n",
              "                                                     [key], {});\n",
              "          if (!dataTable) return;\n",
              "\n",
              "          const docLinkHtml = 'Like what you see? Visit the ' +\n",
              "            '<a target=\"_blank\" href=https://colab.research.google.com/notebooks/data_table.ipynb>data table notebook</a>'\n",
              "            + ' to learn more about interactive tables.';\n",
              "          element.innerHTML = '';\n",
              "          dataTable['output_type'] = 'display_data';\n",
              "          await google.colab.output.renderOutput(dataTable, element);\n",
              "          const docLink = document.createElement('div');\n",
              "          docLink.innerHTML = docLinkHtml;\n",
              "          element.appendChild(docLink);\n",
              "        }\n",
              "      </script>\n",
              "    </div>\n",
              "  </div>\n",
              "  "
            ]
          },
          "metadata": {},
          "execution_count": 20
        }
      ]
    },
    {
      "cell_type": "code",
      "source": [
        "df_max_scaled3.to_csv('sample_data/df3scaled.csv')"
      ],
      "metadata": {
        "id": "1Wl84HBgrToH"
      },
      "execution_count": 21,
      "outputs": []
    },
    {
      "cell_type": "markdown",
      "source": [
        "The original model is the one which uses without the displacement probability , i.e. df_max_scaled_orig data is without new added features"
      ],
      "metadata": {
        "id": "pA5y24MAPwjo"
      }
    },
    {
      "cell_type": "code",
      "source": [
        "df_max_scaled_orig = df_max_scaled3[df_max_scaled3.columns[:9]]"
      ],
      "metadata": {
        "id": "Z9eBJ7NasNom"
      },
      "execution_count": 22,
      "outputs": []
    },
    {
      "cell_type": "markdown",
      "source": [
        "Few storms are taken for testing."
      ],
      "metadata": {
        "id": "mcJMGJMIP_xF"
      }
    },
    {
      "cell_type": "code",
      "source": [
        "test_storm1 = df_max_scaled3[df_max_scaled3['ID']=='AL111898']\n",
        "test_storm1_orig = df_max_scaled_orig[df_max_scaled_orig['ID']=='AL111898']\n"
      ],
      "metadata": {
        "id": "gjiPxctslPhW"
      },
      "execution_count": 23,
      "outputs": []
    },
    {
      "cell_type": "code",
      "source": [
        "test_storm2 = df_max_scaled3[df_max_scaled3['ID']=='AL091898']\n",
        "test_storm2_org = df_max_scaled_orig[df_max_scaled_orig['ID']=='AL091898']"
      ],
      "metadata": {
        "id": "KR8gAr10yAg5"
      },
      "execution_count": 24,
      "outputs": []
    },
    {
      "cell_type": "code",
      "source": [
        "test_storm3 = df_max_scaled3[df_max_scaled3['ID']=='AL071898']\n",
        "test_storm3_org = df_max_scaled_orig[df_max_scaled_orig['ID']=='AL091898']"
      ],
      "metadata": {
        "id": "Zw-5N0VtyGOH"
      },
      "execution_count": 25,
      "outputs": []
    },
    {
      "cell_type": "code",
      "source": [
        "kendra = df_max_scaled3[df_max_scaled3['ID']=='AL231978']\n",
        "laurie = df_max_scaled3[df_max_scaled3['ID']=='AL261969']\n",
        "martha = df_max_scaled3[df_max_scaled3['ID']=='AL291969']\n",
        "twentytwo = df_max_scaled3[df_max_scaled3['ID']=='AL232005']\n",
        "vince = df_max_scaled3[df_max_scaled3['ID']=='AL232005']\n",
        "wilma = df_max_scaled3[df_max_scaled3['ID']=='AL252005']\n",
        "zeta = df_max_scaled3[df_max_scaled3['ID']=='AL312005']"
      ],
      "metadata": {
        "id": "1H4frHsalXZb"
      },
      "execution_count": 26,
      "outputs": []
    },
    {
      "cell_type": "markdown",
      "source": [
        "The data is grouped and formatted to send to the lstm model i.e. data for many steps are combined. The _o suffix in the following blocks indicate the model without displacement probabilties."
      ],
      "metadata": {
        "id": "GptuoCUFQJ9j"
      }
    },
    {
      "cell_type": "code",
      "source": [
        "dataX_o, dataY1_o, dataY2_o, dataY3_o, dataY4_o, dataY5_o = [], [], [], [], [], []\n",
        "for i in range(len(df_max_scaled_orig)-10-1):\n",
        "  x = df_max_scaled_orig.iloc[i:(i+10), 2:]\n",
        "  x1 =  df_max_scaled_orig.iloc[i:(i+10), 0]\n",
        "  if x1.iloc[0] == x1.iloc[-1] and not x.isnull().values.any():\n",
        "     dataX_o.append(x.iloc[:-5,:])\n",
        "     dataY1_o.append(x.iloc[-5,[x.columns.get_loc('lcc_x'),x.columns.get_loc('lcc_y')]])\n",
        "     dataY2_o.append(x.iloc[-4,[x.columns.get_loc('lcc_x'),x.columns.get_loc('lcc_y')]])\n",
        "     dataY3_o.append(x.iloc[-3,[x.columns.get_loc('lcc_x'),x.columns.get_loc('lcc_y')]])\n",
        "     dataY4_o.append(x.iloc[-2,[x.columns.get_loc('lcc_x'),x.columns.get_loc('lcc_y')]])\n",
        "     dataY5_o.append(x.iloc[-1,[x.columns.get_loc('lcc_x'),x.columns.get_loc('lcc_y')]])\n",
        "    "
      ],
      "metadata": {
        "id": "JLW_cluuEiAt"
      },
      "execution_count": 28,
      "outputs": []
    },
    {
      "cell_type": "code",
      "source": [
        "dataX, dataY1, dataY2, dataY3, dataY4, dataY5 = [], [], [], [], [], []\n",
        "for i in range(len(df_max_scaled3)-10-1):\n",
        "  x = df_max_scaled3.iloc[i:(i+10), 2:]\n",
        "  x1 =  df_max_scaled3.iloc[i:(i+10), 0]\n",
        "  if x1.iloc[0] == x1.iloc[-1] and not x.isnull().values.any():\n",
        "     dataX.append(x.iloc[:-5,:])\n",
        "     dataY1.append(x.iloc[-5,[x.columns.get_loc('lcc_x'),x.columns.get_loc('lcc_y')]])\n",
        "     dataY2.append(x.iloc[-4,[x.columns.get_loc('lcc_x'),x.columns.get_loc('lcc_y')]])\n",
        "     dataY3.append(x.iloc[-3,[x.columns.get_loc('lcc_x'),x.columns.get_loc('lcc_y')]])\n",
        "     dataY4.append(x.iloc[-2,[x.columns.get_loc('lcc_x'),x.columns.get_loc('lcc_y')]])\n",
        "     dataY5.append(x.iloc[-1,[x.columns.get_loc('lcc_x'),x.columns.get_loc('lcc_y')]])\n",
        "    \n"
      ],
      "metadata": {
        "id": "jJDaCcOgCwx6"
      },
      "execution_count": 29,
      "outputs": []
    },
    {
      "cell_type": "markdown",
      "source": [
        "The data is converted to format required for lstm"
      ],
      "metadata": {
        "id": "EoQSB-sJRGUb"
      }
    },
    {
      "cell_type": "code",
      "source": [
        "trainX = np.array(dataX[:-4228]).astype('float32')\n",
        "trainY1 =  np.array(dataY1[:-4228]).astype('float32')\n",
        "trainY2 =  np.array(dataY2[:-4228]).astype('float32')\n",
        "trainY3 =  np.array(dataY3[:-4228]).astype('float32')\n",
        "trainY4 =  np.array(dataY4[:-4228]).astype('float32')\n",
        "trainY5 =  np.array(dataY5[:-4228]).astype('float32')\n",
        "validX = np.array(dataX[-4228:-1128]).astype('float32')\n",
        "validY1 =  np.array(dataY1[-4228:-1128]).astype('float32')\n",
        "validY2 =  np.array(dataY2[-4228:-1128]).astype('float32')\n",
        "validY3 =  np.array(dataY3[-4228:-1128]).astype('float32')\n",
        "validY4 =  np.array(dataY4[-4228:-1128]).astype('float32')\n",
        "validY5 =  np.array(dataY5[-4228:-1128]).astype('float32')\n",
        "testX = np.array(dataX[7837:-8]).astype('float32')\n",
        "testY1 =  np.array(dataY1[7837:-8]).astype('float32')\n",
        "testY2 =  np.array(dataY2[7837:-8]).astype('float32')\n",
        "testY3 =  np.array(dataY3[7837:-8]).astype('float32')\n",
        "testY4 =  np.array(dataY4[7837:-8]).astype('float32')\n",
        "testY5 =  np.array(dataY5[7837:-8]).astype('float32')"
      ],
      "metadata": {
        "id": "-9hWYM-4STkG"
      },
      "execution_count": 30,
      "outputs": []
    },
    {
      "cell_type": "code",
      "source": [
        "trainX_o = np.array(dataX_o[:-4228]).astype('float32')\n",
        "trainY1_o =  np.array(dataY1_o[:-4228]).astype('float32')\n",
        "trainY2_o =  np.array(dataY2_o[:-4228]).astype('float32')\n",
        "trainY3_o =  np.array(dataY3_o[:-4228]).astype('float32')\n",
        "trainY4_o =  np.array(dataY4_o[:-4228]).astype('float32')\n",
        "trainY5_o =  np.array(dataY5_o[:-4228]).astype('float32')\n",
        "validX_o = np.array(dataX_o[-4228:-1128]).astype('float32')\n",
        "validY1_o =  np.array(dataY1_o[-4228:-1128]).astype('float32')\n",
        "validY2_o =  np.array(dataY2_o[-4228:-1128]).astype('float32')\n",
        "validY3_o =  np.array(dataY3_o[-4228:-1128]).astype('float32')\n",
        "validY4_o =  np.array(dataY4_o[-4228:-1128]).astype('float32')\n",
        "validY5_o =  np.array(dataY5_o[-4228:-1128]).astype('float32')\n",
        "testX_o = np.array(dataX_o[7837:-8]).astype('float32')\n",
        "testY1_o =  np.array(dataY1_o[7837:-8]).astype('float32')\n",
        "testY2_o =  np.array(dataY2_o[7837:-8]).astype('float32')\n",
        "testY3_o =  np.array(dataY3_o[7837:-8]).astype('float32')\n",
        "testY4_o =  np.array(dataY4_o[7837:-8]).astype('float32')\n",
        "testY5_o =  np.array(dataY5_o[7837:-8]).astype('float32')"
      ],
      "metadata": {
        "id": "bOMJot7d8U8o"
      },
      "execution_count": 31,
      "outputs": []
    },
    {
      "cell_type": "markdown",
      "source": [
        "Different models are defined and trained i.e. adam, sgd, rmseprop, with regualrization (adam according to best performance). We use 15 epochs and batch_size 64 according to grid search which is shown few code blocks later."
      ],
      "metadata": {
        "id": "xXgsCKQTRxOP"
      }
    },
    {
      "cell_type": "code",
      "source": [
        "from tensorflow.keras.models import Sequential, Model\n",
        "from tensorflow.keras.layers import Dense\n",
        "from tensorflow.keras.layers import LSTM, Input\n",
        "from sklearn.model_selection import GridSearchCV\n",
        "from tensorflow.keras import optimizers\n",
        "from keras.wrappers.scikit_learn import KerasClassifier\n",
        "\n",
        "\n",
        "optimizer = optimizers.Adam()\n",
        "inputs = Input(shape=(5,32))  \n",
        "x = LSTM(50,return_sequences=True)(inputs)\n",
        "x = LSTM(50)(x)\n",
        "out1 = Dense(2)(x)\n",
        "out2 = Dense(2)(x)\n",
        "out3 = Dense(2)(x)\n",
        "out4 = Dense(2)(x)\n",
        "out5 = Dense(2)(x)\n",
        "lstm_adam = Model(inputs,(out1,out2,out3,out4,out5))\n",
        "lstm_adam.compile(loss='mean_squared_error',optimizer=optimizer,metrics=['mse','mae'])"
      ],
      "metadata": {
        "id": "4-lSwUGOWPsv"
      },
      "execution_count": 33,
      "outputs": []
    },
    {
      "cell_type": "code",
      "source": [
        "\n",
        "history_adam = lstm_adam.fit(trainX, [trainY1, trainY2, trainY3, trainY4, trainY5], batch_size=64, epochs=15, validation_data=[validX, (validY1, validY2, validY3, validY4, validY5)])\n"
      ],
      "metadata": {
        "colab": {
          "base_uri": "https://localhost:8080/"
        },
        "id": "TFaahaozI1Du",
        "outputId": "12037582-6668-4c14-ecd0-7115bc878eaf"
      },
      "execution_count": 52,
      "outputs": [
        {
          "output_type": "stream",
          "name": "stdout",
          "text": [
            "Epoch 1/15\n",
            "427/427 [==============================] - 8s 10ms/step - loss: 0.0399 - dense_5_loss: 0.0066 - dense_6_loss: 0.0089 - dense_7_loss: 0.0064 - dense_8_loss: 0.0104 - dense_9_loss: 0.0076 - dense_5_mse: 0.0066 - dense_5_mae: 0.0402 - dense_6_mse: 0.0089 - dense_6_mae: 0.0450 - dense_7_mse: 0.0064 - dense_7_mae: 0.0453 - dense_8_mse: 0.0104 - dense_8_mae: 0.0526 - dense_9_mse: 0.0076 - dense_9_mae: 0.0509 - val_loss: 0.0055 - val_dense_5_loss: 4.9645e-04 - val_dense_6_loss: 7.2218e-04 - val_dense_7_loss: 0.0010 - val_dense_8_loss: 0.0014 - val_dense_9_loss: 0.0018 - val_dense_5_mse: 4.9645e-04 - val_dense_5_mae: 0.0152 - val_dense_6_mse: 7.2218e-04 - val_dense_6_mae: 0.0188 - val_dense_7_mse: 0.0010 - val_dense_7_mae: 0.0226 - val_dense_8_mse: 0.0014 - val_dense_8_mae: 0.0264 - val_dense_9_mse: 0.0018 - val_dense_9_mae: 0.0300\n",
            "Epoch 2/15\n",
            "427/427 [==============================] - 4s 10ms/step - loss: 0.0047 - dense_5_loss: 4.0443e-04 - dense_6_loss: 5.8637e-04 - dense_7_loss: 8.6002e-04 - dense_8_loss: 0.0012 - dense_9_loss: 0.0017 - dense_5_mse: 4.0443e-04 - dense_5_mae: 0.0144 - dense_6_mse: 5.8637e-04 - dense_6_mae: 0.0175 - dense_7_mse: 8.6002e-04 - dense_7_mae: 0.0211 - dense_8_mse: 0.0012 - dense_8_mae: 0.0249 - dense_9_mse: 0.0017 - dense_9_mae: 0.0287 - val_loss: 0.0051 - val_dense_5_loss: 4.0121e-04 - val_dense_6_loss: 6.3704e-04 - val_dense_7_loss: 9.7634e-04 - val_dense_8_loss: 0.0013 - val_dense_9_loss: 0.0017 - val_dense_5_mse: 4.0121e-04 - val_dense_5_mae: 0.0141 - val_dense_6_mse: 6.3704e-04 - val_dense_6_mae: 0.0177 - val_dense_7_mse: 9.7634e-04 - val_dense_7_mae: 0.0220 - val_dense_8_mse: 0.0013 - val_dense_8_mae: 0.0249 - val_dense_9_mse: 0.0017 - val_dense_9_mae: 0.0287\n",
            "Epoch 3/15\n",
            "427/427 [==============================] - 4s 10ms/step - loss: 0.0040 - dense_5_loss: 3.1620e-04 - dense_6_loss: 4.8334e-04 - dense_7_loss: 7.1956e-04 - dense_8_loss: 0.0011 - dense_9_loss: 0.0014 - dense_5_mse: 3.1620e-04 - dense_5_mae: 0.0128 - dense_6_mse: 4.8334e-04 - dense_6_mae: 0.0158 - dense_7_mse: 7.1956e-04 - dense_7_mae: 0.0192 - dense_8_mse: 0.0011 - dense_8_mae: 0.0231 - dense_9_mse: 0.0014 - dense_9_mae: 0.0268 - val_loss: 0.0040 - val_dense_5_loss: 2.9239e-04 - val_dense_6_loss: 4.8842e-04 - val_dense_7_loss: 7.0631e-04 - val_dense_8_loss: 0.0011 - val_dense_9_loss: 0.0014 - val_dense_5_mse: 2.9239e-04 - val_dense_5_mae: 0.0117 - val_dense_6_mse: 4.8842e-04 - val_dense_6_mae: 0.0151 - val_dense_7_mse: 7.0631e-04 - val_dense_7_mae: 0.0183 - val_dense_8_mse: 0.0011 - val_dense_8_mae: 0.0223 - val_dense_9_mse: 0.0014 - val_dense_9_mae: 0.0257\n",
            "Epoch 4/15\n",
            "427/427 [==============================] - 4s 10ms/step - loss: 0.0035 - dense_5_loss: 2.6079e-04 - dense_6_loss: 4.0428e-04 - dense_7_loss: 6.0335e-04 - dense_8_loss: 9.3694e-04 - dense_9_loss: 0.0013 - dense_5_mse: 2.6079e-04 - dense_5_mae: 0.0118 - dense_6_mse: 4.0428e-04 - dense_6_mae: 0.0145 - dense_7_mse: 6.0335e-04 - dense_7_mae: 0.0176 - dense_8_mse: 9.3694e-04 - dense_8_mae: 0.0216 - dense_9_mse: 0.0013 - dense_9_mae: 0.0250 - val_loss: 0.0035 - val_dense_5_loss: 2.5074e-04 - val_dense_6_loss: 4.1941e-04 - val_dense_7_loss: 6.3741e-04 - val_dense_8_loss: 9.4205e-04 - val_dense_9_loss: 0.0013 - val_dense_5_mse: 2.5074e-04 - val_dense_5_mae: 0.0114 - val_dense_6_mse: 4.1941e-04 - val_dense_6_mae: 0.0147 - val_dense_7_mse: 6.3741e-04 - val_dense_7_mae: 0.0179 - val_dense_8_mse: 9.4205e-04 - val_dense_8_mae: 0.0213 - val_dense_9_mse: 0.0013 - val_dense_9_mae: 0.0246\n",
            "Epoch 5/15\n",
            "427/427 [==============================] - 4s 10ms/step - loss: 0.0030 - dense_5_loss: 2.0905e-04 - dense_6_loss: 3.3424e-04 - dense_7_loss: 5.1131e-04 - dense_8_loss: 7.9830e-04 - dense_9_loss: 0.0011 - dense_5_mse: 2.0905e-04 - dense_5_mae: 0.0106 - dense_6_mse: 3.3424e-04 - dense_6_mae: 0.0131 - dense_7_mse: 5.1131e-04 - dense_7_mae: 0.0161 - dense_8_mse: 7.9830e-04 - dense_8_mae: 0.0197 - dense_9_mse: 0.0011 - dense_9_mae: 0.0233 - val_loss: 0.0030 - val_dense_5_loss: 1.8024e-04 - val_dense_6_loss: 3.2759e-04 - val_dense_7_loss: 5.1187e-04 - val_dense_8_loss: 8.2114e-04 - val_dense_9_loss: 0.0011 - val_dense_5_mse: 1.8024e-04 - val_dense_5_mae: 0.0091 - val_dense_6_mse: 3.2759e-04 - val_dense_6_mae: 0.0123 - val_dense_7_mse: 5.1187e-04 - val_dense_7_mae: 0.0155 - val_dense_8_mse: 8.2114e-04 - val_dense_8_mae: 0.0197 - val_dense_9_mse: 0.0011 - val_dense_9_mae: 0.0234\n",
            "Epoch 6/15\n",
            "427/427 [==============================] - 4s 10ms/step - loss: 0.0026 - dense_5_loss: 1.7339e-04 - dense_6_loss: 2.8547e-04 - dense_7_loss: 4.4242e-04 - dense_8_loss: 7.1273e-04 - dense_9_loss: 0.0010 - dense_5_mse: 1.7339e-04 - dense_5_mae: 0.0096 - dense_6_mse: 2.8547e-04 - dense_6_mae: 0.0120 - dense_7_mse: 4.4242e-04 - dense_7_mae: 0.0148 - dense_8_mse: 7.1273e-04 - dense_8_mae: 0.0185 - dense_9_mse: 0.0010 - dense_9_mae: 0.0219 - val_loss: 0.0027 - val_dense_5_loss: 1.7877e-04 - val_dense_6_loss: 3.0835e-04 - val_dense_7_loss: 4.6510e-04 - val_dense_8_loss: 7.3299e-04 - val_dense_9_loss: 0.0010 - val_dense_5_mse: 1.7877e-04 - val_dense_5_mae: 0.0097 - val_dense_6_mse: 3.0835e-04 - val_dense_6_mae: 0.0124 - val_dense_7_mse: 4.6510e-04 - val_dense_7_mae: 0.0147 - val_dense_8_mse: 7.3299e-04 - val_dense_8_mae: 0.0185 - val_dense_9_mse: 0.0010 - val_dense_9_mae: 0.0219\n",
            "Epoch 7/15\n",
            "427/427 [==============================] - 4s 10ms/step - loss: 0.0024 - dense_5_loss: 1.5116e-04 - dense_6_loss: 2.5129e-04 - dense_7_loss: 3.9956e-04 - dense_8_loss: 6.4601e-04 - dense_9_loss: 9.3440e-04 - dense_5_mse: 1.5116e-04 - dense_5_mae: 0.0089 - dense_6_mse: 2.5129e-04 - dense_6_mae: 0.0112 - dense_7_mse: 3.9956e-04 - dense_7_mae: 0.0141 - dense_8_mse: 6.4601e-04 - dense_8_mae: 0.0175 - dense_9_mse: 9.3440e-04 - dense_9_mae: 0.0210 - val_loss: 0.0026 - val_dense_5_loss: 1.7981e-04 - val_dense_6_loss: 2.7180e-04 - val_dense_7_loss: 4.4668e-04 - val_dense_8_loss: 6.9777e-04 - val_dense_9_loss: 9.6897e-04 - val_dense_5_mse: 1.7981e-04 - val_dense_5_mae: 0.0092 - val_dense_6_mse: 2.7180e-04 - val_dense_6_mae: 0.0110 - val_dense_7_mse: 4.4668e-04 - val_dense_7_mae: 0.0144 - val_dense_8_mse: 6.9777e-04 - val_dense_8_mae: 0.0180 - val_dense_9_mse: 9.6897e-04 - val_dense_9_mae: 0.0214\n",
            "Epoch 8/15\n",
            "427/427 [==============================] - 4s 10ms/step - loss: 0.0022 - dense_5_loss: 1.3941e-04 - dense_6_loss: 2.2660e-04 - dense_7_loss: 3.6516e-04 - dense_8_loss: 6.0091e-04 - dense_9_loss: 8.8090e-04 - dense_5_mse: 1.3941e-04 - dense_5_mae: 0.0087 - dense_6_mse: 2.2660e-04 - dense_6_mae: 0.0107 - dense_7_mse: 3.6516e-04 - dense_7_mae: 0.0134 - dense_8_mse: 6.0091e-04 - dense_8_mae: 0.0168 - dense_9_mse: 8.8090e-04 - dense_9_mae: 0.0203 - val_loss: 0.0023 - val_dense_5_loss: 1.2117e-04 - val_dense_6_loss: 2.4146e-04 - val_dense_7_loss: 4.0101e-04 - val_dense_8_loss: 6.2883e-04 - val_dense_9_loss: 9.1005e-04 - val_dense_5_mse: 1.2117e-04 - val_dense_5_mae: 0.0073 - val_dense_6_mse: 2.4146e-04 - val_dense_6_mae: 0.0105 - val_dense_7_mse: 4.0101e-04 - val_dense_7_mae: 0.0136 - val_dense_8_mse: 6.2883e-04 - val_dense_8_mae: 0.0170 - val_dense_9_mse: 9.1005e-04 - val_dense_9_mae: 0.0206\n",
            "Epoch 9/15\n",
            "427/427 [==============================] - 4s 10ms/step - loss: 0.0021 - dense_5_loss: 1.2785e-04 - dense_6_loss: 2.0820e-04 - dense_7_loss: 3.3875e-04 - dense_8_loss: 5.6074e-04 - dense_9_loss: 8.3220e-04 - dense_5_mse: 1.2785e-04 - dense_5_mae: 0.0084 - dense_6_mse: 2.0820e-04 - dense_6_mae: 0.0103 - dense_7_mse: 3.3875e-04 - dense_7_mae: 0.0130 - dense_8_mse: 5.6074e-04 - dense_8_mae: 0.0163 - dense_9_mse: 8.3220e-04 - dense_9_mae: 0.0198 - val_loss: 0.0022 - val_dense_5_loss: 1.2567e-04 - val_dense_6_loss: 2.2697e-04 - val_dense_7_loss: 3.7654e-04 - val_dense_8_loss: 6.0263e-04 - val_dense_9_loss: 9.0671e-04 - val_dense_5_mse: 1.2567e-04 - val_dense_5_mae: 0.0078 - val_dense_6_mse: 2.2697e-04 - val_dense_6_mae: 0.0102 - val_dense_7_mse: 3.7654e-04 - val_dense_7_mae: 0.0134 - val_dense_8_mse: 6.0263e-04 - val_dense_8_mae: 0.0168 - val_dense_9_mse: 9.0671e-04 - val_dense_9_mae: 0.0209\n",
            "Epoch 10/15\n",
            "427/427 [==============================] - 4s 10ms/step - loss: 0.0019 - dense_5_loss: 1.0444e-04 - dense_6_loss: 1.8099e-04 - dense_7_loss: 3.0396e-04 - dense_8_loss: 5.1737e-04 - dense_9_loss: 7.8003e-04 - dense_5_mse: 1.0444e-04 - dense_5_mae: 0.0075 - dense_6_mse: 1.8099e-04 - dense_6_mae: 0.0095 - dense_7_mse: 3.0396e-04 - dense_7_mae: 0.0123 - dense_8_mse: 5.1737e-04 - dense_8_mae: 0.0156 - dense_9_mse: 7.8003e-04 - dense_9_mae: 0.0191 - val_loss: 0.0020 - val_dense_5_loss: 1.1652e-04 - val_dense_6_loss: 2.2378e-04 - val_dense_7_loss: 3.2448e-04 - val_dense_8_loss: 5.3818e-04 - val_dense_9_loss: 7.8909e-04 - val_dense_5_mse: 1.1652e-04 - val_dense_5_mae: 0.0079 - val_dense_6_mse: 2.2378e-04 - val_dense_6_mae: 0.0105 - val_dense_7_mse: 3.2448e-04 - val_dense_7_mae: 0.0124 - val_dense_8_mse: 5.3818e-04 - val_dense_8_mae: 0.0158 - val_dense_9_mse: 7.8909e-04 - val_dense_9_mae: 0.0193\n",
            "Epoch 11/15\n",
            "427/427 [==============================] - 4s 10ms/step - loss: 0.0018 - dense_5_loss: 9.7722e-05 - dense_6_loss: 1.6675e-04 - dense_7_loss: 2.8422e-04 - dense_8_loss: 4.8769e-04 - dense_9_loss: 7.4958e-04 - dense_5_mse: 9.7722e-05 - dense_5_mae: 0.0073 - dense_6_mse: 1.6675e-04 - dense_6_mae: 0.0092 - dense_7_mse: 2.8422e-04 - dense_7_mae: 0.0120 - dense_8_mse: 4.8769e-04 - dense_8_mae: 0.0152 - dense_9_mse: 7.4958e-04 - dense_9_mae: 0.0188 - val_loss: 0.0020 - val_dense_5_loss: 1.2500e-04 - val_dense_6_loss: 2.2365e-04 - val_dense_7_loss: 3.2526e-04 - val_dense_8_loss: 5.2717e-04 - val_dense_9_loss: 7.8453e-04 - val_dense_5_mse: 1.2500e-04 - val_dense_5_mae: 0.0087 - val_dense_6_mse: 2.2365e-04 - val_dense_6_mae: 0.0108 - val_dense_7_mse: 3.2526e-04 - val_dense_7_mae: 0.0126 - val_dense_8_mse: 5.2717e-04 - val_dense_8_mae: 0.0157 - val_dense_9_mse: 7.8453e-04 - val_dense_9_mae: 0.0192\n",
            "Epoch 12/15\n",
            "427/427 [==============================] - 4s 10ms/step - loss: 0.0017 - dense_5_loss: 8.3022e-05 - dense_6_loss: 1.4807e-04 - dense_7_loss: 2.5865e-04 - dense_8_loss: 4.5614e-04 - dense_9_loss: 7.0751e-04 - dense_5_mse: 8.3022e-05 - dense_5_mae: 0.0068 - dense_6_mse: 1.4807e-04 - dense_6_mae: 0.0087 - dense_7_mse: 2.5865e-04 - dense_7_mae: 0.0114 - dense_8_mse: 4.5614e-04 - dense_8_mae: 0.0147 - dense_9_mse: 7.0751e-04 - dense_9_mae: 0.0182 - val_loss: 0.0018 - val_dense_5_loss: 8.7487e-05 - val_dense_6_loss: 1.6522e-04 - val_dense_7_loss: 2.8320e-04 - val_dense_8_loss: 5.2416e-04 - val_dense_9_loss: 7.3661e-04 - val_dense_5_mse: 8.7487e-05 - val_dense_5_mae: 0.0070 - val_dense_6_mse: 1.6522e-04 - val_dense_6_mae: 0.0091 - val_dense_7_mse: 2.8320e-04 - val_dense_7_mae: 0.0116 - val_dense_8_mse: 5.2416e-04 - val_dense_8_mae: 0.0165 - val_dense_9_mse: 7.3661e-04 - val_dense_9_mae: 0.0187\n",
            "Epoch 13/15\n",
            "427/427 [==============================] - 5s 12ms/step - loss: 0.0015 - dense_5_loss: 7.0936e-05 - dense_6_loss: 1.3299e-04 - dense_7_loss: 2.3643e-04 - dense_8_loss: 4.2686e-04 - dense_9_loss: 6.7578e-04 - dense_5_mse: 7.0936e-05 - dense_5_mae: 0.0063 - dense_6_mse: 1.3299e-04 - dense_6_mae: 0.0083 - dense_7_mse: 2.3643e-04 - dense_7_mae: 0.0109 - dense_8_mse: 4.2686e-04 - dense_8_mae: 0.0142 - dense_9_mse: 6.7578e-04 - dense_9_mae: 0.0178 - val_loss: 0.0016 - val_dense_5_loss: 6.0726e-05 - val_dense_6_loss: 1.4000e-04 - val_dense_7_loss: 2.6195e-04 - val_dense_8_loss: 4.5096e-04 - val_dense_9_loss: 7.2017e-04 - val_dense_5_mse: 6.0726e-05 - val_dense_5_mae: 0.0053 - val_dense_6_mse: 1.4000e-04 - val_dense_6_mae: 0.0081 - val_dense_7_mse: 2.6195e-04 - val_dense_7_mae: 0.0111 - val_dense_8_mse: 4.5096e-04 - val_dense_8_mae: 0.0145 - val_dense_9_mse: 7.2017e-04 - val_dense_9_mae: 0.0184\n",
            "Epoch 14/15\n",
            "427/427 [==============================] - 5s 11ms/step - loss: 0.0015 - dense_5_loss: 7.2865e-05 - dense_6_loss: 1.2987e-04 - dense_7_loss: 2.3299e-04 - dense_8_loss: 4.1753e-04 - dense_9_loss: 6.6701e-04 - dense_5_mse: 7.2865e-05 - dense_5_mae: 0.0064 - dense_6_mse: 1.2987e-04 - dense_6_mae: 0.0082 - dense_7_mse: 2.3299e-04 - dense_7_mae: 0.0109 - dense_8_mse: 4.1753e-04 - dense_8_mae: 0.0141 - dense_9_mse: 6.6701e-04 - dense_9_mae: 0.0177 - val_loss: 0.0016 - val_dense_5_loss: 5.6570e-05 - val_dense_6_loss: 1.3136e-04 - val_dense_7_loss: 2.4999e-04 - val_dense_8_loss: 4.3996e-04 - val_dense_9_loss: 6.8898e-04 - val_dense_5_mse: 5.6570e-05 - val_dense_5_mae: 0.0053 - val_dense_6_mse: 1.3136e-04 - val_dense_6_mae: 0.0079 - val_dense_7_mse: 2.4999e-04 - val_dense_7_mae: 0.0108 - val_dense_8_mse: 4.3996e-04 - val_dense_8_mae: 0.0145 - val_dense_9_mse: 6.8898e-04 - val_dense_9_mae: 0.0181\n",
            "Epoch 15/15\n",
            "427/427 [==============================] - 4s 10ms/step - loss: 0.0015 - dense_5_loss: 6.8341e-05 - dense_6_loss: 1.2255e-04 - dense_7_loss: 2.2224e-04 - dense_8_loss: 4.0472e-04 - dense_9_loss: 6.5031e-04 - dense_5_mse: 6.8341e-05 - dense_5_mae: 0.0062 - dense_6_mse: 1.2255e-04 - dense_6_mae: 0.0080 - dense_7_mse: 2.2224e-04 - dense_7_mae: 0.0106 - dense_8_mse: 4.0472e-04 - dense_8_mae: 0.0139 - dense_9_mse: 6.5031e-04 - dense_9_mae: 0.0175 - val_loss: 0.0016 - val_dense_5_loss: 6.9856e-05 - val_dense_6_loss: 1.3261e-04 - val_dense_7_loss: 2.7290e-04 - val_dense_8_loss: 4.4219e-04 - val_dense_9_loss: 7.1448e-04 - val_dense_5_mse: 6.9856e-05 - val_dense_5_mae: 0.0062 - val_dense_6_mse: 1.3261e-04 - val_dense_6_mae: 0.0082 - val_dense_7_mse: 2.7290e-04 - val_dense_7_mae: 0.0120 - val_dense_8_mse: 4.4219e-04 - val_dense_8_mae: 0.0148 - val_dense_9_mse: 7.1448e-04 - val_dense_9_mae: 0.0190\n"
          ]
        }
      ]
    },
    {
      "cell_type": "code",
      "source": [
        "from tensorflow.keras.models import Sequential, Model\n",
        "from tensorflow.keras.layers import Dense\n",
        "from tensorflow.keras.layers import LSTM, Input\n",
        "from sklearn.model_selection import GridSearchCV\n",
        "from tensorflow.keras import optimizers\n",
        "from keras.wrappers.scikit_learn import KerasClassifier\n",
        "\n",
        "\n",
        "optimizer = optimizers.SGD()\n",
        "inputs = Input(shape=(5,32))  \n",
        "x = LSTM(50,return_sequences=True)(inputs)\n",
        "x = LSTM(50)(x)\n",
        "out1 = Dense(2)(x)\n",
        "out2 = Dense(2)(x)\n",
        "out3 = Dense(2)(x)\n",
        "out4 = Dense(2)(x)\n",
        "out5 = Dense(2)(x)\n",
        "lstm_sgd = Model(inputs,(out1,out2,out3,out4,out5))\n",
        "lstm_sgd.compile(loss='mean_squared_error',optimizer=optimizer,metrics=['mse','mae'])"
      ],
      "metadata": {
        "id": "v76GF8pyWYBR"
      },
      "execution_count": 53,
      "outputs": []
    },
    {
      "cell_type": "code",
      "source": [
        "\n",
        "history_sgd = lstm_sgd.fit(trainX, [trainY1, trainY2, trainY3, trainY4, trainY5], batch_size=64, epochs=15, validation_data=[validX, (validY1, validY2, validY3, validY4, validY5)])\n"
      ],
      "metadata": {
        "colab": {
          "base_uri": "https://localhost:8080/"
        },
        "id": "Ft2-lkunJD7v",
        "outputId": "e14f4ba7-af01-4b03-a50a-4147df48f9d6"
      },
      "execution_count": 54,
      "outputs": [
        {
          "output_type": "stream",
          "name": "stdout",
          "text": [
            "Epoch 1/15\n",
            "427/427 [==============================] - 8s 12ms/step - loss: 0.1275 - dense_20_loss: 0.0238 - dense_21_loss: 0.0252 - dense_22_loss: 0.0269 - dense_23_loss: 0.0260 - dense_24_loss: 0.0256 - dense_20_mse: 0.0238 - dense_20_mae: 0.1086 - dense_21_mse: 0.0252 - dense_21_mae: 0.1144 - dense_22_mse: 0.0269 - dense_22_mae: 0.1199 - dense_23_mse: 0.0260 - dense_23_mae: 0.1167 - dense_24_mse: 0.0256 - dense_24_mae: 0.1151 - val_loss: 0.0937 - val_dense_20_loss: 0.0174 - val_dense_21_loss: 0.0183 - val_dense_22_loss: 0.0194 - val_dense_23_loss: 0.0181 - val_dense_24_loss: 0.0205 - val_dense_20_mse: 0.0174 - val_dense_20_mae: 0.1011 - val_dense_21_mse: 0.0183 - val_dense_21_mae: 0.1047 - val_dense_22_mse: 0.0194 - val_dense_22_mae: 0.1066 - val_dense_23_mse: 0.0181 - val_dense_23_mae: 0.1025 - val_dense_24_mse: 0.0205 - val_dense_24_mae: 0.1064\n",
            "Epoch 2/15\n",
            "427/427 [==============================] - 4s 9ms/step - loss: 0.0711 - dense_20_loss: 0.0130 - dense_21_loss: 0.0138 - dense_22_loss: 0.0145 - dense_23_loss: 0.0138 - dense_24_loss: 0.0160 - dense_20_mse: 0.0130 - dense_20_mae: 0.0869 - dense_21_mse: 0.0138 - dense_21_mae: 0.0906 - dense_22_mse: 0.0145 - dense_22_mae: 0.0919 - dense_23_mse: 0.0138 - dense_23_mae: 0.0891 - dense_24_mse: 0.0160 - dense_24_mae: 0.0942 - val_loss: 0.0825 - val_dense_20_loss: 0.0152 - val_dense_21_loss: 0.0160 - val_dense_22_loss: 0.0170 - val_dense_23_loss: 0.0164 - val_dense_24_loss: 0.0180 - val_dense_20_mse: 0.0152 - val_dense_20_mae: 0.0950 - val_dense_21_mse: 0.0160 - val_dense_21_mae: 0.0980 - val_dense_22_mse: 0.0170 - val_dense_22_mae: 0.1006 - val_dense_23_mse: 0.0164 - val_dense_23_mae: 0.0981 - val_dense_24_mse: 0.0180 - val_dense_24_mae: 0.0998\n",
            "Epoch 3/15\n",
            "427/427 [==============================] - 4s 9ms/step - loss: 0.0611 - dense_20_loss: 0.0110 - dense_21_loss: 0.0117 - dense_22_loss: 0.0124 - dense_23_loss: 0.0122 - dense_24_loss: 0.0138 - dense_20_mse: 0.0110 - dense_20_mae: 0.0808 - dense_21_mse: 0.0117 - dense_21_mae: 0.0838 - dense_22_mse: 0.0124 - dense_22_mae: 0.0856 - dense_23_mse: 0.0122 - dense_23_mae: 0.0846 - dense_24_mse: 0.0138 - dense_24_mae: 0.0875 - val_loss: 0.0694 - val_dense_20_loss: 0.0126 - val_dense_21_loss: 0.0133 - val_dense_22_loss: 0.0143 - val_dense_23_loss: 0.0143 - val_dense_24_loss: 0.0150 - val_dense_20_mse: 0.0126 - val_dense_20_mae: 0.0871 - val_dense_21_mse: 0.0133 - val_dense_21_mae: 0.0896 - val_dense_22_mse: 0.0143 - val_dense_22_mae: 0.0929 - val_dense_23_mse: 0.0143 - val_dense_23_mae: 0.0921 - val_dense_24_mse: 0.0150 - val_dense_24_mae: 0.0915\n",
            "Epoch 4/15\n",
            "427/427 [==============================] - 4s 10ms/step - loss: 0.0494 - dense_20_loss: 0.0087 - dense_21_loss: 0.0093 - dense_22_loss: 0.0099 - dense_23_loss: 0.0103 - dense_24_loss: 0.0111 - dense_20_mse: 0.0087 - dense_20_mae: 0.0729 - dense_21_mse: 0.0093 - dense_21_mae: 0.0754 - dense_22_mse: 0.0099 - dense_22_mae: 0.0775 - dense_23_mse: 0.0103 - dense_23_mae: 0.0783 - dense_24_mse: 0.0111 - dense_24_mae: 0.0792 - val_loss: 0.0528 - val_dense_20_loss: 0.0093 - val_dense_21_loss: 0.0099 - val_dense_22_loss: 0.0108 - val_dense_23_loss: 0.0115 - val_dense_24_loss: 0.0114 - val_dense_20_mse: 0.0093 - val_dense_20_mae: 0.0762 - val_dense_21_mse: 0.0099 - val_dense_21_mae: 0.0782 - val_dense_22_mse: 0.0108 - val_dense_22_mae: 0.0822 - val_dense_23_mse: 0.0115 - val_dense_23_mae: 0.0838 - val_dense_24_mse: 0.0114 - val_dense_24_mae: 0.0807\n",
            "Epoch 5/15\n",
            "427/427 [==============================] - 4s 9ms/step - loss: 0.0367 - dense_20_loss: 0.0062 - dense_21_loss: 0.0068 - dense_22_loss: 0.0073 - dense_23_loss: 0.0081 - dense_24_loss: 0.0083 - dense_20_mse: 0.0062 - dense_20_mae: 0.0628 - dense_21_mse: 0.0068 - dense_21_mae: 0.0651 - dense_22_mse: 0.0073 - dense_22_mae: 0.0674 - dense_23_mse: 0.0081 - dense_23_mae: 0.0701 - dense_24_mse: 0.0083 - dense_24_mae: 0.0694 - val_loss: 0.0379 - val_dense_20_loss: 0.0063 - val_dense_21_loss: 0.0069 - val_dense_22_loss: 0.0078 - val_dense_23_loss: 0.0088 - val_dense_24_loss: 0.0082 - val_dense_20_mse: 0.0063 - val_dense_20_mae: 0.0639 - val_dense_21_mse: 0.0069 - val_dense_21_mae: 0.0658 - val_dense_22_mse: 0.0078 - val_dense_22_mae: 0.0700 - val_dense_23_mse: 0.0088 - val_dense_23_mae: 0.0739 - val_dense_24_mse: 0.0082 - val_dense_24_mae: 0.0693\n",
            "Epoch 6/15\n",
            "427/427 [==============================] - 4s 10ms/step - loss: 0.0261 - dense_20_loss: 0.0042 - dense_21_loss: 0.0047 - dense_22_loss: 0.0051 - dense_23_loss: 0.0060 - dense_24_loss: 0.0061 - dense_20_mse: 0.0042 - dense_20_mae: 0.0520 - dense_21_mse: 0.0047 - dense_21_mae: 0.0548 - dense_22_mse: 0.0051 - dense_22_mae: 0.0567 - dense_23_mse: 0.0060 - dense_23_mae: 0.0611 - dense_24_mse: 0.0061 - dense_24_mae: 0.0601 - val_loss: 0.0268 - val_dense_20_loss: 0.0042 - val_dense_21_loss: 0.0047 - val_dense_22_loss: 0.0054 - val_dense_23_loss: 0.0065 - val_dense_24_loss: 0.0060 - val_dense_20_mse: 0.0042 - val_dense_20_mae: 0.0522 - val_dense_21_mse: 0.0047 - val_dense_21_mae: 0.0549 - val_dense_22_mse: 0.0054 - val_dense_22_mae: 0.0587 - val_dense_23_mse: 0.0065 - val_dense_23_mae: 0.0644 - val_dense_24_mse: 0.0060 - val_dense_24_mae: 0.0604\n",
            "Epoch 7/15\n",
            "427/427 [==============================] - 4s 10ms/step - loss: 0.0199 - dense_20_loss: 0.0031 - dense_21_loss: 0.0035 - dense_22_loss: 0.0038 - dense_23_loss: 0.0047 - dense_24_loss: 0.0048 - dense_20_mse: 0.0031 - dense_20_mae: 0.0436 - dense_21_mse: 0.0035 - dense_21_mae: 0.0472 - dense_22_mse: 0.0038 - dense_22_mae: 0.0486 - dense_23_mse: 0.0047 - dense_23_mae: 0.0541 - dense_24_mse: 0.0048 - dense_24_mae: 0.0539 - val_loss: 0.0215 - val_dense_20_loss: 0.0033 - val_dense_21_loss: 0.0037 - val_dense_22_loss: 0.0041 - val_dense_23_loss: 0.0053 - val_dense_24_loss: 0.0050 - val_dense_20_mse: 0.0033 - val_dense_20_mae: 0.0448 - val_dense_21_mse: 0.0037 - val_dense_21_mae: 0.0486 - val_dense_22_mse: 0.0041 - val_dense_22_mae: 0.0514 - val_dense_23_mse: 0.0053 - val_dense_23_mae: 0.0579 - val_dense_24_mse: 0.0050 - val_dense_24_mae: 0.0555\n",
            "Epoch 8/15\n",
            "427/427 [==============================] - 4s 9ms/step - loss: 0.0171 - dense_20_loss: 0.0026 - dense_21_loss: 0.0030 - dense_22_loss: 0.0032 - dense_23_loss: 0.0040 - dense_24_loss: 0.0043 - dense_20_mse: 0.0026 - dense_20_mae: 0.0389 - dense_21_mse: 0.0030 - dense_21_mae: 0.0430 - dense_22_mse: 0.0032 - dense_22_mae: 0.0441 - dense_23_mse: 0.0040 - dense_23_mae: 0.0498 - dense_24_mse: 0.0043 - dense_24_mae: 0.0507 - val_loss: 0.0191 - val_dense_20_loss: 0.0030 - val_dense_21_loss: 0.0033 - val_dense_22_loss: 0.0036 - val_dense_23_loss: 0.0047 - val_dense_24_loss: 0.0046 - val_dense_20_mse: 0.0030 - val_dense_20_mae: 0.0411 - val_dense_21_mse: 0.0033 - val_dense_21_mae: 0.0453 - val_dense_22_mse: 0.0036 - val_dense_22_mae: 0.0476 - val_dense_23_mse: 0.0047 - val_dense_23_mae: 0.0542 - val_dense_24_mse: 0.0046 - val_dense_24_mae: 0.0531\n",
            "Epoch 9/15\n",
            "427/427 [==============================] - 4s 10ms/step - loss: 0.0156 - dense_20_loss: 0.0024 - dense_21_loss: 0.0027 - dense_22_loss: 0.0028 - dense_23_loss: 0.0037 - dense_24_loss: 0.0040 - dense_20_mse: 0.0024 - dense_20_mae: 0.0366 - dense_21_mse: 0.0027 - dense_21_mae: 0.0408 - dense_22_mse: 0.0028 - dense_22_mae: 0.0418 - dense_23_mse: 0.0037 - dense_23_mae: 0.0472 - dense_24_mse: 0.0040 - dense_24_mae: 0.0490 - val_loss: 0.0176 - val_dense_20_loss: 0.0028 - val_dense_21_loss: 0.0031 - val_dense_22_loss: 0.0032 - val_dense_23_loss: 0.0042 - val_dense_24_loss: 0.0043 - val_dense_20_mse: 0.0028 - val_dense_20_mae: 0.0391 - val_dense_21_mse: 0.0031 - val_dense_21_mae: 0.0432 - val_dense_22_mse: 0.0032 - val_dense_22_mae: 0.0453 - val_dense_23_mse: 0.0042 - val_dense_23_mae: 0.0516 - val_dense_24_mse: 0.0043 - val_dense_24_mae: 0.0515\n",
            "Epoch 10/15\n",
            "427/427 [==============================] - 4s 10ms/step - loss: 0.0146 - dense_20_loss: 0.0022 - dense_21_loss: 0.0025 - dense_22_loss: 0.0026 - dense_23_loss: 0.0034 - dense_24_loss: 0.0038 - dense_20_mse: 0.0022 - dense_20_mae: 0.0353 - dense_21_mse: 0.0025 - dense_21_mae: 0.0393 - dense_22_mse: 0.0026 - dense_22_mae: 0.0403 - dense_23_mse: 0.0034 - dense_23_mae: 0.0455 - dense_24_mse: 0.0038 - dense_24_mae: 0.0478 - val_loss: 0.0165 - val_dense_20_loss: 0.0026 - val_dense_21_loss: 0.0029 - val_dense_22_loss: 0.0030 - val_dense_23_loss: 0.0039 - val_dense_24_loss: 0.0041 - val_dense_20_mse: 0.0026 - val_dense_20_mae: 0.0379 - val_dense_21_mse: 0.0029 - val_dense_21_mae: 0.0418 - val_dense_22_mse: 0.0030 - val_dense_22_mae: 0.0437 - val_dense_23_mse: 0.0039 - val_dense_23_mae: 0.0497 - val_dense_24_mse: 0.0041 - val_dense_24_mae: 0.0502\n",
            "Epoch 11/15\n",
            "427/427 [==============================] - 4s 10ms/step - loss: 0.0138 - dense_20_loss: 0.0021 - dense_21_loss: 0.0024 - dense_22_loss: 0.0025 - dense_23_loss: 0.0032 - dense_24_loss: 0.0036 - dense_20_mse: 0.0021 - dense_20_mae: 0.0342 - dense_21_mse: 0.0024 - dense_21_mae: 0.0381 - dense_22_mse: 0.0025 - dense_22_mae: 0.0392 - dense_23_mse: 0.0032 - dense_23_mae: 0.0441 - dense_24_mse: 0.0036 - dense_24_mae: 0.0468 - val_loss: 0.0156 - val_dense_20_loss: 0.0024 - val_dense_21_loss: 0.0027 - val_dense_22_loss: 0.0028 - val_dense_23_loss: 0.0037 - val_dense_24_loss: 0.0039 - val_dense_20_mse: 0.0024 - val_dense_20_mae: 0.0368 - val_dense_21_mse: 0.0027 - val_dense_21_mae: 0.0406 - val_dense_22_mse: 0.0028 - val_dense_22_mae: 0.0424 - val_dense_23_mse: 0.0037 - val_dense_23_mae: 0.0482 - val_dense_24_mse: 0.0039 - val_dense_24_mae: 0.0493\n",
            "Epoch 12/15\n",
            "427/427 [==============================] - 4s 10ms/step - loss: 0.0131 - dense_20_loss: 0.0020 - dense_21_loss: 0.0023 - dense_22_loss: 0.0023 - dense_23_loss: 0.0030 - dense_24_loss: 0.0035 - dense_20_mse: 0.0020 - dense_20_mae: 0.0332 - dense_21_mse: 0.0023 - dense_21_mae: 0.0371 - dense_22_mse: 0.0023 - dense_22_mae: 0.0382 - dense_23_mse: 0.0030 - dense_23_mae: 0.0429 - dense_24_mse: 0.0035 - dense_24_mae: 0.0459 - val_loss: 0.0148 - val_dense_20_loss: 0.0023 - val_dense_21_loss: 0.0026 - val_dense_22_loss: 0.0027 - val_dense_23_loss: 0.0035 - val_dense_24_loss: 0.0037 - val_dense_20_mse: 0.0023 - val_dense_20_mae: 0.0359 - val_dense_21_mse: 0.0026 - val_dense_21_mae: 0.0396 - val_dense_22_mse: 0.0027 - val_dense_22_mae: 0.0413 - val_dense_23_mse: 0.0035 - val_dense_23_mae: 0.0468 - val_dense_24_mse: 0.0037 - val_dense_24_mae: 0.0481\n",
            "Epoch 13/15\n",
            "427/427 [==============================] - 4s 10ms/step - loss: 0.0125 - dense_20_loss: 0.0018 - dense_21_loss: 0.0021 - dense_22_loss: 0.0022 - dense_23_loss: 0.0029 - dense_24_loss: 0.0034 - dense_20_mse: 0.0018 - dense_20_mae: 0.0323 - dense_21_mse: 0.0021 - dense_21_mae: 0.0361 - dense_22_mse: 0.0022 - dense_22_mae: 0.0373 - dense_23_mse: 0.0029 - dense_23_mae: 0.0418 - dense_24_mse: 0.0034 - dense_24_mae: 0.0450 - val_loss: 0.0141 - val_dense_20_loss: 0.0022 - val_dense_21_loss: 0.0024 - val_dense_22_loss: 0.0026 - val_dense_23_loss: 0.0033 - val_dense_24_loss: 0.0036 - val_dense_20_mse: 0.0022 - val_dense_20_mae: 0.0349 - val_dense_21_mse: 0.0024 - val_dense_21_mae: 0.0385 - val_dense_22_mse: 0.0026 - val_dense_22_mae: 0.0403 - val_dense_23_mse: 0.0033 - val_dense_23_mae: 0.0454 - val_dense_24_mse: 0.0036 - val_dense_24_mae: 0.0472\n",
            "Epoch 14/15\n",
            "427/427 [==============================] - 4s 10ms/step - loss: 0.0119 - dense_20_loss: 0.0017 - dense_21_loss: 0.0020 - dense_22_loss: 0.0021 - dense_23_loss: 0.0027 - dense_24_loss: 0.0033 - dense_20_mse: 0.0017 - dense_20_mae: 0.0314 - dense_21_mse: 0.0020 - dense_21_mae: 0.0352 - dense_22_mse: 0.0021 - dense_22_mae: 0.0365 - dense_23_mse: 0.0027 - dense_23_mae: 0.0408 - dense_24_mse: 0.0033 - dense_24_mae: 0.0441 - val_loss: 0.0134 - val_dense_20_loss: 0.0020 - val_dense_21_loss: 0.0023 - val_dense_22_loss: 0.0024 - val_dense_23_loss: 0.0031 - val_dense_24_loss: 0.0035 - val_dense_20_mse: 0.0020 - val_dense_20_mae: 0.0340 - val_dense_21_mse: 0.0023 - val_dense_21_mae: 0.0376 - val_dense_22_mse: 0.0024 - val_dense_22_mae: 0.0392 - val_dense_23_mse: 0.0031 - val_dense_23_mae: 0.0440 - val_dense_24_mse: 0.0035 - val_dense_24_mae: 0.0461\n",
            "Epoch 15/15\n",
            "427/427 [==============================] - 4s 10ms/step - loss: 0.0114 - dense_20_loss: 0.0016 - dense_21_loss: 0.0019 - dense_22_loss: 0.0020 - dense_23_loss: 0.0026 - dense_24_loss: 0.0031 - dense_20_mse: 0.0016 - dense_20_mae: 0.0306 - dense_21_mse: 0.0019 - dense_21_mae: 0.0344 - dense_22_mse: 0.0020 - dense_22_mae: 0.0356 - dense_23_mse: 0.0026 - dense_23_mae: 0.0398 - dense_24_mse: 0.0031 - dense_24_mae: 0.0433 - val_loss: 0.0127 - val_dense_20_loss: 0.0019 - val_dense_21_loss: 0.0022 - val_dense_22_loss: 0.0023 - val_dense_23_loss: 0.0030 - val_dense_24_loss: 0.0033 - val_dense_20_mse: 0.0019 - val_dense_20_mae: 0.0331 - val_dense_21_mse: 0.0022 - val_dense_21_mae: 0.0365 - val_dense_22_mse: 0.0023 - val_dense_22_mae: 0.0382 - val_dense_23_mse: 0.0030 - val_dense_23_mae: 0.0428 - val_dense_24_mse: 0.0033 - val_dense_24_mae: 0.0453\n"
          ]
        }
      ]
    },
    {
      "cell_type": "code",
      "source": [
        "from tensorflow.keras.models import Sequential, Model\n",
        "from tensorflow.keras.layers import Dense\n",
        "from tensorflow.keras.layers import LSTM, Input, SimpleRNN, RNN\n",
        "from sklearn.model_selection import GridSearchCV\n",
        "from tensorflow.keras import optimizers\n",
        "from keras.wrappers.scikit_learn import KerasClassifier\n",
        "\n",
        "\n",
        "optimizer = optimizers.RMSprop(clipvalue=0.2)\n",
        "inputs = Input(shape=(5,32))  \n",
        "x = LSTM(50,return_sequences=True)(inputs)\n",
        "x = LSTM(50)(x)\n",
        "out1 = Dense(2)(x)\n",
        "out2 = Dense(2)(x)\n",
        "out3 = Dense(2)(x)\n",
        "out4 = Dense(2)(x)\n",
        "out5 = Dense(2)(x)\n",
        "lstm_rmsprop = Model(inputs,(out1,out2,out3,out4,out5))\n",
        "lstm_rmsprop.compile(loss='mean_squared_error',optimizer=optimizer,metrics=['mse','mae'])\n"
      ],
      "metadata": {
        "id": "f-4D3HEzGprB"
      },
      "execution_count": 55,
      "outputs": []
    },
    {
      "cell_type": "code",
      "source": [
        "\n",
        "history = lstm_rmsprop.fit(trainX, [trainY1, trainY2, trainY3, trainY4, trainY5], batch_size=64, epochs=15, validation_data=[validX, (validY1, validY2, validY3, validY4, validY5)])\n"
      ],
      "metadata": {
        "colab": {
          "base_uri": "https://localhost:8080/"
        },
        "id": "AT41Jc7RIxN7",
        "outputId": "da0e49cb-3fc7-4acd-8a3e-8211f9e58825"
      },
      "execution_count": 56,
      "outputs": [
        {
          "output_type": "stream",
          "name": "stdout",
          "text": [
            "Epoch 1/15\n",
            "427/427 [==============================] - 10s 13ms/step - loss: 0.0338 - dense_25_loss: 0.0048 - dense_26_loss: 0.0058 - dense_27_loss: 0.0076 - dense_28_loss: 0.0079 - dense_29_loss: 0.0078 - dense_25_mse: 0.0048 - dense_25_mae: 0.0461 - dense_26_mse: 0.0058 - dense_26_mae: 0.0489 - dense_27_mse: 0.0076 - dense_27_mae: 0.0529 - dense_28_mse: 0.0079 - dense_28_mae: 0.0543 - dense_29_mse: 0.0078 - dense_29_mae: 0.0557 - val_loss: 0.0133 - val_dense_25_loss: 0.0018 - val_dense_26_loss: 0.0023 - val_dense_27_loss: 0.0026 - val_dense_28_loss: 0.0030 - val_dense_29_loss: 0.0036 - val_dense_25_mse: 0.0018 - val_dense_25_mae: 0.0317 - val_dense_26_mse: 0.0023 - val_dense_26_mae: 0.0365 - val_dense_27_mse: 0.0026 - val_dense_27_mae: 0.0388 - val_dense_28_mse: 0.0030 - val_dense_28_mae: 0.0407 - val_dense_29_mse: 0.0036 - val_dense_29_mae: 0.0444\n",
            "Epoch 2/15\n",
            "427/427 [==============================] - 5s 11ms/step - loss: 0.0099 - dense_25_loss: 0.0014 - dense_26_loss: 0.0016 - dense_27_loss: 0.0019 - dense_28_loss: 0.0023 - dense_29_loss: 0.0027 - dense_25_mse: 0.0014 - dense_25_mae: 0.0288 - dense_26_mse: 0.0016 - dense_26_mae: 0.0314 - dense_27_mse: 0.0019 - dense_27_mae: 0.0328 - dense_28_mse: 0.0023 - dense_28_mae: 0.0356 - dense_29_mse: 0.0027 - dense_29_mae: 0.0385 - val_loss: 0.0089 - val_dense_25_loss: 0.0012 - val_dense_26_loss: 0.0016 - val_dense_27_loss: 0.0017 - val_dense_28_loss: 0.0021 - val_dense_29_loss: 0.0024 - val_dense_25_mse: 0.0012 - val_dense_25_mae: 0.0280 - val_dense_26_mse: 0.0016 - val_dense_26_mae: 0.0320 - val_dense_27_mse: 0.0017 - val_dense_27_mae: 0.0307 - val_dense_28_mse: 0.0021 - val_dense_28_mae: 0.0348 - val_dense_29_mse: 0.0024 - val_dense_29_mae: 0.0357\n",
            "Epoch 3/15\n",
            "427/427 [==============================] - 5s 11ms/step - loss: 0.0077 - dense_25_loss: 0.0010 - dense_26_loss: 0.0012 - dense_27_loss: 0.0014 - dense_28_loss: 0.0018 - dense_29_loss: 0.0022 - dense_25_mse: 0.0010 - dense_25_mae: 0.0253 - dense_26_mse: 0.0012 - dense_26_mae: 0.0273 - dense_27_mse: 0.0014 - dense_27_mae: 0.0287 - dense_28_mse: 0.0018 - dense_28_mae: 0.0317 - dense_29_mse: 0.0022 - dense_29_mae: 0.0346 - val_loss: 0.0133 - val_dense_25_loss: 0.0019 - val_dense_26_loss: 0.0022 - val_dense_27_loss: 0.0027 - val_dense_28_loss: 0.0030 - val_dense_29_loss: 0.0035 - val_dense_25_mse: 0.0019 - val_dense_25_mae: 0.0339 - val_dense_26_mse: 0.0022 - val_dense_26_mae: 0.0360 - val_dense_27_mse: 0.0027 - val_dense_27_mae: 0.0386 - val_dense_28_mse: 0.0030 - val_dense_28_mae: 0.0408 - val_dense_29_mse: 0.0035 - val_dense_29_mae: 0.0437\n",
            "Epoch 4/15\n",
            "427/427 [==============================] - 5s 11ms/step - loss: 0.0063 - dense_25_loss: 8.4747e-04 - dense_26_loss: 9.7846e-04 - dense_27_loss: 0.0012 - dense_28_loss: 0.0015 - dense_29_loss: 0.0019 - dense_25_mse: 8.4747e-04 - dense_25_mae: 0.0227 - dense_26_mse: 9.7846e-04 - dense_26_mae: 0.0242 - dense_27_mse: 0.0012 - dense_27_mae: 0.0258 - dense_28_mse: 0.0015 - dense_28_mae: 0.0287 - dense_29_mse: 0.0019 - dense_29_mae: 0.0316 - val_loss: 0.0066 - val_dense_25_loss: 7.6450e-04 - val_dense_26_loss: 9.5340e-04 - val_dense_27_loss: 0.0012 - val_dense_28_loss: 0.0016 - val_dense_29_loss: 0.0020 - val_dense_25_mse: 7.6450e-04 - val_dense_25_mae: 0.0207 - val_dense_26_mse: 9.5340e-04 - val_dense_26_mae: 0.0227 - val_dense_27_mse: 0.0012 - val_dense_27_mae: 0.0258 - val_dense_28_mse: 0.0016 - val_dense_28_mae: 0.0288 - val_dense_29_mse: 0.0020 - val_dense_29_mae: 0.0325\n",
            "Epoch 5/15\n",
            "427/427 [==============================] - 5s 11ms/step - loss: 0.0054 - dense_25_loss: 7.1956e-04 - dense_26_loss: 8.2316e-04 - dense_27_loss: 9.7480e-04 - dense_28_loss: 0.0013 - dense_29_loss: 0.0016 - dense_25_mse: 7.1956e-04 - dense_25_mae: 0.0211 - dense_26_mse: 8.2316e-04 - dense_26_mae: 0.0223 - dense_27_mse: 9.7480e-04 - dense_27_mae: 0.0236 - dense_28_mse: 0.0013 - dense_28_mae: 0.0266 - dense_29_mse: 0.0016 - dense_29_mae: 0.0293 - val_loss: 0.0039 - val_dense_25_loss: 3.1922e-04 - val_dense_26_loss: 4.7928e-04 - val_dense_27_loss: 7.2533e-04 - val_dense_28_loss: 0.0010 - val_dense_29_loss: 0.0014 - val_dense_25_mse: 3.1922e-04 - val_dense_25_mae: 0.0125 - val_dense_26_mse: 4.7928e-04 - val_dense_26_mae: 0.0155 - val_dense_27_mse: 7.2533e-04 - val_dense_27_mae: 0.0190 - val_dense_28_mse: 0.0010 - val_dense_28_mae: 0.0224 - val_dense_29_mse: 0.0014 - val_dense_29_mae: 0.0264\n",
            "Epoch 6/15\n",
            "427/427 [==============================] - 5s 11ms/step - loss: 0.0048 - dense_25_loss: 6.2041e-04 - dense_26_loss: 7.2304e-04 - dense_27_loss: 8.5896e-04 - dense_28_loss: 0.0011 - dense_29_loss: 0.0014 - dense_25_mse: 6.2041e-04 - dense_25_mae: 0.0196 - dense_26_mse: 7.2304e-04 - dense_26_mae: 0.0209 - dense_27_mse: 8.5896e-04 - dense_27_mae: 0.0222 - dense_28_mse: 0.0011 - dense_28_mae: 0.0251 - dense_29_mse: 0.0014 - dense_29_mae: 0.0277 - val_loss: 0.0034 - val_dense_25_loss: 3.1638e-04 - val_dense_26_loss: 4.2635e-04 - val_dense_27_loss: 5.9395e-04 - val_dense_28_loss: 8.8488e-04 - val_dense_29_loss: 0.0012 - val_dense_25_mse: 3.1638e-04 - val_dense_25_mae: 0.0129 - val_dense_26_mse: 4.2635e-04 - val_dense_26_mae: 0.0147 - val_dense_27_mse: 5.9395e-04 - val_dense_27_mae: 0.0171 - val_dense_28_mse: 8.8488e-04 - val_dense_28_mae: 0.0210 - val_dense_29_mse: 0.0012 - val_dense_29_mae: 0.0244\n",
            "Epoch 7/15\n",
            "427/427 [==============================] - 5s 11ms/step - loss: 0.0042 - dense_25_loss: 5.3564e-04 - dense_26_loss: 6.2775e-04 - dense_27_loss: 7.5664e-04 - dense_28_loss: 0.0010 - dense_29_loss: 0.0013 - dense_25_mse: 5.3564e-04 - dense_25_mae: 0.0184 - dense_26_mse: 6.2775e-04 - dense_26_mae: 0.0195 - dense_27_mse: 7.5664e-04 - dense_27_mae: 0.0209 - dense_28_mse: 0.0010 - dense_28_mae: 0.0237 - dense_29_mse: 0.0013 - dense_29_mae: 0.0263 - val_loss: 0.0098 - val_dense_25_loss: 0.0015 - val_dense_26_loss: 0.0017 - val_dense_27_loss: 0.0019 - val_dense_28_loss: 0.0023 - val_dense_29_loss: 0.0024 - val_dense_25_mse: 0.0015 - val_dense_25_mae: 0.0326 - val_dense_26_mse: 0.0017 - val_dense_26_mae: 0.0336 - val_dense_27_mse: 0.0019 - val_dense_27_mae: 0.0343 - val_dense_28_mse: 0.0023 - val_dense_28_mae: 0.0379 - val_dense_29_mse: 0.0024 - val_dense_29_mae: 0.0374\n",
            "Epoch 8/15\n",
            "427/427 [==============================] - 5s 11ms/step - loss: 0.0039 - dense_25_loss: 4.7486e-04 - dense_26_loss: 5.6276e-04 - dense_27_loss: 6.8371e-04 - dense_28_loss: 9.2364e-04 - dense_29_loss: 0.0012 - dense_25_mse: 4.7486e-04 - dense_25_mae: 0.0171 - dense_26_mse: 5.6276e-04 - dense_26_mae: 0.0183 - dense_27_mse: 6.8371e-04 - dense_27_mae: 0.0196 - dense_28_mse: 9.2364e-04 - dense_28_mae: 0.0224 - dense_29_mse: 0.0012 - dense_29_mae: 0.0252 - val_loss: 0.0028 - val_dense_25_loss: 3.0438e-04 - val_dense_26_loss: 3.4730e-04 - val_dense_27_loss: 4.7095e-04 - val_dense_28_loss: 7.1308e-04 - val_dense_29_loss: 9.6489e-04 - val_dense_25_mse: 3.0438e-04 - val_dense_25_mae: 0.0129 - val_dense_26_mse: 3.4730e-04 - val_dense_26_mae: 0.0132 - val_dense_27_mse: 4.7095e-04 - val_dense_27_mae: 0.0149 - val_dense_28_mse: 7.1308e-04 - val_dense_28_mae: 0.0183 - val_dense_29_mse: 9.6489e-04 - val_dense_29_mae: 0.0213\n",
            "Epoch 9/15\n",
            "427/427 [==============================] - 5s 12ms/step - loss: 0.0036 - dense_25_loss: 4.3167e-04 - dense_26_loss: 5.1394e-04 - dense_27_loss: 6.3391e-04 - dense_28_loss: 8.6546e-04 - dense_29_loss: 0.0011 - dense_25_mse: 4.3167e-04 - dense_25_mae: 0.0163 - dense_26_mse: 5.1394e-04 - dense_26_mae: 0.0175 - dense_27_mse: 6.3391e-04 - dense_27_mae: 0.0189 - dense_28_mse: 8.6546e-04 - dense_28_mae: 0.0217 - dense_29_mse: 0.0011 - dense_29_mae: 0.0245 - val_loss: 0.0022 - val_dense_25_loss: 1.4645e-04 - val_dense_26_loss: 2.3073e-04 - val_dense_27_loss: 3.6957e-04 - val_dense_28_loss: 6.0489e-04 - val_dense_29_loss: 8.7858e-04 - val_dense_25_mse: 1.4645e-04 - val_dense_25_mae: 0.0087 - val_dense_26_mse: 2.3073e-04 - val_dense_26_mae: 0.0103 - val_dense_27_mse: 3.6957e-04 - val_dense_27_mae: 0.0131 - val_dense_28_mse: 6.0489e-04 - val_dense_28_mae: 0.0168 - val_dense_29_mse: 8.7858e-04 - val_dense_29_mae: 0.0209\n",
            "Epoch 10/15\n",
            "427/427 [==============================] - 5s 11ms/step - loss: 0.0033 - dense_25_loss: 3.8994e-04 - dense_26_loss: 4.6177e-04 - dense_27_loss: 5.7270e-04 - dense_28_loss: 7.9373e-04 - dense_29_loss: 0.0011 - dense_25_mse: 3.8994e-04 - dense_25_mae: 0.0157 - dense_26_mse: 4.6177e-04 - dense_26_mae: 0.0168 - dense_27_mse: 5.7270e-04 - dense_27_mae: 0.0182 - dense_28_mse: 7.9373e-04 - dense_28_mae: 0.0209 - dense_29_mse: 0.0011 - dense_29_mae: 0.0237 - val_loss: 0.0023 - val_dense_25_loss: 1.6259e-04 - val_dense_26_loss: 2.4865e-04 - val_dense_27_loss: 3.8416e-04 - val_dense_28_loss: 6.0313e-04 - val_dense_29_loss: 8.5554e-04 - val_dense_25_mse: 1.6259e-04 - val_dense_25_mae: 0.0093 - val_dense_26_mse: 2.4865e-04 - val_dense_26_mae: 0.0112 - val_dense_27_mse: 3.8416e-04 - val_dense_27_mae: 0.0136 - val_dense_28_mse: 6.0313e-04 - val_dense_28_mae: 0.0168 - val_dense_29_mse: 8.5554e-04 - val_dense_29_mae: 0.0202\n",
            "Epoch 11/15\n",
            "427/427 [==============================] - 5s 12ms/step - loss: 0.0031 - dense_25_loss: 3.5586e-04 - dense_26_loss: 4.2135e-04 - dense_27_loss: 5.3192e-04 - dense_28_loss: 7.4143e-04 - dense_29_loss: 0.0010 - dense_25_mse: 3.5586e-04 - dense_25_mae: 0.0151 - dense_26_mse: 4.2135e-04 - dense_26_mae: 0.0161 - dense_27_mse: 5.3192e-04 - dense_27_mae: 0.0176 - dense_28_mse: 7.4143e-04 - dense_28_mae: 0.0202 - dense_29_mse: 0.0010 - dense_29_mae: 0.0230 - val_loss: 0.0062 - val_dense_25_loss: 7.1351e-04 - val_dense_26_loss: 9.0634e-04 - val_dense_27_loss: 0.0011 - val_dense_28_loss: 0.0015 - val_dense_29_loss: 0.0019 - val_dense_25_mse: 7.1351e-04 - val_dense_25_mae: 0.0224 - val_dense_26_mse: 9.0634e-04 - val_dense_26_mae: 0.0248 - val_dense_27_mse: 0.0011 - val_dense_27_mae: 0.0277 - val_dense_28_mse: 0.0015 - val_dense_28_mae: 0.0306 - val_dense_29_mse: 0.0019 - val_dense_29_mae: 0.0349\n",
            "Epoch 12/15\n",
            "427/427 [==============================] - 5s 11ms/step - loss: 0.0029 - dense_25_loss: 3.2185e-04 - dense_26_loss: 3.8717e-04 - dense_27_loss: 4.9375e-04 - dense_28_loss: 6.9836e-04 - dense_29_loss: 9.7030e-04 - dense_25_mse: 3.2185e-04 - dense_25_mae: 0.0142 - dense_26_mse: 3.8717e-04 - dense_26_mae: 0.0153 - dense_27_mse: 4.9375e-04 - dense_27_mae: 0.0169 - dense_28_mse: 6.9836e-04 - dense_28_mae: 0.0196 - dense_29_mse: 9.7030e-04 - dense_29_mae: 0.0225 - val_loss: 0.0022 - val_dense_25_loss: 1.5507e-04 - val_dense_26_loss: 2.6210e-04 - val_dense_27_loss: 3.6927e-04 - val_dense_28_loss: 5.8533e-04 - val_dense_29_loss: 8.3951e-04 - val_dense_25_mse: 1.5507e-04 - val_dense_25_mae: 0.0096 - val_dense_26_mse: 2.6210e-04 - val_dense_26_mae: 0.0123 - val_dense_27_mse: 3.6927e-04 - val_dense_27_mae: 0.0139 - val_dense_28_mse: 5.8533e-04 - val_dense_28_mae: 0.0174 - val_dense_29_mse: 8.3951e-04 - val_dense_29_mae: 0.0201\n",
            "Epoch 13/15\n",
            "427/427 [==============================] - 5s 11ms/step - loss: 0.0027 - dense_25_loss: 2.9748e-04 - dense_26_loss: 3.5554e-04 - dense_27_loss: 4.6166e-04 - dense_28_loss: 6.5467e-04 - dense_29_loss: 9.1924e-04 - dense_25_mse: 2.9748e-04 - dense_25_mae: 0.0138 - dense_26_mse: 3.5554e-04 - dense_26_mae: 0.0147 - dense_27_mse: 4.6166e-04 - dense_27_mae: 0.0163 - dense_28_mse: 6.5467e-04 - dense_28_mae: 0.0189 - dense_29_mse: 9.1924e-04 - dense_29_mae: 0.0218 - val_loss: 0.0025 - val_dense_25_loss: 1.8013e-04 - val_dense_26_loss: 3.0129e-04 - val_dense_27_loss: 4.3735e-04 - val_dense_28_loss: 6.7830e-04 - val_dense_29_loss: 9.4504e-04 - val_dense_25_mse: 1.8013e-04 - val_dense_25_mae: 0.0106 - val_dense_26_mse: 3.0129e-04 - val_dense_26_mae: 0.0135 - val_dense_27_mse: 4.3735e-04 - val_dense_27_mae: 0.0156 - val_dense_28_mse: 6.7830e-04 - val_dense_28_mae: 0.0191 - val_dense_29_mse: 9.4504e-04 - val_dense_29_mae: 0.0219\n",
            "Epoch 14/15\n",
            "427/427 [==============================] - 5s 13ms/step - loss: 0.0025 - dense_25_loss: 2.6837e-04 - dense_26_loss: 3.2233e-04 - dense_27_loss: 4.2586e-04 - dense_28_loss: 6.1212e-04 - dense_29_loss: 8.7289e-04 - dense_25_mse: 2.6837e-04 - dense_25_mae: 0.0130 - dense_26_mse: 3.2233e-04 - dense_26_mae: 0.0139 - dense_27_mse: 4.2586e-04 - dense_27_mae: 0.0156 - dense_28_mse: 6.1212e-04 - dense_28_mae: 0.0182 - dense_29_mse: 8.7289e-04 - dense_29_mae: 0.0212 - val_loss: 0.0023 - val_dense_25_loss: 1.8585e-04 - val_dense_26_loss: 2.5671e-04 - val_dense_27_loss: 3.8802e-04 - val_dense_28_loss: 6.0745e-04 - val_dense_29_loss: 8.8839e-04 - val_dense_25_mse: 1.8585e-04 - val_dense_25_mae: 0.0107 - val_dense_26_mse: 2.5671e-04 - val_dense_26_mae: 0.0123 - val_dense_27_mse: 3.8802e-04 - val_dense_27_mae: 0.0145 - val_dense_28_mse: 6.0745e-04 - val_dense_28_mae: 0.0179 - val_dense_29_mse: 8.8839e-04 - val_dense_29_mae: 0.0215\n",
            "Epoch 15/15\n",
            "427/427 [==============================] - 5s 12ms/step - loss: 0.0024 - dense_25_loss: 2.5207e-04 - dense_26_loss: 3.0333e-04 - dense_27_loss: 4.0375e-04 - dense_28_loss: 5.8608e-04 - dense_29_loss: 8.3980e-04 - dense_25_mse: 2.5207e-04 - dense_25_mae: 0.0126 - dense_26_mse: 3.0333e-04 - dense_26_mae: 0.0136 - dense_27_mse: 4.0375e-04 - dense_27_mae: 0.0153 - dense_28_mse: 5.8608e-04 - dense_28_mae: 0.0178 - dense_29_mse: 8.3980e-04 - dense_29_mae: 0.0208 - val_loss: 0.0035 - val_dense_25_loss: 4.2553e-04 - val_dense_26_loss: 5.3869e-04 - val_dense_27_loss: 6.2100e-04 - val_dense_28_loss: 8.5287e-04 - val_dense_29_loss: 0.0010 - val_dense_25_mse: 4.2553e-04 - val_dense_25_mae: 0.0161 - val_dense_26_mse: 5.3869e-04 - val_dense_26_mae: 0.0184 - val_dense_27_mse: 6.2100e-04 - val_dense_27_mae: 0.0190 - val_dense_28_mse: 8.5287e-04 - val_dense_28_mae: 0.0213 - val_dense_29_mse: 0.0010 - val_dense_29_mae: 0.0230\n"
          ]
        }
      ]
    },
    {
      "cell_type": "code",
      "source": [
        "from tensorflow.keras.models import Sequential, Model\n",
        "from tensorflow.keras.layers import Dense\n",
        "from tensorflow.keras.layers import LSTM, Input, SimpleRNN, RNN\n",
        "from sklearn.model_selection import GridSearchCV\n",
        "from tensorflow.keras import optimizers\n",
        "from keras.wrappers.scikit_learn import KerasClassifier\n",
        "\n",
        "\n",
        "optimizer = optimizers.Adam()\n",
        "inputs = Input(shape=(5,7))  \n",
        "x = LSTM(50,return_sequences=True)(inputs)\n",
        "x = LSTM(50)(x)\n",
        "out1 = Dense(2)(x)\n",
        "out2 = Dense(2)(x)\n",
        "out3 = Dense(2)(x)\n",
        "out4 = Dense(2)(x)\n",
        "out5 = Dense(2)(x)\n",
        "lstm_orig_model = Model(inputs,(out1,out2,out3,out4,out5))\n",
        "lstm_orig_model.compile(loss='mean_squared_error',optimizer=optimizer,metrics=['mse','mae'])"
      ],
      "metadata": {
        "id": "cje3XP4ol_7k"
      },
      "execution_count": 77,
      "outputs": []
    },
    {
      "cell_type": "code",
      "source": [
        "\n",
        "history_orig = lstm_orig_model.fit(trainX_o, [trainY1_o, trainY2_o, trainY3_o, trainY4_o, trainY5_o], batch_size=64, epochs=15, validation_data=[validX_o, (validY1_o, validY2_o, validY3_o, validY4_o, validY5_o)])\n"
      ],
      "metadata": {
        "colab": {
          "base_uri": "https://localhost:8080/"
        },
        "id": "bN28_c-9yemT",
        "outputId": "69697ec6-5bc2-4583-ae9d-4b41906cb416"
      },
      "execution_count": 78,
      "outputs": [
        {
          "output_type": "stream",
          "name": "stdout",
          "text": [
            "Epoch 1/15\n",
            "427/427 [==============================] - 13s 12ms/step - loss: 0.0428 - dense_40_loss: 0.0096 - dense_41_loss: 0.0089 - dense_42_loss: 0.0073 - dense_43_loss: 0.0088 - dense_44_loss: 0.0083 - dense_40_mse: 0.0096 - dense_40_mae: 0.0446 - dense_41_mse: 0.0089 - dense_41_mae: 0.0460 - dense_42_mse: 0.0073 - dense_42_mae: 0.0447 - dense_43_mse: 0.0088 - dense_43_mae: 0.0519 - dense_44_mse: 0.0083 - dense_44_mae: 0.0526 - val_loss: 0.0053 - val_dense_40_loss: 4.4761e-04 - val_dense_41_loss: 6.6463e-04 - val_dense_42_loss: 9.5889e-04 - val_dense_43_loss: 0.0014 - val_dense_44_loss: 0.0018 - val_dense_40_mse: 4.4761e-04 - val_dense_40_mae: 0.0147 - val_dense_41_mse: 6.6463e-04 - val_dense_41_mae: 0.0174 - val_dense_42_mse: 9.5889e-04 - val_dense_42_mae: 0.0214 - val_dense_43_mse: 0.0014 - val_dense_43_mae: 0.0255 - val_dense_44_mse: 0.0018 - val_dense_44_mae: 0.0293\n",
            "Epoch 2/15\n",
            "427/427 [==============================] - 4s 10ms/step - loss: 0.0047 - dense_40_loss: 3.6439e-04 - dense_41_loss: 5.6798e-04 - dense_42_loss: 8.2833e-04 - dense_43_loss: 0.0012 - dense_44_loss: 0.0017 - dense_40_mse: 3.6439e-04 - dense_40_mae: 0.0137 - dense_41_mse: 5.6798e-04 - dense_41_mae: 0.0166 - dense_42_mse: 8.2833e-04 - dense_42_mae: 0.0204 - dense_43_mse: 0.0012 - dense_43_mae: 0.0245 - dense_44_mse: 0.0017 - dense_44_mae: 0.0287 - val_loss: 0.0045 - val_dense_40_loss: 3.5729e-04 - val_dense_41_loss: 5.6054e-04 - val_dense_42_loss: 8.1089e-04 - val_dense_43_loss: 0.0012 - val_dense_44_loss: 0.0016 - val_dense_40_mse: 3.5729e-04 - val_dense_40_mae: 0.0129 - val_dense_41_mse: 5.6054e-04 - val_dense_41_mae: 0.0159 - val_dense_42_mse: 8.1089e-04 - val_dense_42_mae: 0.0194 - val_dense_43_mse: 0.0012 - val_dense_43_mae: 0.0236 - val_dense_44_mse: 0.0016 - val_dense_44_mae: 0.0276\n",
            "Epoch 3/15\n",
            "427/427 [==============================] - 4s 10ms/step - loss: 0.0040 - dense_40_loss: 2.9998e-04 - dense_41_loss: 4.8305e-04 - dense_42_loss: 7.0553e-04 - dense_43_loss: 0.0011 - dense_44_loss: 0.0015 - dense_40_mse: 2.9998e-04 - dense_40_mae: 0.0124 - dense_41_mse: 4.8305e-04 - dense_41_mae: 0.0154 - dense_42_mse: 7.0553e-04 - dense_42_mae: 0.0189 - dense_43_mse: 0.0011 - dense_43_mae: 0.0229 - dense_44_mse: 0.0015 - dense_44_mae: 0.0271 - val_loss: 0.0042 - val_dense_40_loss: 3.2465e-04 - val_dense_41_loss: 5.2029e-04 - val_dense_42_loss: 7.3773e-04 - val_dense_43_loss: 0.0011 - val_dense_44_loss: 0.0015 - val_dense_40_mse: 3.2465e-04 - val_dense_40_mae: 0.0127 - val_dense_41_mse: 5.2029e-04 - val_dense_41_mae: 0.0158 - val_dense_42_mse: 7.3773e-04 - val_dense_42_mae: 0.0189 - val_dense_43_mse: 0.0011 - val_dense_43_mae: 0.0231 - val_dense_44_mse: 0.0015 - val_dense_44_mae: 0.0265\n",
            "Epoch 4/15\n",
            "427/427 [==============================] - 4s 10ms/step - loss: 0.0035 - dense_40_loss: 2.4390e-04 - dense_41_loss: 4.0359e-04 - dense_42_loss: 5.9790e-04 - dense_43_loss: 9.1871e-04 - dense_44_loss: 0.0013 - dense_40_mse: 2.4390e-04 - dense_40_mae: 0.0112 - dense_41_mse: 4.0359e-04 - dense_41_mae: 0.0142 - dense_42_mse: 5.9790e-04 - dense_42_mae: 0.0175 - dense_43_mse: 9.1871e-04 - dense_43_mae: 0.0215 - dense_44_mse: 0.0013 - dense_44_mae: 0.0255 - val_loss: 0.0034 - val_dense_40_loss: 2.4617e-04 - val_dense_41_loss: 4.1987e-04 - val_dense_42_loss: 5.9070e-04 - val_dense_43_loss: 9.1276e-04 - val_dense_44_loss: 0.0012 - val_dense_40_mse: 2.4617e-04 - val_dense_40_mae: 0.0109 - val_dense_41_mse: 4.1987e-04 - val_dense_41_mae: 0.0142 - val_dense_42_mse: 5.9070e-04 - val_dense_42_mae: 0.0169 - val_dense_43_mse: 9.1276e-04 - val_dense_43_mae: 0.0212 - val_dense_44_mse: 0.0012 - val_dense_44_mae: 0.0246\n",
            "Epoch 5/15\n",
            "427/427 [==============================] - 4s 10ms/step - loss: 0.0029 - dense_40_loss: 1.8336e-04 - dense_41_loss: 3.1890e-04 - dense_42_loss: 4.8288e-04 - dense_43_loss: 7.6860e-04 - dense_44_loss: 0.0011 - dense_40_mse: 1.8336e-04 - dense_40_mae: 0.0096 - dense_41_mse: 3.1890e-04 - dense_41_mae: 0.0125 - dense_42_mse: 4.8288e-04 - dense_42_mae: 0.0155 - dense_43_mse: 7.6860e-04 - dense_43_mae: 0.0195 - dense_44_mse: 0.0011 - dense_44_mae: 0.0234 - val_loss: 0.0032 - val_dense_40_loss: 2.3415e-04 - val_dense_41_loss: 3.7374e-04 - val_dense_42_loss: 5.6568e-04 - val_dense_43_loss: 8.4234e-04 - val_dense_44_loss: 0.0012 - val_dense_40_mse: 2.3415e-04 - val_dense_40_mae: 0.0113 - val_dense_41_mse: 3.7374e-04 - val_dense_41_mae: 0.0136 - val_dense_42_mse: 5.6568e-04 - val_dense_42_mae: 0.0169 - val_dense_43_mse: 8.4234e-04 - val_dense_43_mae: 0.0206 - val_dense_44_mse: 0.0012 - val_dense_44_mae: 0.0244\n",
            "Epoch 6/15\n",
            "427/427 [==============================] - 4s 10ms/step - loss: 0.0026 - dense_40_loss: 1.5723e-04 - dense_41_loss: 2.7544e-04 - dense_42_loss: 4.3226e-04 - dense_43_loss: 6.9669e-04 - dense_44_loss: 0.0010 - dense_40_mse: 1.5723e-04 - dense_40_mae: 0.0088 - dense_41_mse: 2.7544e-04 - dense_41_mae: 0.0115 - dense_42_mse: 4.3226e-04 - dense_42_mae: 0.0145 - dense_43_mse: 6.9669e-04 - dense_43_mae: 0.0184 - dense_44_mse: 0.0010 - dense_44_mae: 0.0223 - val_loss: 0.0028 - val_dense_40_loss: 2.0326e-04 - val_dense_41_loss: 3.2177e-04 - val_dense_42_loss: 4.9787e-04 - val_dense_43_loss: 7.3057e-04 - val_dense_44_loss: 0.0011 - val_dense_40_mse: 2.0326e-04 - val_dense_40_mae: 0.0105 - val_dense_41_mse: 3.2177e-04 - val_dense_41_mae: 0.0127 - val_dense_42_mse: 4.9787e-04 - val_dense_42_mae: 0.0158 - val_dense_43_mse: 7.3057e-04 - val_dense_43_mae: 0.0190 - val_dense_44_mse: 0.0011 - val_dense_44_mae: 0.0228\n",
            "Epoch 7/15\n",
            "427/427 [==============================] - 4s 10ms/step - loss: 0.0024 - dense_40_loss: 1.4441e-04 - dense_41_loss: 2.5072e-04 - dense_42_loss: 3.9229e-04 - dense_43_loss: 6.4378e-04 - dense_44_loss: 9.6101e-04 - dense_40_mse: 1.4441e-04 - dense_40_mae: 0.0084 - dense_41_mse: 2.5072e-04 - dense_41_mae: 0.0110 - dense_42_mse: 3.9229e-04 - dense_42_mae: 0.0138 - dense_43_mse: 6.4378e-04 - dense_43_mae: 0.0176 - dense_44_mse: 9.6101e-04 - dense_44_mae: 0.0213 - val_loss: 0.0026 - val_dense_40_loss: 1.4182e-04 - val_dense_41_loss: 2.6317e-04 - val_dense_42_loss: 4.3479e-04 - val_dense_43_loss: 6.8597e-04 - val_dense_44_loss: 0.0011 - val_dense_40_mse: 1.4182e-04 - val_dense_40_mae: 0.0081 - val_dense_41_mse: 2.6317e-04 - val_dense_41_mae: 0.0109 - val_dense_42_mse: 4.3479e-04 - val_dense_42_mae: 0.0143 - val_dense_43_mse: 6.8597e-04 - val_dense_43_mae: 0.0181 - val_dense_44_mse: 0.0011 - val_dense_44_mae: 0.0225\n",
            "Epoch 8/15\n",
            "427/427 [==============================] - 4s 10ms/step - loss: 0.0022 - dense_40_loss: 1.2696e-04 - dense_41_loss: 2.2196e-04 - dense_42_loss: 3.5697e-04 - dense_43_loss: 5.8956e-04 - dense_44_loss: 8.9576e-04 - dense_40_mse: 1.2696e-04 - dense_40_mae: 0.0080 - dense_41_mse: 2.2196e-04 - dense_41_mae: 0.0104 - dense_42_mse: 3.5697e-04 - dense_42_mae: 0.0132 - dense_43_mse: 5.8956e-04 - dense_43_mae: 0.0168 - dense_44_mse: 8.9576e-04 - dense_44_mae: 0.0206 - val_loss: 0.0022 - val_dense_40_loss: 1.2431e-04 - val_dense_41_loss: 2.3494e-04 - val_dense_42_loss: 3.7714e-04 - val_dense_43_loss: 5.8609e-04 - val_dense_44_loss: 9.0078e-04 - val_dense_40_mse: 1.2431e-04 - val_dense_40_mae: 0.0077 - val_dense_41_mse: 2.3494e-04 - val_dense_41_mae: 0.0104 - val_dense_42_mse: 3.7714e-04 - val_dense_42_mae: 0.0133 - val_dense_43_mse: 5.8609e-04 - val_dense_43_mae: 0.0166 - val_dense_44_mse: 9.0078e-04 - val_dense_44_mae: 0.0209\n",
            "Epoch 9/15\n",
            "427/427 [==============================] - 4s 10ms/step - loss: 0.0020 - dense_40_loss: 1.0881e-04 - dense_41_loss: 1.9618e-04 - dense_42_loss: 3.2378e-04 - dense_43_loss: 5.4232e-04 - dense_44_loss: 8.3424e-04 - dense_40_mse: 1.0881e-04 - dense_40_mae: 0.0074 - dense_41_mse: 1.9618e-04 - dense_41_mae: 0.0097 - dense_42_mse: 3.2378e-04 - dense_42_mae: 0.0125 - dense_43_mse: 5.4232e-04 - dense_43_mae: 0.0160 - dense_44_mse: 8.3424e-04 - dense_44_mae: 0.0197 - val_loss: 0.0022 - val_dense_40_loss: 1.1256e-04 - val_dense_41_loss: 2.0906e-04 - val_dense_42_loss: 3.9875e-04 - val_dense_43_loss: 5.8074e-04 - val_dense_44_loss: 9.0058e-04 - val_dense_40_mse: 1.1256e-04 - val_dense_40_mae: 0.0072 - val_dense_41_mse: 2.0906e-04 - val_dense_41_mae: 0.0098 - val_dense_42_mse: 3.9875e-04 - val_dense_42_mae: 0.0140 - val_dense_43_mse: 5.8074e-04 - val_dense_43_mae: 0.0165 - val_dense_44_mse: 9.0058e-04 - val_dense_44_mae: 0.0205\n",
            "Epoch 10/15\n",
            "427/427 [==============================] - 4s 10ms/step - loss: 0.0019 - dense_40_loss: 9.4245e-05 - dense_41_loss: 1.7409e-04 - dense_42_loss: 2.9349e-04 - dense_43_loss: 5.0311e-04 - dense_44_loss: 7.8560e-04 - dense_40_mse: 9.4245e-05 - dense_40_mae: 0.0069 - dense_41_mse: 1.7409e-04 - dense_41_mae: 0.0092 - dense_42_mse: 2.9349e-04 - dense_42_mae: 0.0119 - dense_43_mse: 5.0311e-04 - dense_43_mae: 0.0154 - dense_44_mse: 7.8560e-04 - dense_44_mae: 0.0191 - val_loss: 0.0023 - val_dense_40_loss: 1.1328e-04 - val_dense_41_loss: 2.1113e-04 - val_dense_42_loss: 4.3492e-04 - val_dense_43_loss: 6.1209e-04 - val_dense_44_loss: 9.2398e-04 - val_dense_40_mse: 1.1328e-04 - val_dense_40_mae: 0.0073 - val_dense_41_mse: 2.1113e-04 - val_dense_41_mae: 0.0097 - val_dense_42_mse: 4.3492e-04 - val_dense_42_mae: 0.0146 - val_dense_43_mse: 6.1209e-04 - val_dense_43_mae: 0.0173 - val_dense_44_mse: 9.2398e-04 - val_dense_44_mae: 0.0212\n",
            "Epoch 11/15\n",
            "427/427 [==============================] - 4s 10ms/step - loss: 0.0018 - dense_40_loss: 8.5731e-05 - dense_41_loss: 1.5962e-04 - dense_42_loss: 2.7786e-04 - dense_43_loss: 4.7814e-04 - dense_44_loss: 7.5426e-04 - dense_40_mse: 8.5731e-05 - dense_40_mae: 0.0066 - dense_41_mse: 1.5962e-04 - dense_41_mae: 0.0088 - dense_42_mse: 2.7786e-04 - dense_42_mae: 0.0117 - dense_43_mse: 4.7814e-04 - dense_43_mae: 0.0150 - dense_44_mse: 7.5426e-04 - dense_44_mae: 0.0188 - val_loss: 0.0018 - val_dense_40_loss: 8.1456e-05 - val_dense_41_loss: 1.7544e-04 - val_dense_42_loss: 2.8627e-04 - val_dense_43_loss: 4.8491e-04 - val_dense_44_loss: 7.5349e-04 - val_dense_40_mse: 8.1456e-05 - val_dense_40_mae: 0.0061 - val_dense_41_mse: 1.7544e-04 - val_dense_41_mae: 0.0091 - val_dense_42_mse: 2.8627e-04 - val_dense_42_mae: 0.0114 - val_dense_43_mse: 4.8491e-04 - val_dense_43_mae: 0.0151 - val_dense_44_mse: 7.5349e-04 - val_dense_44_mae: 0.0188\n",
            "Epoch 12/15\n",
            "427/427 [==============================] - 4s 10ms/step - loss: 0.0017 - dense_40_loss: 7.7543e-05 - dense_41_loss: 1.4763e-04 - dense_42_loss: 2.6177e-04 - dense_43_loss: 4.5477e-04 - dense_44_loss: 7.2370e-04 - dense_40_mse: 7.7543e-05 - dense_40_mae: 0.0063 - dense_41_mse: 1.4763e-04 - dense_41_mae: 0.0085 - dense_42_mse: 2.6177e-04 - dense_42_mae: 0.0113 - dense_43_mse: 4.5477e-04 - dense_43_mae: 0.0146 - dense_44_mse: 7.2370e-04 - dense_44_mae: 0.0183 - val_loss: 0.0019 - val_dense_40_loss: 7.6226e-05 - val_dense_41_loss: 1.6691e-04 - val_dense_42_loss: 3.5786e-04 - val_dense_43_loss: 4.9146e-04 - val_dense_44_loss: 7.9886e-04 - val_dense_40_mse: 7.6226e-05 - val_dense_40_mae: 0.0060 - val_dense_41_mse: 1.6691e-04 - val_dense_41_mae: 0.0090 - val_dense_42_mse: 3.5786e-04 - val_dense_42_mae: 0.0134 - val_dense_43_mse: 4.9146e-04 - val_dense_43_mae: 0.0151 - val_dense_44_mse: 7.9886e-04 - val_dense_44_mae: 0.0192\n",
            "Epoch 13/15\n",
            "427/427 [==============================] - 4s 10ms/step - loss: 0.0016 - dense_40_loss: 7.1013e-05 - dense_41_loss: 1.3594e-04 - dense_42_loss: 2.4536e-04 - dense_43_loss: 4.3314e-04 - dense_44_loss: 6.9403e-04 - dense_40_mse: 7.1013e-05 - dense_40_mae: 0.0061 - dense_41_mse: 1.3594e-04 - dense_41_mae: 0.0082 - dense_42_mse: 2.4536e-04 - dense_42_mae: 0.0110 - dense_43_mse: 4.3314e-04 - dense_43_mae: 0.0143 - dense_44_mse: 6.9403e-04 - dense_44_mae: 0.0179 - val_loss: 0.0016 - val_dense_40_loss: 6.3572e-05 - val_dense_41_loss: 1.3632e-04 - val_dense_42_loss: 2.5806e-04 - val_dense_43_loss: 4.4082e-04 - val_dense_44_loss: 7.0873e-04 - val_dense_40_mse: 6.3572e-05 - val_dense_40_mae: 0.0052 - val_dense_41_mse: 1.3632e-04 - val_dense_41_mae: 0.0078 - val_dense_42_mse: 2.5806e-04 - val_dense_42_mae: 0.0110 - val_dense_43_mse: 4.4082e-04 - val_dense_43_mae: 0.0145 - val_dense_44_mse: 7.0873e-04 - val_dense_44_mae: 0.0185\n",
            "Epoch 14/15\n",
            "427/427 [==============================] - 4s 10ms/step - loss: 0.0015 - dense_40_loss: 6.9077e-05 - dense_41_loss: 1.3204e-04 - dense_42_loss: 2.3793e-04 - dense_43_loss: 4.2449e-04 - dense_44_loss: 6.7935e-04 - dense_40_mse: 6.9077e-05 - dense_40_mae: 0.0060 - dense_41_mse: 1.3204e-04 - dense_41_mae: 0.0082 - dense_42_mse: 2.3793e-04 - dense_42_mae: 0.0109 - dense_43_mse: 4.2449e-04 - dense_43_mae: 0.0142 - dense_44_mse: 6.7935e-04 - dense_44_mae: 0.0177 - val_loss: 0.0017 - val_dense_40_loss: 8.1522e-05 - val_dense_41_loss: 1.5369e-04 - val_dense_42_loss: 2.7663e-04 - val_dense_43_loss: 4.7192e-04 - val_dense_44_loss: 7.2767e-04 - val_dense_40_mse: 8.1522e-05 - val_dense_40_mae: 0.0067 - val_dense_41_mse: 1.5369e-04 - val_dense_41_mae: 0.0086 - val_dense_42_mse: 2.7663e-04 - val_dense_42_mae: 0.0116 - val_dense_43_mse: 4.7192e-04 - val_dense_43_mae: 0.0152 - val_dense_44_mse: 7.2767e-04 - val_dense_44_mae: 0.0186\n",
            "Epoch 15/15\n",
            "427/427 [==============================] - 4s 10ms/step - loss: 0.0014 - dense_40_loss: 5.8517e-05 - dense_41_loss: 1.1753e-04 - dense_42_loss: 2.1889e-04 - dense_43_loss: 4.0138e-04 - dense_44_loss: 6.5225e-04 - dense_40_mse: 5.8517e-05 - dense_40_mae: 0.0055 - dense_41_mse: 1.1753e-04 - dense_41_mae: 0.0076 - dense_42_mse: 2.1889e-04 - dense_42_mae: 0.0103 - dense_43_mse: 4.0138e-04 - dense_43_mae: 0.0137 - dense_44_mse: 6.5225e-04 - dense_44_mae: 0.0173 - val_loss: 0.0015 - val_dense_40_loss: 5.9964e-05 - val_dense_41_loss: 1.2253e-04 - val_dense_42_loss: 2.5508e-04 - val_dense_43_loss: 4.1994e-04 - val_dense_44_loss: 6.8691e-04 - val_dense_40_mse: 5.9964e-05 - val_dense_40_mae: 0.0055 - val_dense_41_mse: 1.2253e-04 - val_dense_41_mae: 0.0073 - val_dense_42_mse: 2.5508e-04 - val_dense_42_mae: 0.0110 - val_dense_43_mse: 4.1994e-04 - val_dense_43_mae: 0.0138 - val_dense_44_mse: 6.8691e-04 - val_dense_44_mae: 0.0179\n"
          ]
        }
      ]
    },
    {
      "cell_type": "code",
      "source": [
        "from tensorflow.keras.models import Sequential, Model\n",
        "from tensorflow.keras.layers import Dense\n",
        "from tensorflow.keras.layers import LSTM, Input\n",
        "from sklearn.model_selection import GridSearchCV\n",
        "from tensorflow.keras import optimizers\n",
        "from keras.wrappers.scikit_learn import KerasClassifier\n",
        "\n",
        "\n",
        "optimizer = optimizers.Adam()\n",
        "inputs = Input(shape=(5,32))  \n",
        "x = LSTM(50,return_sequences=True, dropout=0.2)(inputs)\n",
        "x = LSTM(50, dropout=0.2)(x)\n",
        "out1 = Dense(2)(x)\n",
        "out2 = Dense(2)(x)\n",
        "out3 = Dense(2)(x)\n",
        "out4 = Dense(2)(x)\n",
        "out5 = Dense(2)(x)\n",
        "lstm_reg_dropout_model = Model(inputs,(out1,out2,out3,out4,out5))\n",
        "lstm_reg_dropout_model.compile(loss='mean_squared_error',optimizer=optimizer,metrics=['mse','mae'])"
      ],
      "metadata": {
        "id": "14MV2BhI2Lpk"
      },
      "execution_count": 59,
      "outputs": []
    },
    {
      "cell_type": "code",
      "source": [
        "\n",
        "history_drop = lstm_reg_dropout_model.fit(trainX, [trainY1, trainY2, trainY3, trainY4, trainY5], batch_size=64, epochs=15, validation_data=[validX, (validY1, validY2, validY3, validY4, validY5)])\n"
      ],
      "metadata": {
        "colab": {
          "base_uri": "https://localhost:8080/"
        },
        "id": "ie5rmjimU_5O",
        "outputId": "55400ed3-b270-4e75-8952-e0f9706b966d"
      },
      "execution_count": 60,
      "outputs": [
        {
          "output_type": "stream",
          "name": "stdout",
          "text": [
            "Epoch 1/15\n",
            "427/427 [==============================] - 9s 12ms/step - loss: 0.0603 - dense_35_loss: 0.0113 - dense_36_loss: 0.0122 - dense_37_loss: 0.0113 - dense_38_loss: 0.0124 - dense_39_loss: 0.0131 - dense_35_mse: 0.0113 - dense_35_mae: 0.0714 - dense_36_mse: 0.0122 - dense_36_mae: 0.0742 - dense_37_mse: 0.0113 - dense_37_mae: 0.0718 - dense_38_mse: 0.0124 - dense_38_mae: 0.0751 - dense_39_mse: 0.0131 - dense_39_mae: 0.0771 - val_loss: 0.0125 - val_dense_35_loss: 0.0020 - val_dense_36_loss: 0.0021 - val_dense_37_loss: 0.0025 - val_dense_38_loss: 0.0028 - val_dense_39_loss: 0.0032 - val_dense_35_mse: 0.0020 - val_dense_35_mae: 0.0343 - val_dense_36_mse: 0.0021 - val_dense_36_mae: 0.0356 - val_dense_37_mse: 0.0025 - val_dense_37_mae: 0.0378 - val_dense_38_mse: 0.0028 - val_dense_38_mae: 0.0403 - val_dense_39_mse: 0.0032 - val_dense_39_mae: 0.0426\n",
            "Epoch 2/15\n",
            "427/427 [==============================] - 4s 10ms/step - loss: 0.0226 - dense_35_loss: 0.0039 - dense_36_loss: 0.0041 - dense_37_loss: 0.0044 - dense_38_loss: 0.0048 - dense_39_loss: 0.0053 - dense_35_mse: 0.0039 - dense_35_mae: 0.0462 - dense_36_mse: 0.0041 - dense_36_mae: 0.0476 - dense_37_mse: 0.0044 - dense_37_mae: 0.0491 - dense_38_mse: 0.0048 - dense_38_mae: 0.0509 - dense_39_mse: 0.0053 - dense_39_mae: 0.0532 - val_loss: 0.0101 - val_dense_35_loss: 0.0014 - val_dense_36_loss: 0.0016 - val_dense_37_loss: 0.0019 - val_dense_38_loss: 0.0023 - val_dense_39_loss: 0.0028 - val_dense_35_mse: 0.0014 - val_dense_35_mae: 0.0284 - val_dense_36_mse: 0.0016 - val_dense_36_mae: 0.0305 - val_dense_37_mse: 0.0019 - val_dense_37_mae: 0.0332 - val_dense_38_mse: 0.0023 - val_dense_38_mae: 0.0357 - val_dense_39_mse: 0.0028 - val_dense_39_mae: 0.0393\n",
            "Epoch 3/15\n",
            "427/427 [==============================] - 4s 10ms/step - loss: 0.0189 - dense_35_loss: 0.0032 - dense_36_loss: 0.0034 - dense_37_loss: 0.0037 - dense_38_loss: 0.0041 - dense_39_loss: 0.0046 - dense_35_mse: 0.0032 - dense_35_mae: 0.0422 - dense_36_mse: 0.0034 - dense_36_mae: 0.0433 - dense_37_mse: 0.0037 - dense_37_mae: 0.0449 - dense_38_mse: 0.0041 - dense_38_mae: 0.0468 - dense_39_mse: 0.0046 - dense_39_mae: 0.0493 - val_loss: 0.0085 - val_dense_35_loss: 0.0011 - val_dense_36_loss: 0.0014 - val_dense_37_loss: 0.0016 - val_dense_38_loss: 0.0019 - val_dense_39_loss: 0.0024 - val_dense_35_mse: 0.0011 - val_dense_35_mae: 0.0260 - val_dense_36_mse: 0.0014 - val_dense_36_mae: 0.0283 - val_dense_37_mse: 0.0016 - val_dense_37_mae: 0.0307 - val_dense_38_mse: 0.0019 - val_dense_38_mae: 0.0332 - val_dense_39_mse: 0.0024 - val_dense_39_mae: 0.0364\n",
            "Epoch 4/15\n",
            "427/427 [==============================] - 4s 10ms/step - loss: 0.0143 - dense_35_loss: 0.0023 - dense_36_loss: 0.0025 - dense_37_loss: 0.0028 - dense_38_loss: 0.0031 - dense_39_loss: 0.0036 - dense_35_mse: 0.0023 - dense_35_mae: 0.0361 - dense_36_mse: 0.0025 - dense_36_mae: 0.0374 - dense_37_mse: 0.0028 - dense_37_mae: 0.0391 - dense_38_mse: 0.0031 - dense_38_mae: 0.0412 - dense_39_mse: 0.0036 - dense_39_mae: 0.0440 - val_loss: 0.0175 - val_dense_35_loss: 0.0027 - val_dense_36_loss: 0.0030 - val_dense_37_loss: 0.0035 - val_dense_38_loss: 0.0039 - val_dense_39_loss: 0.0044 - val_dense_35_mse: 0.0027 - val_dense_35_mae: 0.0400 - val_dense_36_mse: 0.0030 - val_dense_36_mae: 0.0421 - val_dense_37_mse: 0.0035 - val_dense_37_mae: 0.0453 - val_dense_38_mse: 0.0039 - val_dense_38_mae: 0.0475 - val_dense_39_mse: 0.0044 - val_dense_39_mae: 0.0502\n",
            "Epoch 5/15\n",
            "427/427 [==============================] - 4s 10ms/step - loss: 0.0102 - dense_35_loss: 0.0015 - dense_36_loss: 0.0017 - dense_37_loss: 0.0019 - dense_38_loss: 0.0023 - dense_39_loss: 0.0028 - dense_35_mse: 0.0015 - dense_35_mae: 0.0296 - dense_36_mse: 0.0017 - dense_36_mae: 0.0310 - dense_37_mse: 0.0019 - dense_37_mae: 0.0331 - dense_38_mse: 0.0023 - dense_38_mae: 0.0355 - dense_39_mse: 0.0028 - dense_39_mae: 0.0386 - val_loss: 0.0391 - val_dense_35_loss: 0.0066 - val_dense_36_loss: 0.0070 - val_dense_37_loss: 0.0079 - val_dense_38_loss: 0.0085 - val_dense_39_loss: 0.0092 - val_dense_35_mse: 0.0066 - val_dense_35_mae: 0.0631 - val_dense_36_mse: 0.0070 - val_dense_36_mae: 0.0644 - val_dense_37_mse: 0.0079 - val_dense_37_mae: 0.0676 - val_dense_38_mse: 0.0085 - val_dense_38_mae: 0.0708 - val_dense_39_mse: 0.0092 - val_dense_39_mae: 0.0726\n",
            "Epoch 6/15\n",
            "427/427 [==============================] - 4s 10ms/step - loss: 0.0087 - dense_35_loss: 0.0012 - dense_36_loss: 0.0014 - dense_37_loss: 0.0017 - dense_38_loss: 0.0020 - dense_39_loss: 0.0025 - dense_35_mse: 0.0012 - dense_35_mae: 0.0268 - dense_36_mse: 0.0014 - dense_36_mae: 0.0285 - dense_37_mse: 0.0017 - dense_37_mae: 0.0307 - dense_38_mse: 0.0020 - dense_38_mae: 0.0333 - dense_39_mse: 0.0025 - dense_39_mae: 0.0364 - val_loss: 0.0366 - val_dense_35_loss: 0.0066 - val_dense_36_loss: 0.0068 - val_dense_37_loss: 0.0073 - val_dense_38_loss: 0.0078 - val_dense_39_loss: 0.0082 - val_dense_35_mse: 0.0066 - val_dense_35_mae: 0.0669 - val_dense_36_mse: 0.0068 - val_dense_36_mae: 0.0667 - val_dense_37_mse: 0.0073 - val_dense_37_mae: 0.0691 - val_dense_38_mse: 0.0078 - val_dense_38_mae: 0.0709 - val_dense_39_mse: 0.0082 - val_dense_39_mae: 0.0715\n",
            "Epoch 7/15\n",
            "427/427 [==============================] - 4s 10ms/step - loss: 0.0080 - dense_35_loss: 0.0011 - dense_36_loss: 0.0013 - dense_37_loss: 0.0015 - dense_38_loss: 0.0018 - dense_39_loss: 0.0023 - dense_35_mse: 0.0011 - dense_35_mae: 0.0255 - dense_36_mse: 0.0013 - dense_36_mae: 0.0271 - dense_37_mse: 0.0015 - dense_37_mae: 0.0294 - dense_38_mse: 0.0018 - dense_38_mae: 0.0321 - dense_39_mse: 0.0023 - dense_39_mae: 0.0352 - val_loss: 0.0328 - val_dense_35_loss: 0.0058 - val_dense_36_loss: 0.0062 - val_dense_37_loss: 0.0065 - val_dense_38_loss: 0.0069 - val_dense_39_loss: 0.0074 - val_dense_35_mse: 0.0058 - val_dense_35_mae: 0.0618 - val_dense_36_mse: 0.0062 - val_dense_36_mae: 0.0639 - val_dense_37_mse: 0.0065 - val_dense_37_mae: 0.0641 - val_dense_38_mse: 0.0069 - val_dense_38_mae: 0.0661 - val_dense_39_mse: 0.0074 - val_dense_39_mae: 0.0682\n",
            "Epoch 8/15\n",
            "427/427 [==============================] - 4s 10ms/step - loss: 0.0073 - dense_35_loss: 9.7663e-04 - dense_36_loss: 0.0011 - dense_37_loss: 0.0014 - dense_38_loss: 0.0017 - dense_39_loss: 0.0021 - dense_35_mse: 9.7663e-04 - dense_35_mae: 0.0240 - dense_36_mse: 0.0011 - dense_36_mae: 0.0257 - dense_37_mse: 0.0014 - dense_37_mae: 0.0279 - dense_38_mse: 0.0017 - dense_38_mae: 0.0306 - dense_39_mse: 0.0021 - dense_39_mae: 0.0338 - val_loss: 0.0358 - val_dense_35_loss: 0.0063 - val_dense_36_loss: 0.0068 - val_dense_37_loss: 0.0070 - val_dense_38_loss: 0.0075 - val_dense_39_loss: 0.0081 - val_dense_35_mse: 0.0063 - val_dense_35_mae: 0.0659 - val_dense_36_mse: 0.0068 - val_dense_36_mae: 0.0676 - val_dense_37_mse: 0.0070 - val_dense_37_mae: 0.0685 - val_dense_38_mse: 0.0075 - val_dense_38_mae: 0.0698 - val_dense_39_mse: 0.0081 - val_dense_39_mae: 0.0719\n",
            "Epoch 9/15\n",
            "427/427 [==============================] - 4s 10ms/step - loss: 0.0070 - dense_35_loss: 9.1996e-04 - dense_36_loss: 0.0011 - dense_37_loss: 0.0013 - dense_38_loss: 0.0016 - dense_39_loss: 0.0021 - dense_35_mse: 9.1996e-04 - dense_35_mae: 0.0232 - dense_36_mse: 0.0011 - dense_36_mae: 0.0249 - dense_37_mse: 0.0013 - dense_37_mae: 0.0272 - dense_38_mse: 0.0016 - dense_38_mae: 0.0299 - dense_39_mse: 0.0021 - dense_39_mae: 0.0331 - val_loss: 0.0341 - val_dense_35_loss: 0.0063 - val_dense_36_loss: 0.0065 - val_dense_37_loss: 0.0068 - val_dense_38_loss: 0.0070 - val_dense_39_loss: 0.0075 - val_dense_35_mse: 0.0063 - val_dense_35_mae: 0.0642 - val_dense_36_mse: 0.0065 - val_dense_36_mae: 0.0648 - val_dense_37_mse: 0.0068 - val_dense_37_mae: 0.0653 - val_dense_38_mse: 0.0070 - val_dense_38_mae: 0.0662 - val_dense_39_mse: 0.0075 - val_dense_39_mae: 0.0673\n",
            "Epoch 10/15\n",
            "427/427 [==============================] - 4s 10ms/step - loss: 0.0068 - dense_35_loss: 8.9058e-04 - dense_36_loss: 0.0010 - dense_37_loss: 0.0013 - dense_38_loss: 0.0016 - dense_39_loss: 0.0020 - dense_35_mse: 8.9058e-04 - dense_35_mae: 0.0229 - dense_36_mse: 0.0010 - dense_36_mae: 0.0245 - dense_37_mse: 0.0013 - dense_37_mae: 0.0268 - dense_38_mse: 0.0016 - dense_38_mae: 0.0294 - dense_39_mse: 0.0020 - dense_39_mae: 0.0326 - val_loss: 0.0330 - val_dense_35_loss: 0.0059 - val_dense_36_loss: 0.0064 - val_dense_37_loss: 0.0065 - val_dense_38_loss: 0.0069 - val_dense_39_loss: 0.0074 - val_dense_35_mse: 0.0059 - val_dense_35_mae: 0.0625 - val_dense_36_mse: 0.0064 - val_dense_36_mae: 0.0644 - val_dense_37_mse: 0.0065 - val_dense_37_mae: 0.0645 - val_dense_38_mse: 0.0069 - val_dense_38_mae: 0.0663 - val_dense_39_mse: 0.0074 - val_dense_39_mae: 0.0672\n",
            "Epoch 11/15\n",
            "427/427 [==============================] - 4s 10ms/step - loss: 0.0065 - dense_35_loss: 8.3296e-04 - dense_36_loss: 9.8452e-04 - dense_37_loss: 0.0012 - dense_38_loss: 0.0015 - dense_39_loss: 0.0019 - dense_35_mse: 8.3296e-04 - dense_35_mae: 0.0221 - dense_36_mse: 9.8452e-04 - dense_36_mae: 0.0238 - dense_37_mse: 0.0012 - dense_37_mae: 0.0261 - dense_38_mse: 0.0015 - dense_38_mae: 0.0288 - dense_39_mse: 0.0019 - dense_39_mae: 0.0320 - val_loss: 0.0422 - val_dense_35_loss: 0.0080 - val_dense_36_loss: 0.0081 - val_dense_37_loss: 0.0085 - val_dense_38_loss: 0.0088 - val_dense_39_loss: 0.0088 - val_dense_35_mse: 0.0080 - val_dense_35_mae: 0.0710 - val_dense_36_mse: 0.0081 - val_dense_36_mae: 0.0721 - val_dense_37_mse: 0.0085 - val_dense_37_mae: 0.0727 - val_dense_38_mse: 0.0088 - val_dense_38_mae: 0.0742 - val_dense_39_mse: 0.0088 - val_dense_39_mae: 0.0734\n",
            "Epoch 12/15\n",
            "427/427 [==============================] - 4s 10ms/step - loss: 0.0061 - dense_35_loss: 7.6887e-04 - dense_36_loss: 9.1183e-04 - dense_37_loss: 0.0011 - dense_38_loss: 0.0014 - dense_39_loss: 0.0018 - dense_35_mse: 7.6887e-04 - dense_35_mae: 0.0212 - dense_36_mse: 9.1183e-04 - dense_36_mae: 0.0228 - dense_37_mse: 0.0011 - dense_37_mae: 0.0251 - dense_38_mse: 0.0014 - dense_38_mae: 0.0278 - dense_39_mse: 0.0018 - dense_39_mae: 0.0310 - val_loss: 0.0378 - val_dense_35_loss: 0.0070 - val_dense_36_loss: 0.0070 - val_dense_37_loss: 0.0073 - val_dense_38_loss: 0.0078 - val_dense_39_loss: 0.0086 - val_dense_35_mse: 0.0070 - val_dense_35_mae: 0.0679 - val_dense_36_mse: 0.0070 - val_dense_36_mae: 0.0674 - val_dense_37_mse: 0.0073 - val_dense_37_mae: 0.0680 - val_dense_38_mse: 0.0078 - val_dense_38_mae: 0.0703 - val_dense_39_mse: 0.0086 - val_dense_39_mae: 0.0727\n",
            "Epoch 13/15\n",
            "427/427 [==============================] - 4s 10ms/step - loss: 0.0059 - dense_35_loss: 7.2952e-04 - dense_36_loss: 8.7193e-04 - dense_37_loss: 0.0011 - dense_38_loss: 0.0014 - dense_39_loss: 0.0018 - dense_35_mse: 7.2952e-04 - dense_35_mae: 0.0205 - dense_36_mse: 8.7193e-04 - dense_36_mae: 0.0222 - dense_37_mse: 0.0011 - dense_37_mae: 0.0245 - dense_38_mse: 0.0014 - dense_38_mae: 0.0272 - dense_39_mse: 0.0018 - dense_39_mae: 0.0304 - val_loss: 0.0412 - val_dense_35_loss: 0.0078 - val_dense_36_loss: 0.0079 - val_dense_37_loss: 0.0083 - val_dense_38_loss: 0.0086 - val_dense_39_loss: 0.0087 - val_dense_35_mse: 0.0078 - val_dense_35_mae: 0.0732 - val_dense_36_mse: 0.0079 - val_dense_36_mae: 0.0739 - val_dense_37_mse: 0.0083 - val_dense_37_mae: 0.0751 - val_dense_38_mse: 0.0086 - val_dense_38_mae: 0.0761 - val_dense_39_mse: 0.0087 - val_dense_39_mae: 0.0756\n",
            "Epoch 14/15\n",
            "427/427 [==============================] - 4s 10ms/step - loss: 0.0056 - dense_35_loss: 6.8147e-04 - dense_36_loss: 8.2356e-04 - dense_37_loss: 0.0010 - dense_38_loss: 0.0013 - dense_39_loss: 0.0017 - dense_35_mse: 6.8147e-04 - dense_35_mae: 0.0199 - dense_36_mse: 8.2356e-04 - dense_36_mae: 0.0216 - dense_37_mse: 0.0010 - dense_37_mae: 0.0239 - dense_38_mse: 0.0013 - dense_38_mae: 0.0266 - dense_39_mse: 0.0017 - dense_39_mae: 0.0299 - val_loss: 0.0419 - val_dense_35_loss: 0.0082 - val_dense_36_loss: 0.0082 - val_dense_37_loss: 0.0085 - val_dense_38_loss: 0.0086 - val_dense_39_loss: 0.0084 - val_dense_35_mse: 0.0082 - val_dense_35_mae: 0.0748 - val_dense_36_mse: 0.0082 - val_dense_36_mae: 0.0751 - val_dense_37_mse: 0.0085 - val_dense_37_mae: 0.0754 - val_dense_38_mse: 0.0086 - val_dense_38_mae: 0.0756 - val_dense_39_mse: 0.0084 - val_dense_39_mae: 0.0743\n",
            "Epoch 15/15\n",
            "427/427 [==============================] - 4s 10ms/step - loss: 0.0054 - dense_35_loss: 6.5786e-04 - dense_36_loss: 7.9239e-04 - dense_37_loss: 9.9550e-04 - dense_38_loss: 0.0013 - dense_39_loss: 0.0017 - dense_35_mse: 6.5786e-04 - dense_35_mae: 0.0194 - dense_36_mse: 7.9239e-04 - dense_36_mae: 0.0211 - dense_37_mse: 9.9550e-04 - dense_37_mae: 0.0234 - dense_38_mse: 0.0013 - dense_38_mae: 0.0261 - dense_39_mse: 0.0017 - dense_39_mae: 0.0294 - val_loss: 0.0370 - val_dense_35_loss: 0.0073 - val_dense_36_loss: 0.0073 - val_dense_37_loss: 0.0073 - val_dense_38_loss: 0.0074 - val_dense_39_loss: 0.0078 - val_dense_35_mse: 0.0073 - val_dense_35_mae: 0.0737 - val_dense_36_mse: 0.0073 - val_dense_36_mae: 0.0723 - val_dense_37_mse: 0.0073 - val_dense_37_mae: 0.0723 - val_dense_38_mse: 0.0074 - val_dense_38_mae: 0.0722 - val_dense_39_mse: 0.0078 - val_dense_39_mae: 0.0729\n"
          ]
        }
      ]
    },
    {
      "cell_type": "code",
      "source": [
        "from tensorflow.keras.models import Sequential, Model\n",
        "from tensorflow.keras.layers import Dense\n",
        "from tensorflow.keras.layers import LSTM, Input\n",
        "from sklearn.model_selection import GridSearchCV\n",
        "from tensorflow.keras import optimizers\n",
        "from keras.wrappers.scikit_learn import KerasClassifier\n",
        "\n",
        "\n",
        "def build_classifier(optimizer=optimizers.RMSprop(clipvalue=0.2)):\n",
        "  inputs = Input(shape=(5,32))  \n",
        "  x = LSTM(50)(inputs)\n",
        "  out1 = Dense(2)(x)\n",
        "  model = Model(inputs,(out1))\n",
        "  model.compile(loss='mean_squared_error',optimizer=optimizer,metrics=['accuracy'])\n",
        "  return model"
      ],
      "metadata": {
        "id": "e7WUPD5FW8Qr"
      },
      "execution_count": 61,
      "outputs": []
    },
    {
      "cell_type": "code",
      "source": [
        "\n",
        "epoch_values = [15, 20, 25]\n",
        "batches = [32, 64]\n",
        "optimizers = ['rmsprop', 'adam', 'SGD']\n",
        "\n",
        "\n",
        "# Create hyperparameter options\n",
        "hyperparameters = dict(\n",
        "    epochs=epoch_values, \n",
        "    batch_size=batches, \n",
        "    optimizer=optimizers)\n",
        "model1 = KerasClassifier(build_fn=build_classifier, verbose=0)\n",
        "param_grid = dict(optimizer=optimizer)\n",
        "grid = GridSearchCV(estimator=model1, param_grid=hyperparameters)\n",
        "grid_result = grid.fit(trainX,trainY1)"
      ],
      "metadata": {
        "colab": {
          "base_uri": "https://localhost:8080/"
        },
        "id": "S7dFLgERuJFF",
        "outputId": "6dcbf0a6-a254-496e-83da-7ecde6034524"
      },
      "execution_count": 53,
      "outputs": [
        {
          "output_type": "stream",
          "name": "stderr",
          "text": [
            "/usr/local/lib/python3.7/dist-packages/ipykernel_launcher.py:12: DeprecationWarning: KerasClassifier is deprecated, use Sci-Keras (https://github.com/adriangb/scikeras) instead. See https://www.adriangb.com/scikeras/stable/migration.html for help migrating.\n",
            "  if sys.path[0] == '':\n"
          ]
        }
      ]
    },
    {
      "cell_type": "code",
      "source": [
        "print(grid.best_params_)"
      ],
      "metadata": {
        "colab": {
          "base_uri": "https://localhost:8080/"
        },
        "id": "rDnTi1Sf2sTs",
        "outputId": "02a672a3-fe9c-46c2-c61b-103d1a89252c"
      },
      "execution_count": 54,
      "outputs": [
        {
          "output_type": "stream",
          "name": "stdout",
          "text": [
            "{'batch_size': 64, 'epochs': 15, 'optimizer': 'SGD'}\n"
          ]
        }
      ]
    },
    {
      "cell_type": "markdown",
      "source": [
        "In following texts average loss is calculated, for this we take the required losses from the history which can be found in the logs while fitting the models."
      ],
      "metadata": {
        "id": "3YM8X5flU-Kb"
      }
    },
    {
      "cell_type": "code",
      "source": [
        "mse_val = (np.asarray(history.history['val_dense_25_mse'])+np.asarray(history.history['val_dense_26_mse'])+np.asarray(history.history['val_dense_27_mse'])+np.asarray(history.history['val_dense_28_mse'])+np.asarray(history.history['val_dense_29_mse']))/5\n",
        "mse = (np.asarray(history.history['dense_25_mse'])+np.asarray(history.history['dense_26_mse'])+np.asarray(history.history['dense_27_mse'])+np.asarray(history.history['dense_28_mse'])+np.asarray(history.history['dense_29_mse']))/5"
      ],
      "metadata": {
        "id": "h55kwHZcCmhz"
      },
      "execution_count": 62,
      "outputs": []
    },
    {
      "cell_type": "code",
      "source": [
        "l1, = plt.plot(mse_val)\n",
        "l2, = plt.plot(mse)\n",
        "plt.legend([l1, l2], ['val','train'])\n",
        "plt.xlabel(\"epochs\")\n",
        "plt.ylabel(\"mse loss\")\n",
        "plt.title(\"rms_prop mse train vs val\")\n",
        "plt.savefig(\"sample_data/rmsprop.png\")"
      ],
      "metadata": {
        "colab": {
          "base_uri": "https://localhost:8080/",
          "height": 295
        },
        "id": "QMStBAIgDxuJ",
        "outputId": "4473291c-66ba-441e-bcdf-b293394c90db"
      },
      "execution_count": 63,
      "outputs": [
        {
          "output_type": "display_data",
          "data": {
            "text/plain": [
              "<Figure size 432x288 with 1 Axes>"
            ],
            "image/png": "[encoded data removed]"
          },
          "metadata": {
            "needs_background": "light"
          }
        }
      ]
    },
    {
      "cell_type": "code",
      "source": [
        "mse_val = (np.asarray(history_adam.history['val_dense_5_mse'])+np.asarray(history_adam.history['val_dense_6_mse'])+np.asarray(history_adam.history['val_dense_7_mse'])+np.asarray(history_adam.history['val_dense_8_mse'])+np.asarray(history_adam.history['val_dense_9_mse']))/5\n",
        "mse = (np.asarray(history_adam.history['dense_5_mse'])+np.asarray(history_adam.history['dense_6_mse'])+np.asarray(history_adam.history['dense_7_mse'])+np.asarray(history_adam.history['dense_8_mse'])+np.asarray(history_adam.history['dense_9_mse']))/5"
      ],
      "metadata": {
        "id": "IOk1k5dTJrYJ"
      },
      "execution_count": 74,
      "outputs": []
    },
    {
      "cell_type": "code",
      "source": [
        "l1, = plt.plot(mse_val)\n",
        "l2, = plt.plot(mse)\n",
        "plt.legend([l1, l2], ['val','train'])\n",
        "plt.xlabel(\"epochs\")\n",
        "plt.ylabel(\"mse loss\")\n",
        "plt.title(\"adam mse train vs val\")\n",
        "plt.savefig(\"sample_data/adam.png\")"
      ],
      "metadata": {
        "colab": {
          "base_uri": "https://localhost:8080/",
          "height": 295
        },
        "id": "6lDzlLUzD4iI",
        "outputId": "a17a14e2-e1cc-4281-ca3a-52cb6f0056df"
      },
      "execution_count": 75,
      "outputs": [
        {
          "output_type": "display_data",
          "data": {
            "text/plain": [
              "<Figure size 432x288 with 1 Axes>"
            ],
            "image/png": "[encoded data removed]"
          },
          "metadata": {
            "needs_background": "light"
          }
        }
      ]
    },
    {
      "cell_type": "code",
      "source": [
        "mse_val = (np.asarray(history_sgd.history['val_dense_20_mse'])+np.asarray(history_sgd.history['val_dense_21_mse'])+np.asarray(history_sgd.history['val_dense_22_mse'])+np.asarray(history_sgd.history['val_dense_23_mse'])+np.asarray(history_sgd.history['val_dense_24_mse']))/5\n",
        "mse = (np.asarray(history_sgd.history['dense_20_mse'])+np.asarray(history_sgd.history['dense_21_mse'])+np.asarray(history_sgd.history['dense_22_mse'])+np.asarray(history_sgd.history['dense_23_mse'])+np.asarray(history_sgd.history['dense_24_mse']))/5"
      ],
      "metadata": {
        "id": "NK3U6kdvQYYp"
      },
      "execution_count": 66,
      "outputs": []
    },
    {
      "cell_type": "code",
      "source": [
        "l1, = plt.plot(mse_val)\n",
        "l2, = plt.plot(mse)\n",
        "plt.legend([l1, l2], ['val','train'])\n",
        "plt.xlabel(\"epochs\")\n",
        "plt.ylabel(\"mse loss\")\n",
        "plt.title(\"sgd mse train vs val\")\n",
        "plt.savefig(\"sample_data/sgd.png\")"
      ],
      "metadata": {
        "colab": {
          "base_uri": "https://localhost:8080/",
          "height": 295
        },
        "id": "m6RAlcUKRb-r",
        "outputId": "bd9ea902-e68f-439a-ad31-e1dcf6e533fd"
      },
      "execution_count": 67,
      "outputs": [
        {
          "output_type": "display_data",
          "data": {
            "text/plain": [
              "<Figure size 432x288 with 1 Axes>"
            ],
            "image/png": "[encoded data removed]"
          },
          "metadata": {
            "needs_background": "light"
          }
        }
      ]
    },
    {
      "cell_type": "code",
      "source": [
        "mse_val = (np.asarray(history_drop.history['val_dense_35_mse'])+np.asarray(history_drop.history['val_dense_36_mse'])+np.asarray(history_drop.history['val_dense_37_mse'])+np.asarray(history_drop.history['val_dense_38_mse'])+np.asarray(history_drop.history['val_dense_39_mse']))/5\n",
        "mse = (np.asarray(history_drop.history['dense_35_mse'])+np.asarray(history_drop.history['dense_36_mse'])+np.asarray(history_drop.history['dense_37_mse'])+np.asarray(history_drop.history['dense_38_mse'])+np.asarray(history_drop.history['dense_39_mse']))/5"
      ],
      "metadata": {
        "id": "uCp4Hrt3kVUV"
      },
      "execution_count": 68,
      "outputs": []
    },
    {
      "cell_type": "code",
      "source": [
        "l1, = plt.plot(mse_val)\n",
        "l2, = plt.plot(mse)\n",
        "plt.legend([l1, l2], ['val','train'])\n",
        "plt.xlabel(\"epochs\")\n",
        "plt.ylabel(\"mse loss\")\n",
        "plt.title(\"dropout mse train vs val\")\n",
        "plt.savefig(\"sample_data/dropout.png\")"
      ],
      "metadata": {
        "colab": {
          "base_uri": "https://localhost:8080/",
          "height": 295
        },
        "id": "4CltmB9rlnrr",
        "outputId": "0eb18691-37c9-4076-b579-4c0a853441da"
      },
      "execution_count": 69,
      "outputs": [
        {
          "output_type": "display_data",
          "data": {
            "text/plain": [
              "<Figure size 432x288 with 1 Axes>"
            ],
            "image/png": "[encoded data removed]"
          },
          "metadata": {
            "needs_background": "light"
          }
        }
      ]
    },
    {
      "cell_type": "code",
      "source": [
        "mse_val = (np.asarray(history_orig.history['val_dense_40_mse'])+np.asarray(history_orig.history['val_dense_41_mse'])+np.asarray(history_orig.history['val_dense_42_mse'])+np.asarray(history_orig.history['val_dense_43_mse'])+np.asarray(history_orig.history['val_dense_44_mse']))/5\n",
        "mse = (np.asarray(history_orig.history['dense_40_mse'])+np.asarray(history_orig.history['dense_41_mse'])+np.asarray(history_orig.history['dense_42_mse'])+np.asarray(history_orig.history['dense_43_mse'])+np.asarray(history_orig.history['dense_44_mse']))/5\n"
      ],
      "metadata": {
        "id": "ceTxrrPvmTVf"
      },
      "execution_count": 79,
      "outputs": []
    },
    {
      "cell_type": "code",
      "source": [
        "l1, = plt.plot(mse_val)\n",
        "l2, = plt.plot(mse)\n",
        "plt.legend([l1, l2], ['val','train'])\n",
        "plt.title(\"original features mse train vs val\")\n",
        "plt.xlabel(\"epochs\")\n",
        "plt.ylabel(\"mse loss\")\n",
        "plt.savefig(\"sample_data/original_features.png\")"
      ],
      "metadata": {
        "colab": {
          "base_uri": "https://localhost:8080/",
          "height": 295
        },
        "id": "3BXMU8okmRY8",
        "outputId": "9bce5c6b-bd38-47c6-d7d2-cf2cc42eea97"
      },
      "execution_count": 80,
      "outputs": [
        {
          "output_type": "display_data",
          "data": {
            "text/plain": [
              "<Figure size 432x288 with 1 Axes>"
            ],
            "image/png": "[encoded data removed]"
          },
          "metadata": {
            "needs_background": "light"
          }
        }
      ]
    },
    {
      "cell_type": "markdown",
      "source": [
        "The following is used to calculate error between the predicted and actual values in kms."
      ],
      "metadata": {
        "id": "andQDrpdZ5HR"
      }
    },
    {
      "cell_type": "code",
      "source": [
        "from math import cos, asin, sqrt, pi\n",
        "def mse_error(pred, orig):\n",
        "  res = 0.0\n",
        "  res_array = []\n",
        "  lat1 = []\n",
        "  lat2 = []\n",
        "  lon1 = []\n",
        "  lon2 = []\n",
        "  print(len(pred),len(orig))\n",
        "  for i in range(len(pred)):\n",
        "    px, py = lamb.cartesian2geographic(pred[i][0]*lcc_x+lcc_x_min, pred[i][1]*lcc_y+lcc_y_min)\n",
        "    ox, oy = lamb.cartesian2geographic(orig[i][0]*lcc_x+lcc_x_min, orig[i][1]*lcc_y+lcc_y_min)\n",
        "    lat1.append(px)\n",
        "    lon1.append(py)\n",
        "    lat2.append(ox)\n",
        "    lon2.append(oy)\n",
        "    p = pi/180\n",
        "    a = 0.5- cos((ox-px)*p)/2 + cos(px*p)*cos(ox*p)*(1-cos((oy-py)*p))/2\n",
        "    rs = 12742/2*asin(sqrt(a))\n",
        "    res += rs\n",
        "    res_array.append(rs)\n",
        "  return res/len(pred),res_array, lat1, lon1, lat2, lon2\n"
      ],
      "metadata": {
        "id": "-AMUtYOH--0B"
      },
      "execution_count": 41,
      "outputs": []
    },
    {
      "cell_type": "markdown",
      "source": [
        "The following function is use to plot the error for 10 different storms. The results for individual storms is saved. "
      ],
      "metadata": {
        "id": "YuG8v_8qaOBt"
      }
    },
    {
      "cell_type": "code",
      "source": [
        "import matplotlib\n",
        "def plot_storm(test_storm, ij, model):\n",
        "  stestX, stestY1, stestY2, stestY3, stestY4, stestY5 = [], [], [], [], [], []\n",
        "\n",
        "  for i in range(len(test_storm)-10-1):\n",
        "      x = test_storm.iloc[i:(i+10), 2:]\n",
        "      if len(x)<10:\n",
        "        break\n",
        "      stestX.append(x.iloc[:-5,:])\n",
        "      stestY1.append(x.iloc[-5,[x.columns.get_loc('lcc_x'),x.columns.get_loc('lcc_y')]])\n",
        "      stestY2.append(x.iloc[-4,[x.columns.get_loc('lcc_x'),x.columns.get_loc('lcc_y')]])\n",
        "      stestY3.append(x.iloc[-3,[x.columns.get_loc('lcc_x'),x.columns.get_loc('lcc_y')]])\n",
        "      stestY4.append(x.iloc[-2,[x.columns.get_loc('lcc_x'),x.columns.get_loc('lcc_y')]])\n",
        "      stestY5.append(x.iloc[-1,[x.columns.get_loc('lcc_x'),x.columns.get_loc('lcc_y')]])\n",
        "  stestX = np.array(stestX).astype('float32')\n",
        "  stestY1 =  np.array(stestY1).astype('float32')\n",
        "  stestY2 =  np.array(stestY2).astype('float32')\n",
        "  stestY3 =  np.array(stestY3).astype('float32')\n",
        "  stestY4 =  np.array(stestY4).astype('float32')\n",
        "  stestY5 =  np.array(stestY5).astype('float32')\n",
        "\n",
        "  out1= model.predict(stestX)\n",
        "  len(out1[0])\n",
        "  result = []\n",
        "\n",
        "  for ar in out1:\n",
        "    result.extend(ar[::5])\n",
        "\n",
        "  orig = []\n",
        "  for i in range(0,len(out1[0]),5):\n",
        "    orig.append(stestY1[i])\n",
        "    orig.append(stestY2[i])\n",
        "    orig.append(stestY3[i])\n",
        "    orig.append(stestY4[i])\n",
        "    orig.append(stestY5[i])\n",
        " \n",
        "  err, array, lat1, lon1, lat2, lon2 = mse_error(result, orig)\n",
        "  df = pd.DataFrame(list(zip(lat1, lon1, lat2, lon2, array)), columns=[\"lat1\",\"lon1\",\"lat2\",\"lon2\",\"err\"])\n",
        "  df.to_csv(\"storm\"+str(ij)+\".csv\")\n",
        "  plt.scatter(x=np.arange(len(array[:5])),y=array[:5], marker='o')\n",
        "  plt.title(\"storm error in kms vs timestep\")\n",
        "  plt.xlabel(\"timestep\")\n",
        "  plt.ylabel(\"err in kms\")\n",
        "  plt.savefig(\"sample_data/im\"+str(ij)+\".png\")\n",
        "  return err\n",
        "i=0\n",
        "for storm in [test_storm1, test_storm2, test_storm3,kendra, laurie, martha, twentytwo, vince, wilma, zeta]:\n",
        "  i += 1\n",
        "  print(plot_storm(storm, i, lstm_adam))"
      ],
      "metadata": {
        "colab": {
          "base_uri": "https://localhost:8080/",
          "height": 652
        },
        "id": "FOlUKhr3oHSE",
        "outputId": "bfd136b5-5a5e-4629-9ba9-193f3e10532e"
      },
      "execution_count": 42,
      "outputs": [
        {
          "output_type": "stream",
          "name": "stdout",
          "text": [
            "25 25\n",
            "4099.006873010997\n",
            "40 40\n",
            "3905.972989733452\n",
            "40 40\n",
            "3895.735483692485\n",
            "15 15\n",
            "3357.2650845093845\n",
            "30 30\n",
            "4567.251094872782\n",
            "5 5\n",
            "4297.427900732169\n",
            "15 15\n",
            "3680.2289477064737\n",
            "15 15\n",
            "3680.2289477064737\n",
            "35 35\n",
            "4295.070248103422\n",
            "25 25\n",
            "2287.545610684986\n"
          ]
        },
        {
          "output_type": "display_data",
          "data": {
            "text/plain": [
              "<Figure size 432x288 with 1 Axes>"
            ],
            "image/png": "[encoded data removed]"
          },
          "metadata": {
            "needs_background": "light"
          }
        }
      ]
    },
    {
      "cell_type": "code",
      "source": [
        "results = lstm_adam.evaluate(testX, [testY1, testY2, testY3, testY4, testY5], batch_size=128)\n",
        "print(\"test loss, test acc:\", results)"
      ],
      "metadata": {
        "colab": {
          "base_uri": "https://localhost:8080/"
        },
        "id": "K9c3dGoSgWvs",
        "outputId": "e1ff3e88-4f9d-485d-d152-d04aad65d7fb"
      },
      "execution_count": 43,
      "outputs": [
        {
          "output_type": "stream",
          "name": "stdout",
          "text": [
            "186/186 [==============================] - 6s 11ms/step - loss: 1.1582 - dense_5_loss: 0.2243 - dense_6_loss: 0.2753 - dense_7_loss: 0.1690 - dense_8_loss: 0.2911 - dense_9_loss: 0.1984 - dense_5_mse: 0.2243 - dense_5_mae: 0.4331 - dense_6_mse: 0.2753 - dense_6_mae: 0.4559 - dense_7_mse: 0.1690 - dense_7_mae: 0.3741 - dense_8_mse: 0.2911 - dense_8_mae: 0.4713 - dense_9_mse: 0.1984 - dense_9_mae: 0.3871\n",
            "test loss, test acc: [1.1581881046295166, 0.22432547807693481, 0.2753247916698456, 0.1690496951341629, 0.29111695289611816, 0.19837160408496857, 0.22432547807693481, 0.43313658237457275, 0.2753247916698456, 0.455853134393692, 0.1690496951341629, 0.3740873634815216, 0.29111695289611816, 0.47125667333602905, 0.19837160408496857, 0.3870559334754944]\n"
          ]
        }
      ]
    },
    {
      "cell_type": "code",
      "source": [
        "from keras.utils.vis_utils import plot_model\n",
        "plot_model(lstm_adam, to_file='sample_data/model_plot.png', show_shapes=True, show_layer_names=True)\n",
        "# print(model.summary())"
      ],
      "metadata": {
        "colab": {
          "base_uri": "https://localhost:8080/",
          "height": 208
        },
        "id": "6ACwIXVORCwY",
        "outputId": "f02f40fc-c544-446a-92e9-a9fecd177366"
      },
      "execution_count": 44,
      "outputs": [
        {
          "output_type": "execute_result",
          "data": {
            "text/plain": [
              "<IPython.core.display.Image object>"
            ],
            "image/png": "[encoded data removed]"
          },
          "metadata": {},
          "execution_count": 44
        }
      ]
    }
  ],
  "metadata": {
    "colab": {
      "collapsed_sections": [],
      "name": "Copy of ECE 228 Final Version",
      "provenance": []
    },
    "kernelspec": {
      "display_name": "Python 3",
      "name": "python3"
    },
    "language_info": {
      "name": "python"
    },
    "accelerator": "GPU"
  },
  "nbformat": 4,
  "nbformat_minor": 0
}